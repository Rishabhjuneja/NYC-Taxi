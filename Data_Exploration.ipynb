{
  "nbformat": 4,
  "nbformat_minor": 0,
  "metadata": {
    "colab": {
      "name": "Data Exploration.ipynb",
      "provenance": [],
      "authorship_tag": "ABX9TyMZcLpTFK69aGOlgEVegMlu",
      "include_colab_link": true
    },
    "kernelspec": {
      "name": "python3",
      "display_name": "Python 3"
    },
    "language_info": {
      "name": "python"
    }
  },
  "cells": [
    {
      "cell_type": "markdown",
      "metadata": {
        "id": "view-in-github",
        "colab_type": "text"
      },
      "source": [
        "<a href=\"https://colab.research.google.com/github/Rishabhjuneja/NYC-Taxi/blob/main/Data_Exploration.ipynb\" target=\"_parent\"><img src=\"https://colab.research.google.com/assets/colab-badge.svg\" alt=\"Open In Colab\"/></a>"
      ]
    },
    {
      "cell_type": "code",
      "metadata": {
        "id": "4l0LbpJ8uR5I"
      },
      "source": [
        "import numpy as np\n",
        "import pandas as pd\n"
      ],
      "execution_count": 5,
      "outputs": []
    },
    {
      "cell_type": "code",
      "metadata": {
        "id": "7_myL39iuku9"
      },
      "source": [
        "text=open(\"test.csv\")"
      ],
      "execution_count": 2,
      "outputs": []
    },
    {
      "cell_type": "code",
      "metadata": {
        "id": "EAd3g4Mmvtqy"
      },
      "source": [
        "test=pd.read_csv(\"test.csv\")"
      ],
      "execution_count": 6,
      "outputs": []
    },
    {
      "cell_type": "code",
      "metadata": {
        "colab": {
          "base_uri": "https://localhost:8080/"
        },
        "id": "2btU6YKjvxVg",
        "outputId": "734a70ba-8918-49fe-dbf5-63ac646dcfd2"
      },
      "source": [
        "print(test)"
      ],
      "execution_count": 7,
      "outputs": [
        {
          "output_type": "stream",
          "text": [
            "        VendorID lpep_pickup_datetime  ... Payment_type Trip_type \n",
            "0              2  2016-02-01 00:00:01  ...          2.0        1.0\n",
            "1              2  2016-02-01 00:01:33  ...          2.0        1.0\n",
            "2              2  2016-02-01 00:03:46  ...          1.0        1.0\n",
            "3              2  2016-02-01 00:00:05  ...          2.0        1.0\n",
            "4              2  2016-02-01 00:06:20  ...          2.0        1.0\n",
            "...          ...                  ...  ...          ...        ...\n",
            "538322         2  2016-02-11 22:22:00  ...          1.0        1.0\n",
            "538323         2  2016-02-11 22:33:45  ...          1.0        1.0\n",
            "538324         2  2016-02-11 22:49:27  ...          1.0        1.0\n",
            "538325         2  2016-02-11 22:00:06  ...          1.0        1.0\n",
            "538326         2                   20  ...          NaN        NaN\n",
            "\n",
            "[538327 rows x 21 columns]\n"
          ],
          "name": "stdout"
        }
      ]
    },
    {
      "cell_type": "code",
      "metadata": {
        "id": "Prl0nVyYws0F"
      },
      "source": [
        ""
      ],
      "execution_count": null,
      "outputs": []
    }
  ]
}