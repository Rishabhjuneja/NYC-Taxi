{
  "nbformat": 4,
  "nbformat_minor": 0,
  "metadata": {
    "colab": {
      "name": "exploartion pyspark.ipynb",
      "provenance": [],
      "authorship_tag": "ABX9TyNvqMmWdamtZmoQb1J8xa3C",
      "include_colab_link": true
    },
    "kernelspec": {
      "name": "python3",
      "display_name": "Python 3"
    },
    "language_info": {
      "name": "python"
    }
  },
  "cells": [
    {
      "cell_type": "markdown",
      "metadata": {
        "id": "view-in-github",
        "colab_type": "text"
      },
      "source": [
        "<a href=\"https://colab.research.google.com/github/Rishabhjuneja/NYC-Taxi/blob/main/exploartion_pyspark.ipynb\" target=\"_parent\"><img src=\"https://colab.research.google.com/assets/colab-badge.svg\" alt=\"Open In Colab\"/></a>"
      ]
    },
    {
      "cell_type": "markdown",
      "metadata": {
        "id": "ivzSDMXYj670"
      },
      "source": [
        "# Data: NYC Taxi (Green Trip data Feb 2016)\n",
        "# Questions asked:\n",
        "1. Download the data, load it into python. Report the number of rows and columns that you've loaded.\n",
        "\n",
        "2. Visualize trip distance by time of day in any way you see fit, any observations?\n",
        "\n",
        "3. What are the most popular pickup locations on weekends vs weekdays?\n",
        "\n",
        "4. Build a model to forecast the number of trips by hour for the next 12 hours after Feb 12th 10:00 am. How well did you do?\n",
        "\n",
        "\n",
        "Created By: Rishabh Juneja \n",
        "\n",
        "Date: 9th Aug 2021 \n",
        "\n",
        "Company: Gale Partners"
      ]
    },
    {
      "cell_type": "code",
      "metadata": {
        "id": "tiAAwOnU2Imt"
      },
      "source": [
        "# innstall java\n",
        "!apt-get install openjdk-8-jdk-headless -qq > /dev/null\n",
        "\n",
        "# install spark (change the version number if needed)\n",
        "!wget -q https://archive.apache.org/dist/spark/spark-3.0.0/spark-3.0.0-bin-hadoop3.2.tgz\n",
        "\n",
        "# unzip the spark file to the current folder\n",
        "!tar xf spark-3.0.0-bin-hadoop3.2.tgz\n",
        "\n",
        "!pip install -q findspark"
      ],
      "execution_count": 1,
      "outputs": []
    },
    {
      "cell_type": "code",
      "metadata": {
        "id": "Zi9THTN12Oha"
      },
      "source": [
        "import os\n",
        "os.environ[\"JAVA_HOME\"] = \"/usr/lib/jvm/java-8-openjdk-amd64\"\n",
        "os.environ[\"SPARK_HOME\"] = \"/content/spark-3.0.0-bin-hadoop3.2\""
      ],
      "execution_count": 2,
      "outputs": []
    },
    {
      "cell_type": "code",
      "metadata": {
        "id": "Mm2PG5_J3AwN"
      },
      "source": [
        "# Create spark session\n",
        "import findspark\n",
        "findspark.init()\n",
        "from pyspark.sql import SparkSession\n",
        "spark = SparkSession.builder.master(\"local[*]\").getOrCreate()"
      ],
      "execution_count": 3,
      "outputs": []
    },
    {
      "cell_type": "code",
      "metadata": {
        "colab": {
          "base_uri": "https://localhost:8080/"
        },
        "id": "lVxFxGtBh5jE",
        "outputId": "20e986e0-52ce-4c0b-f07f-fbeeafd51472"
      },
      "source": [
        "#Import Libraries\n",
        "from pyspark.sql import functions as F\n",
        "import pandas as pd\n",
        "import matplotlib.pyplot as plt\n",
        "import pandas as pd\n",
        "import matplotlib.pyplot as plt\n",
        "import numpy as np\n",
        "import seaborn as sns\n",
        "\n",
        "from datetime import datetime\n",
        "from sklearn.cluster import MiniBatchKMeans, KMeans\n",
        "import warnings\n",
        "import itertools\n",
        "import statsmodels.api as sm\n",
        "from sklearn.metrics import mean_absolute_error\n",
        "from sklearn.metrics import mean_squared_error\n",
        "import time\n",
        "import folium\n",
        "from folium import Choropleth ,  Circle, Marker\n",
        "import datetime as dt\n",
        "import xgboost as xgb\n",
        "from sklearn.datasets import load_boston\n",
        "from sklearn.model_selection import train_test_split\n",
        "from sklearn.model_selection import cross_val_score, KFold\n",
        "from sklearn.metrics import mean_squared_error\n",
        "import matplotlib.pyplot as plt "
      ],
      "execution_count": 5,
      "outputs": [
        {
          "output_type": "stream",
          "text": [
            "/usr/local/lib/python3.7/dist-packages/statsmodels/tools/_testing.py:19: FutureWarning: pandas.util.testing is deprecated. Use the functions in the public API at pandas.testing instead.\n",
            "  import pandas.util.testing as tm\n"
          ],
          "name": "stderr"
        }
      ]
    },
    {
      "cell_type": "code",
      "metadata": {
        "id": "T1eREp_Umgd9"
      },
      "source": [
        "# UDF to convert day to day type \n",
        "def time_of_day(x):\n",
        "    if x in range(6,12):\n",
        "        return 'Morning'\n",
        "    elif x in range(12,16):\n",
        "        return 'Afternoon'\n",
        "    elif x in range(16,22):\n",
        "        return 'Evening'\n",
        "    else:\n",
        "        return 'Late night'"
      ],
      "execution_count": 6,
      "outputs": []
    },
    {
      "cell_type": "code",
      "metadata": {
        "id": "0ZqCGsQh3QgN"
      },
      "source": [
        "file_loc='./green_tripdata_2016-02.csv'\n",
        "taxi_data = spark.read.csv(file_loc, inferSchema=True, header =True)"
      ],
      "execution_count": 7,
      "outputs": []
    },
    {
      "cell_type": "code",
      "metadata": {
        "colab": {
          "base_uri": "https://localhost:8080/"
        },
        "id": "bK3JW-2C3gT4",
        "outputId": "4f29f602-ffdf-4b92-c303-8c316408541f"
      },
      "source": [
        "taxi_data.show(5)"
      ],
      "execution_count": 8,
      "outputs": [
        {
          "output_type": "stream",
          "text": [
            "+--------+--------------------+---------------------+------------------+----------+------------------+------------------+------------------+------------------+---------------+-------------+-----------+-----+-------+----------+------------+---------+---------------------+------------+------------+----------+\n",
            "|VendorID|lpep_pickup_datetime|Lpep_dropoff_datetime|Store_and_fwd_flag|RateCodeID|  Pickup_longitude|   Pickup_latitude| Dropoff_longitude|  Dropoff_latitude|Passenger_count|Trip_distance|Fare_amount|Extra|MTA_tax|Tip_amount|Tolls_amount|Ehail_fee|improvement_surcharge|Total_amount|Payment_type|Trip_type |\n",
            "+--------+--------------------+---------------------+------------------+----------+------------------+------------------+------------------+------------------+---------------+-------------+-----------+-----+-------+----------+------------+---------+---------------------+------------+------------+----------+\n",
            "|       2| 2016-02-01 00:00:01|  2016-02-01 00:10:06|                 N|         1|-73.93901824951172|40.805213928222656| -73.9725341796875|40.785884857177734|              1|         2.86|       10.5|  0.5|    0.5|       0.0|         0.0|     null|                  0.3|        11.8|           2|         1|\n",
            "|       2| 2016-02-01 00:01:33|  2016-02-01 00:20:13|                 N|         1|-73.89149475097656| 40.74665069580078|-73.89087677001953|   40.743896484375|              1|         3.35|       13.0|  0.5|    0.5|       0.0|         0.0|     null|                  0.3|        14.3|           2|         1|\n",
            "|       2| 2016-02-01 00:03:46|  2016-02-01 00:21:04|                 N|         1|-73.98377990722656| 40.67613220214844|-73.95697784423828|40.718326568603516|              1|          4.7|       17.5|  0.5|    0.5|      3.76|         0.0|     null|                  0.3|       22.56|           1|         1|\n",
            "|       2| 2016-02-01 00:00:05|  2016-02-01 00:06:48|                 N|         1| -73.8075180053711|40.700374603271484|-73.83165740966797| 40.70597839355469|              1|         2.11|        8.0|  0.5|    0.5|       0.0|         0.0|     null|                  0.3|         9.3|           2|         1|\n",
            "|       2| 2016-02-01 00:06:20|  2016-02-01 00:08:47|                 N|         1|-73.90396118164062| 40.74493408203125|-73.90000915527344| 40.73360061645508|              5|         0.98|        5.0|  0.5|    0.5|       0.0|         0.0|     null|                  0.3|         6.3|           2|         1|\n",
            "+--------+--------------------+---------------------+------------------+----------+------------------+------------------+------------------+------------------+---------------+-------------+-----------+-----+-------+----------+------------+---------+---------------------+------------+------------+----------+\n",
            "only showing top 5 rows\n",
            "\n"
          ],
          "name": "stdout"
        }
      ]
    },
    {
      "cell_type": "code",
      "metadata": {
        "colab": {
          "base_uri": "https://localhost:8080/"
        },
        "id": "4hqJjKoy4OiT",
        "outputId": "1c6fc80d-162a-49a4-c6cc-21b5e3655f4a"
      },
      "source": [
        "# check number of rows & Coloums \n",
        "\n",
        "print((taxi_data.count(), len(taxi_data.columns)))"
      ],
      "execution_count": 9,
      "outputs": [
        {
          "output_type": "stream",
          "text": [
            "(1510722, 21)\n"
          ],
          "name": "stdout"
        }
      ]
    },
    {
      "cell_type": "code",
      "metadata": {
        "colab": {
          "base_uri": "https://localhost:8080/"
        },
        "id": "UWc_Jkm4hAhC",
        "outputId": "3a9e8fb9-837a-404a-8e25-f3810261cd8d"
      },
      "source": [
        "# Check any missing values \n",
        "\n",
        "from pyspark.sql.functions import lit\n",
        "\n",
        "rows = taxi_data.count()\n",
        "summary = taxi_data.describe().filter(F.col(\"summary\") == \"count\")\n",
        "summary.select(*((F.lit(rows)-F.col(c)).alias(c) for c in taxi_data.columns)).show()"
      ],
      "execution_count": 10,
      "outputs": [
        {
          "output_type": "stream",
          "text": [
            "+--------+--------------------+---------------------+------------------+----------+----------------+---------------+-----------------+----------------+---------------+-------------+-----------+-----+-------+----------+------------+---------+---------------------+------------+------------+----------+\n",
            "|VendorID|lpep_pickup_datetime|Lpep_dropoff_datetime|Store_and_fwd_flag|RateCodeID|Pickup_longitude|Pickup_latitude|Dropoff_longitude|Dropoff_latitude|Passenger_count|Trip_distance|Fare_amount|Extra|MTA_tax|Tip_amount|Tolls_amount|Ehail_fee|improvement_surcharge|Total_amount|Payment_type|Trip_type |\n",
            "+--------+--------------------+---------------------+------------------+----------+----------------+---------------+-----------------+----------------+---------------+-------------+-----------+-----+-------+----------+------------+---------+---------------------+------------+------------+----------+\n",
            "|     0.0|                 0.0|                  0.0|               0.0|       0.0|             0.0|            0.0|              0.0|             0.0|            0.0|          0.0|        0.0|  0.0|    0.0|       0.0|         0.0|1510722.0|                  0.0|         0.0|         0.0|       2.0|\n",
            "+--------+--------------------+---------------------+------------------+----------+----------------+---------------+-----------------+----------------+---------------+-------------+-----------+-----+-------+----------+------------+---------+---------------------+------------+------------+----------+\n",
            "\n"
          ],
          "name": "stdout"
        }
      ]
    },
    {
      "cell_type": "markdown",
      "metadata": {
        "id": "IxHKvRuLkzU6"
      },
      "source": [
        "Insights: There is no Missing values in dataset "
      ]
    },
    {
      "cell_type": "code",
      "metadata": {
        "colab": {
          "base_uri": "https://localhost:8080/"
        },
        "id": "bl7GPaj7hiyA",
        "outputId": "c55e91de-799f-4ee2-814b-d917fbfef0c3"
      },
      "source": [
        "# Descriptive Statistics\n",
        "\n",
        "taxi_data.describe().show()\n",
        " "
      ],
      "execution_count": null,
      "outputs": [
        {
          "output_type": "stream",
          "text": [
            "+-------+-------------------+--------------------+---------------------+------------------+------------------+-------------------+------------------+-------------------+------------------+-----------------+------------------+------------------+-------------------+-------------------+------------------+-------------------+---------+---------------------+------------------+------------------+-------------------+\n",
            "|summary|           VendorID|lpep_pickup_datetime|Lpep_dropoff_datetime|Store_and_fwd_flag|        RateCodeID|   Pickup_longitude|   Pickup_latitude|  Dropoff_longitude|  Dropoff_latitude|  Passenger_count|     Trip_distance|       Fare_amount|              Extra|            MTA_tax|        Tip_amount|       Tolls_amount|Ehail_fee|improvement_surcharge|      Total_amount|      Payment_type|         Trip_type |\n",
            "+-------+-------------------+--------------------+---------------------+------------------+------------------+-------------------+------------------+-------------------+------------------+-----------------+------------------+------------------+-------------------+-------------------+------------------+-------------------+---------+---------------------+------------------+------------------+-------------------+\n",
            "|  count|             649913|              649913|               649913|            649913|            649913|             649913|            649913|             649913|            649913|           649913|            649913|            649913|             649913|             649913|            649913|             649913|        0|               649913|            649913|            649913|             649912|\n",
            "|   mean| 1.7838326052871691|                null|                 null|              null|1.0934617402636968| -73.81267313297307|40.673284641084045|  -73.8280358286245|40.680564075643964|1.346378669144947|2.6964662654847635|11.676127004691377| 0.3651216393578833|0.48676207430840746| 1.223923694402306|0.10266543368113425|     null|   0.2920514284236397| 14.14660516094118|1.5091250675090357| 1.0219029653245362|\n",
            "| stddev|0.41163006800603785|                null|                 null|              null|0.6409717398219771|  3.215893669929127|1.7378629226454811|  3.016864428370697|1.6265761146819597|1.011935489505922| 2.843376444743639| 9.473062749283859|0.39660734889628463| 0.0891373763255866|2.4765094702857415| 1.3845625488846054|     null|  0.05166932088258416|11.006312787232599|0.5243990454880706|0.14636686236252555|\n",
            "|    min|                  1| 2016-02-01 00:00:01|  2016-02-01 00:01:04|                 N|                 1|-115.22274017333984|               0.0|-115.33221435546875|               0.0|                0|               0.0|            -300.0|               -4.5|               -0.5|              -2.7|              -12.5|     null|                 -0.3|            -300.0|                 1|                  1|\n",
            "|    max|                  2| 2016-02-13 18:59:59|  2016-02-14 18:56:49|                 Y|                99|                0.0|  42.3243522644043|                0.0|42.324249267578125|                9|             235.5|             933.5|                4.5|                3.0|             400.0|             902.17|     null|                 1.77|           1121.16|                 5|                  2|\n",
            "+-------+-------------------+--------------------+---------------------+------------------+------------------+-------------------+------------------+-------------------+------------------+-----------------+------------------+------------------+-------------------+-------------------+------------------+-------------------+---------+---------------------+------------------+------------------+-------------------+\n",
            "\n"
          ],
          "name": "stdout"
        }
      ]
    },
    {
      "cell_type": "markdown",
      "metadata": {
        "id": "Mo_wxeJdjzVz"
      },
      "source": [
        "Insights: There seems to be outliers in differenet coloums such as  trip distance , fare amount, extra , mat tax should be .5 , trip amount "
      ]
    },
    {
      "cell_type": "code",
      "metadata": {
        "colab": {
          "base_uri": "https://localhost:8080/"
        },
        "id": "v3OHwx-iiS3n",
        "outputId": "5081932f-c85c-48b1-e228-115aa5faf992"
      },
      "source": [
        "# Check quantile to deepdive check for outliers\n",
        "pandastaxi_data = taxi_data.toPandas()\n",
        "pandastaxi_data.quantile(q=0.5, axis=0, numeric_only=True, interpolation='linear')"
      ],
      "execution_count": 11,
      "outputs": [
        {
          "output_type": "execute_result",
          "data": {
            "text/plain": [
              "VendorID                  2.000000\n",
              "RateCodeID                1.000000\n",
              "Pickup_longitude        -73.946754\n",
              "Pickup_latitude          40.746536\n",
              "Dropoff_longitude       -73.945587\n",
              "Dropoff_latitude         40.746937\n",
              "Passenger_count           1.000000\n",
              "Trip_distance             1.800000\n",
              "Fare_amount               9.000000\n",
              "Extra                     0.500000\n",
              "MTA_tax                   0.500000\n",
              "Tip_amount                0.000000\n",
              "Tolls_amount              0.000000\n",
              "improvement_surcharge     0.300000\n",
              "Total_amount             11.000000\n",
              "Payment_type              1.000000\n",
              "Trip_type                 1.000000\n",
              "Name: 0.5, dtype: float64"
            ]
          },
          "metadata": {
            "tags": []
          },
          "execution_count": 11
        }
      ]
    },
    {
      "cell_type": "code",
      "metadata": {
        "id": "YAtMcA3chmjW"
      },
      "source": [
        "# Convert to pandas for plotting graphs and checking outliers\n",
        "pandas_taxi_data = taxi_data.toPandas()"
      ],
      "execution_count": 12,
      "outputs": []
    },
    {
      "cell_type": "markdown",
      "metadata": {
        "id": "1hVf6Q3LmIlx"
      },
      "source": [
        "# Check Trip Distance for outliers"
      ]
    },
    {
      "cell_type": "code",
      "metadata": {
        "colab": {
          "base_uri": "https://localhost:8080/",
          "height": 423
        },
        "id": "oTfQfQSRzFc9",
        "outputId": "3b541d42-b6b4-4942-a590-2c4089e711bc"
      },
      "source": [
        "# Plot trip distance to check outliers\n",
        "plt.figure(figsize = (8,5))\n",
        "sns.boxplot(\"Trip_distance\", data = pandas_taxi_data, orient = \"v\")\n",
        "plt.tick_params(labelsize = 10)\n",
        "plt.ylabel(\"Trip_distance\", fontsize = 10)\n",
        "plt.show()"
      ],
      "execution_count": null,
      "outputs": [
        {
          "output_type": "stream",
          "text": [
            "/usr/local/lib/python3.7/dist-packages/seaborn/_decorators.py:43: FutureWarning: Pass the following variable as a keyword arg: x. From version 0.12, the only valid positional argument will be `data`, and passing other arguments without an explicit keyword will result in an error or misinterpretation.\n",
            "  FutureWarning\n",
            "/usr/local/lib/python3.7/dist-packages/seaborn/_core.py:1319: UserWarning: Vertical orientation ignored with only `x` specified.\n",
            "  warnings.warn(single_var_warning.format(\"Vertical\", \"x\"))\n"
          ],
          "name": "stderr"
        },
        {
          "output_type": "display_data",
          "data": {
            "image/png": "[encoded data removed]",
            "text/plain": [
              "<Figure size 576x360 with 1 Axes>"
            ]
          },
          "metadata": {
            "tags": [],
            "needs_background": "light"
          }
        }
      ]
    },
    {
      "cell_type": "markdown",
      "metadata": {
        "id": "YrpLquKvjlJ6"
      },
      "source": [
        "Study: There are some outliers but we should be looked deep into it"
      ]
    },
    {
      "cell_type": "code",
      "metadata": {
        "colab": {
          "base_uri": "https://localhost:8080/"
        },
        "id": "q13UNvDGhsjM",
        "outputId": "d97cd631-afab-48f4-bbbe-a40cf65ebed6"
      },
      "source": [
        "# We investigate Quartiles (0-100)\n",
        "tripDistance_quatile = pandas_taxi_data.Trip_distance.quantile(np.round(np.arange(0.00, 1.01, 0.01), 2))\n",
        "values_q = np.round(np.arange(0.00, 1.01, 0.1), 2)\n",
        "for i in values_q:\n",
        "    print(\"{} miles are in {} percentile \".format( tripDistance_quatile[i],int(i*100)))"
      ],
      "execution_count": null,
      "outputs": [
        {
          "output_type": "stream",
          "text": [
            "0.0 miles are in 0 percentile \n",
            "0.62 miles are in 10 percentile \n",
            "0.89 miles are in 20 percentile \n",
            "1.13 miles are in 30 percentile \n",
            "1.41 miles are in 40 percentile \n",
            "1.8 miles are in 50 percentile \n",
            "2.3 miles are in 60 percentile \n",
            "3.0 miles are in 70 percentile \n",
            "4.01 miles are in 80 percentile \n",
            "6.05 miles are in 90 percentile \n",
            "235.5 miles are in 100 percentile \n"
          ],
          "name": "stdout"
        }
      ]
    },
    {
      "cell_type": "markdown",
      "metadata": {
        "id": "c71X5eR6kAaV"
      },
      "source": [
        "90th percentile is 5.98 and 100th is 235.5 so there are outliers and further investigate between 90 to 100"
      ]
    },
    {
      "cell_type": "code",
      "metadata": {
        "colab": {
          "base_uri": "https://localhost:8080/"
        },
        "id": "_9rtO_paid5o",
        "outputId": "4eb2704e-f216-48b3-a54e-f29d820ad341"
      },
      "source": [
        "tripDistance_quatile = pandas_taxi_data.Trip_distance.quantile(np.round(np.arange(0.991, 1.001, 0.001), 4))\n",
        "values_q = np.round(np.arange(0.991, 1.001, 0.001), 3)\n",
        "for i in values_q:\n",
        "    print(\"{} miles are in {} percentile \".format( tripDistance_quatile[i],int(i*100)))"
      ],
      "execution_count": null,
      "outputs": [
        {
          "output_type": "stream",
          "text": [
            "14.37 miles are in 99 percentile \n",
            "14.87 miles are in 99 percentile \n",
            "15.35 miles are in 99 percentile \n",
            "15.939999999999998 miles are in 99 percentile \n",
            "16.86 miles are in 99 percentile \n",
            "17.7 miles are in 99 percentile \n",
            "18.5 miles are in 99 percentile \n",
            "19.7 miles are in 99 percentile \n",
            "22.79 miles are in 99 percentile \n",
            "235.5 miles are in 100 percentile \n"
          ],
          "name": "stdout"
        }
      ]
    },
    {
      "cell_type": "markdown",
      "metadata": {
        "id": "PxDP-zWVkLhH"
      },
      "source": [
        "Insights: since 99.9 percentile is 22.8 and 100 is 235.5, so we will remove anything above 22.8"
      ]
    },
    {
      "cell_type": "code",
      "metadata": {
        "colab": {
          "base_uri": "https://localhost:8080/"
        },
        "id": "qUlWwyKji4EA",
        "outputId": "f7ebcb25-9bcf-4fc1-df30-8d8834932914"
      },
      "source": [
        "# Remove data with outliers of trip distance\n",
        "\n",
        "data_tripdistance=taxi_data.where(\"Trip_distance < 22.8\")\n",
        "\n",
        "print((data_tripdistance.count(), len(data_tripdistance.columns)))\n"
      ],
      "execution_count": 14,
      "outputs": [
        {
          "output_type": "stream",
          "text": [
            "(1509212, 21)\n"
          ],
          "name": "stdout"
        }
      ]
    },
    {
      "cell_type": "markdown",
      "metadata": {
        "id": "XkP24phmmDTB"
      },
      "source": [
        "# Check fare Amount for outliers"
      ]
    },
    {
      "cell_type": "code",
      "metadata": {
        "colab": {
          "base_uri": "https://localhost:8080/",
          "height": 486
        },
        "id": "xRAfx9SZlel7",
        "outputId": "de22f52e-0718-483d-cc6a-3fbb743c1026"
      },
      "source": [
        "# Plot Fare_amount to check outliers\n",
        "plt.figure(figsize = (10,6))\n",
        "sns.boxplot(\"Fare_amount\", data = pandas_taxi_data, orient = \"v\")\n",
        "plt.tick_params(labelsize = 20)\n",
        "plt.ylabel(\"Fare_amount\", fontsize = 20)\n",
        "plt.show()"
      ],
      "execution_count": null,
      "outputs": [
        {
          "output_type": "stream",
          "text": [
            "/usr/local/lib/python3.7/dist-packages/seaborn/_decorators.py:43: FutureWarning: Pass the following variable as a keyword arg: x. From version 0.12, the only valid positional argument will be `data`, and passing other arguments without an explicit keyword will result in an error or misinterpretation.\n",
            "  FutureWarning\n",
            "/usr/local/lib/python3.7/dist-packages/seaborn/_core.py:1319: UserWarning: Vertical orientation ignored with only `x` specified.\n",
            "  warnings.warn(single_var_warning.format(\"Vertical\", \"x\"))\n"
          ],
          "name": "stderr"
        },
        {
          "output_type": "display_data",
          "data": {
            "image/png": "[encoded data removed]",
            "text/plain": [
              "<Figure size 720x432 with 1 Axes>"
            ]
          },
          "metadata": {
            "tags": [],
            "needs_background": "light"
          }
        }
      ]
    },
    {
      "cell_type": "markdown",
      "metadata": {
        "id": "3LBAi-YwmFO7"
      },
      "source": [
        "Assumption: fare cant be negative so remove them and some outliers also"
      ]
    },
    {
      "cell_type": "code",
      "metadata": {
        "colab": {
          "base_uri": "https://localhost:8080/"
        },
        "id": "sRmRCly6lnN-",
        "outputId": "52307ee8-3da3-4b77-f7da-ab7189355218"
      },
      "source": [
        "Fare_amount_quatile = pandas_taxi_data.Fare_amount.quantile(np.round(np.arange(0.00, 1.01, 0.01), 2))\n",
        "values_q = np.round(np.arange(0.00, 1.01, 0.1), 2)\n",
        "for i in values_q:\n",
        "    print(\"{} miles are in {} percentile \".format( Fare_amount_quatile[i],int(i*100)))"
      ],
      "execution_count": null,
      "outputs": [
        {
          "output_type": "stream",
          "text": [
            "-400.0 miles are in 0 percentile \n",
            "4.5 miles are in 10 percentile \n",
            "5.5 miles are in 20 percentile \n",
            "6.5 miles are in 30 percentile \n",
            "7.5 miles are in 40 percentile \n",
            "9.0 miles are in 50 percentile \n",
            "10.5 miles are in 60 percentile \n",
            "13.0 miles are in 70 percentile \n",
            "16.5 miles are in 80 percentile \n",
            "22.5 miles are in 90 percentile \n",
            "933.5 miles are in 100 percentile \n"
          ],
          "name": "stdout"
        }
      ]
    },
    {
      "cell_type": "code",
      "metadata": {
        "colab": {
          "base_uri": "https://localhost:8080/"
        },
        "id": "Lc_EDvqEmTJG",
        "outputId": "676e42ed-3847-4b84-bc56-ce11d5b3a7b5"
      },
      "source": [
        "Fare_amount_quatile = pandas_taxi_data.Fare_amount.quantile(np.round(np.arange(0.991, 1.001, 0.001), 3))\n",
        "values_q = np.round(np.arange(0.991, 1.001, 0.001), 3)\n",
        "for i in qValues:\n",
        "    print(\"{} miles are in {} percentile \".format( Fare_amount_quatile[i],int(i*100)))"
      ],
      "execution_count": null,
      "outputs": [
        {
          "output_type": "stream",
          "text": [
            "48.0 miles are in 99 percentile \n",
            "50.0 miles are in 99 percentile \n",
            "51.5 miles are in 99 percentile \n",
            "52.0 miles are in 99 percentile \n",
            "52.0 miles are in 99 percentile \n",
            "54.0 miles are in 99 percentile \n",
            "58.5 miles are in 99 percentile \n",
            "65.0 miles are in 99 percentile \n",
            "77.5 miles are in 99 percentile \n",
            "933.5 miles are in 100 percentile \n"
          ],
          "name": "stdout"
        }
      ]
    },
    {
      "cell_type": "markdown",
      "metadata": {
        "id": "_oErhBcrnuzz"
      },
      "source": [
        "Insights: remove anything elow 0 and above 77.5"
      ]
    },
    {
      "cell_type": "code",
      "metadata": {
        "colab": {
          "base_uri": "https://localhost:8080/"
        },
        "id": "XSDKQrPFmlx0",
        "outputId": "8ca30753-05c3-4d73-a525-abc8ba1e5817"
      },
      "source": [
        "# Remove data with outliers of fare amount\n",
        "\n",
        "data_fareamount=data_tripdistance.where(\"Fare_amount between 0 and 77.5\")\n",
        "\n",
        "print((data_fareamount.count(), len(data_fareamount.columns)))\n"
      ],
      "execution_count": 15,
      "outputs": [
        {
          "output_type": "stream",
          "text": [
            "(1505528, 21)\n"
          ],
          "name": "stdout"
        }
      ]
    },
    {
      "cell_type": "markdown",
      "metadata": {
        "id": "p_8nVDLfmUeK"
      },
      "source": [
        "# Total Amount Outliers"
      ]
    },
    {
      "cell_type": "code",
      "metadata": {
        "colab": {
          "base_uri": "https://localhost:8080/"
        },
        "id": "b8etpH6-oD2M",
        "outputId": "486a6a9a-2316-4044-ac9d-3ae85c37bade"
      },
      "source": [
        "total_amount_quatile = pandas_taxi_data.Total_amount.quantile(np.round(np.arange(0.00, 1.01, 0.01), 2))\n",
        "values_q = np.round(np.arange(0.00, 1.01, 0.1), 2)\n",
        "for i in values_q:\n",
        "    print(\"{} miles are in {} percentile \".format( total_amount_quatile[i],int(i*100)))"
      ],
      "execution_count": null,
      "outputs": [
        {
          "output_type": "stream",
          "text": [
            "-400.0 miles are in 0 percentile \n",
            "6.3 miles are in 10 percentile \n",
            "7.299999999999999 miles are in 20 percentile \n",
            "8.3 miles are in 30 percentile \n",
            "9.38 miles are in 40 percentile \n",
            "11.0 miles are in 50 percentile \n",
            "12.8 miles are in 60 percentile \n",
            "15.349999999999998 miles are in 70 percentile \n",
            "19.3 miles are in 80 percentile \n",
            "26.3 miles are in 90 percentile \n",
            "1121.16 miles are in 100 percentile \n"
          ],
          "name": "stdout"
        }
      ]
    },
    {
      "cell_type": "code",
      "metadata": {
        "colab": {
          "base_uri": "https://localhost:8080/"
        },
        "id": "dMuPA4jsovbR",
        "outputId": "14a85a30-9d5b-454b-df55-b8c86a20e2ab"
      },
      "source": [
        "total_amount_quatile = pandas_taxi_data.Total_amount.quantile(np.round(np.arange(0.991, 1.001, 0.001), 3))\n",
        "values_q = np.round(np.arange(0.991, 1.001, 0.001), 3)\n",
        "for i in qValues:\n",
        "    print(\"{} miles are in {} percentile \".format( total_amount_quatile[i],int(i*100)))"
      ],
      "execution_count": null,
      "outputs": [
        {
          "output_type": "stream",
          "text": [
            "54.36 miles are in 99 percentile \n",
            "56.3 miles are in 99 percentile \n",
            "58.3 miles are in 99 percentile \n",
            "60.0 miles are in 99 percentile \n",
            "62.88 miles are in 99 percentile \n",
            "66.34 miles are in 99 percentile \n",
            "70.01 miles are in 99 percentile \n",
            "76.0 miles are in 99 percentile \n",
            "92.20999999999998 miles are in 99 percentile \n",
            "1121.16 miles are in 100 percentile \n"
          ],
          "name": "stdout"
        }
      ]
    },
    {
      "cell_type": "markdown",
      "metadata": {
        "id": "u_IKV3Y7o6-x"
      },
      "source": [
        "Study: Remove anything below 0 and above 92.2"
      ]
    },
    {
      "cell_type": "code",
      "metadata": {
        "colab": {
          "base_uri": "https://localhost:8080/"
        },
        "id": "P8EBNfQPo6AC",
        "outputId": "994585f0-b3d2-431e-a076-f9a54b935a65"
      },
      "source": [
        "# Remove data with outliers of trip distance\n",
        "\n",
        "data_distance=data_tripdistance.where(\"Total_amount between 0 and  22.8\")\n",
        "\n",
        "print((data_distance.count(), len(data_distance.columns)))\n"
      ],
      "execution_count": 16,
      "outputs": [
        {
          "output_type": "stream",
          "text": [
            "(1297720, 21)\n"
          ],
          "name": "stdout"
        }
      ]
    },
    {
      "cell_type": "markdown",
      "metadata": {
        "id": "96S_AY4AmX-j"
      },
      "source": [
        "# Other Outliers "
      ]
    },
    {
      "cell_type": "code",
      "metadata": {
        "colab": {
          "base_uri": "https://localhost:8080/"
        },
        "id": "uAXeV-6Jo4kL",
        "outputId": "dbd9e947-013d-4166-9a8d-9eb7e5b59208"
      },
      "source": [
        "# Remove other outliers such as ratecodeid can't be >6 , MTA tax is 0.5, imrovement chargers is 0.3\n",
        "\n",
        "taxi_data_no_outlier=data_distance.where(\"RateCodeID < 7\").where(\"MTA_tax  = 0.5\").where(\"improvement_surcharge = 0.3\")\n",
        "\n",
        "\n",
        "print((taxi_data_no_outlier.count(), len(taxi_data_no_outlier.columns)))\n"
      ],
      "execution_count": 17,
      "outputs": [
        {
          "output_type": "stream",
          "text": [
            "(1269864, 21)\n"
          ],
          "name": "stdout"
        }
      ]
    },
    {
      "cell_type": "markdown",
      "metadata": {
        "id": "A8mLbOPhpzVy"
      },
      "source": [
        "Next Steps: Could have looked into other abnormalities like lat and long"
      ]
    },
    {
      "cell_type": "markdown",
      "metadata": {
        "id": "mTEwNvHImeUU"
      },
      "source": [
        "# Add new coloums for model & Data Analysis"
      ]
    },
    {
      "cell_type": "code",
      "metadata": {
        "colab": {
          "base_uri": "https://localhost:8080/"
        },
        "id": "XRk3KiJwpkSZ",
        "outputId": "2b320674-67a7-4aa7-b6a4-47a8fb3385b1"
      },
      "source": [
        "# get date and time coloum seprately for pickup and drop\n",
        "from pyspark.sql import functions as F\n",
        "\n",
        "split_col = F.split(taxi_data_no_outlier['lpep_pickup_datetime'], ' ')\n",
        "split_col2 = F.split(taxi_data_no_outlier['Lpep_dropoff_datetime'], ' ')\n",
        "taxi_data_no_outlier = taxi_data_no_outlier.withColumn('pickup_date', split_col.getItem(0)).withColumn('pickup_time', split_col.getItem(1)).withColumn('drop_date', split_col2.getItem(0)).withColumn('drop_time', split_col2.getItem(1))\n",
        "\n",
        "\n",
        "taxi_data_no_outlier.show(5)"
      ],
      "execution_count": 18,
      "outputs": [
        {
          "output_type": "stream",
          "text": [
            "+--------+--------------------+---------------------+------------------+----------+------------------+------------------+------------------+------------------+---------------+-------------+-----------+-----+-------+----------+------------+---------+---------------------+------------+------------+----------+-----------+-----------+----------+---------+\n",
            "|VendorID|lpep_pickup_datetime|Lpep_dropoff_datetime|Store_and_fwd_flag|RateCodeID|  Pickup_longitude|   Pickup_latitude| Dropoff_longitude|  Dropoff_latitude|Passenger_count|Trip_distance|Fare_amount|Extra|MTA_tax|Tip_amount|Tolls_amount|Ehail_fee|improvement_surcharge|Total_amount|Payment_type|Trip_type |pickup_date|pickup_time| drop_date|drop_time|\n",
            "+--------+--------------------+---------------------+------------------+----------+------------------+------------------+------------------+------------------+---------------+-------------+-----------+-----+-------+----------+------------+---------+---------------------+------------+------------+----------+-----------+-----------+----------+---------+\n",
            "|       2| 2016-02-01 00:00:01|  2016-02-01 00:10:06|                 N|         1|-73.93901824951172|40.805213928222656| -73.9725341796875|40.785884857177734|              1|         2.86|       10.5|  0.5|    0.5|       0.0|         0.0|     null|                  0.3|        11.8|           2|         1| 2016-02-01|   00:00:01|2016-02-01| 00:10:06|\n",
            "|       2| 2016-02-01 00:01:33|  2016-02-01 00:20:13|                 N|         1|-73.89149475097656| 40.74665069580078|-73.89087677001953|   40.743896484375|              1|         3.35|       13.0|  0.5|    0.5|       0.0|         0.0|     null|                  0.3|        14.3|           2|         1| 2016-02-01|   00:01:33|2016-02-01| 00:20:13|\n",
            "|       2| 2016-02-01 00:03:46|  2016-02-01 00:21:04|                 N|         1|-73.98377990722656| 40.67613220214844|-73.95697784423828|40.718326568603516|              1|          4.7|       17.5|  0.5|    0.5|      3.76|         0.0|     null|                  0.3|       22.56|           1|         1| 2016-02-01|   00:03:46|2016-02-01| 00:21:04|\n",
            "|       2| 2016-02-01 00:00:05|  2016-02-01 00:06:48|                 N|         1| -73.8075180053711|40.700374603271484|-73.83165740966797| 40.70597839355469|              1|         2.11|        8.0|  0.5|    0.5|       0.0|         0.0|     null|                  0.3|         9.3|           2|         1| 2016-02-01|   00:00:05|2016-02-01| 00:06:48|\n",
            "|       2| 2016-02-01 00:06:20|  2016-02-01 00:08:47|                 N|         1|-73.90396118164062| 40.74493408203125|-73.90000915527344| 40.73360061645508|              5|         0.98|        5.0|  0.5|    0.5|       0.0|         0.0|     null|                  0.3|         6.3|           2|         1| 2016-02-01|   00:06:20|2016-02-01| 00:08:47|\n",
            "+--------+--------------------+---------------------+------------------+----------+------------------+------------------+------------------+------------------+---------------+-------------+-----------+-----+-------+----------+------------+---------+---------------------+------------+------------+----------+-----------+-----------+----------+---------+\n",
            "only showing top 5 rows\n",
            "\n"
          ],
          "name": "stdout"
        }
      ]
    },
    {
      "cell_type": "code",
      "metadata": {
        "id": "SL5xMybLrA8g"
      },
      "source": [
        "# Convert to pandas\n",
        "taxi_data_no_outlier_pandas = taxi_data_no_outlier.toPandas()"
      ],
      "execution_count": 19,
      "outputs": []
    },
    {
      "cell_type": "code",
      "metadata": {
        "id": "--Wjx3BJrbMW"
      },
      "source": [
        "# Change date time to datetime format\n",
        "taxi_data_no_outlier_pandas['pickup_datetime']=pd.to_datetime(taxi_data_no_outlier_pandas['lpep_pickup_datetime'])\n",
        "taxi_data_no_outlier_pandas['dropoff_datetime']=pd.to_datetime(taxi_data_no_outlier_pandas['Lpep_dropoff_datetime'])\n",
        "\n",
        "# Get day\n",
        "taxi_data_no_outlier_pandas['pickup_day_number']=taxi_data_no_outlier_pandas['pickup_datetime'].dt.weekday\n",
        "taxi_data_no_outlier_pandas['dropoff_day_number']=taxi_data_no_outlier_pandas['dropoff_datetime'].dt.weekday\n",
        "\n",
        "# Get hour \n",
        "taxi_data_no_outlier_pandas['pickup_hour']=taxi_data_no_outlier_pandas['pickup_datetime'].dt.hour\n",
        "taxi_data_no_outlier_pandas['dropoff_hour']=taxi_data_no_outlier_pandas['dropoff_datetime'].dt.hour\n",
        "\n",
        "# Get day name\n",
        "taxi_data_no_outlier_pandas['pickup_day']=taxi_data_no_outlier_pandas['pickup_datetime'].dt.day_name()\n",
        "taxi_data_no_outlier_pandas['dropoff_day']=taxi_data_no_outlier_pandas['dropoff_datetime'].dt.day_name()\n",
        "\n",
        "# Get time of day\n",
        "taxi_data_no_outlier_pandas['pickup_timeofday']=taxi_data_no_outlier_pandas['pickup_hour'].apply(time_of_day)\n",
        "taxi_data_no_outlier_pandas['dropoff_timeofday']=taxi_data_no_outlier_pandas['dropoff_hour'].apply(time_of_day)"
      ],
      "execution_count": 20,
      "outputs": []
    },
    {
      "cell_type": "code",
      "metadata": {
        "colab": {
          "base_uri": "https://localhost:8080/",
          "height": 609
        },
        "cellView": "code",
        "id": "sqTgVthIamCz",
        "outputId": "bab4d13e-ec6d-4a01-9e5b-46c20292f065"
      },
      "source": [
        "# Display Data \n",
        "taxi_data_no_outlier_pandas"
      ],
      "execution_count": 21,
      "outputs": [
        {
          "output_type": "execute_result",
          "data": {
            "text/html": [
              "<div>\n",
              "<style scoped>\n",
              "    .dataframe tbody tr th:only-of-type {\n",
              "        vertical-align: middle;\n",
              "    }\n",
              "\n",
              "    .dataframe tbody tr th {\n",
              "        vertical-align: top;\n",
              "    }\n",
              "\n",
              "    .dataframe thead th {\n",
              "        text-align: right;\n",
              "    }\n",
              "</style>\n",
              "<table border=\"1\" class=\"dataframe\">\n",
              "  <thead>\n",
              "    <tr style=\"text-align: right;\">\n",
              "      <th></th>\n",
              "      <th>VendorID</th>\n",
              "      <th>lpep_pickup_datetime</th>\n",
              "      <th>Lpep_dropoff_datetime</th>\n",
              "      <th>Store_and_fwd_flag</th>\n",
              "      <th>RateCodeID</th>\n",
              "      <th>Pickup_longitude</th>\n",
              "      <th>Pickup_latitude</th>\n",
              "      <th>Dropoff_longitude</th>\n",
              "      <th>Dropoff_latitude</th>\n",
              "      <th>Passenger_count</th>\n",
              "      <th>Trip_distance</th>\n",
              "      <th>Fare_amount</th>\n",
              "      <th>Extra</th>\n",
              "      <th>MTA_tax</th>\n",
              "      <th>Tip_amount</th>\n",
              "      <th>Tolls_amount</th>\n",
              "      <th>Ehail_fee</th>\n",
              "      <th>improvement_surcharge</th>\n",
              "      <th>Total_amount</th>\n",
              "      <th>Payment_type</th>\n",
              "      <th>Trip_type</th>\n",
              "      <th>pickup_date</th>\n",
              "      <th>pickup_time</th>\n",
              "      <th>drop_date</th>\n",
              "      <th>drop_time</th>\n",
              "      <th>pickup_datetime</th>\n",
              "      <th>dropoff_datetime</th>\n",
              "      <th>pickup_day_number</th>\n",
              "      <th>dropoff_day_number</th>\n",
              "      <th>pickup_hour</th>\n",
              "      <th>dropoff_hour</th>\n",
              "      <th>pickup_day</th>\n",
              "      <th>dropoff_day</th>\n",
              "      <th>pickup_timeofday</th>\n",
              "      <th>dropoff_timeofday</th>\n",
              "    </tr>\n",
              "  </thead>\n",
              "  <tbody>\n",
              "    <tr>\n",
              "      <th>0</th>\n",
              "      <td>2</td>\n",
              "      <td>2016-02-01 00:00:01</td>\n",
              "      <td>2016-02-01 00:10:06</td>\n",
              "      <td>N</td>\n",
              "      <td>1</td>\n",
              "      <td>-73.939018</td>\n",
              "      <td>40.805214</td>\n",
              "      <td>-73.972534</td>\n",
              "      <td>40.785885</td>\n",
              "      <td>1</td>\n",
              "      <td>2.86</td>\n",
              "      <td>10.5</td>\n",
              "      <td>0.5</td>\n",
              "      <td>0.5</td>\n",
              "      <td>0.00</td>\n",
              "      <td>0.0</td>\n",
              "      <td>None</td>\n",
              "      <td>0.3</td>\n",
              "      <td>11.80</td>\n",
              "      <td>2</td>\n",
              "      <td>1</td>\n",
              "      <td>2016-02-01</td>\n",
              "      <td>00:00:01</td>\n",
              "      <td>2016-02-01</td>\n",
              "      <td>00:10:06</td>\n",
              "      <td>2016-02-01 00:00:01</td>\n",
              "      <td>2016-02-01 00:10:06</td>\n",
              "      <td>0</td>\n",
              "      <td>0</td>\n",
              "      <td>0</td>\n",
              "      <td>0</td>\n",
              "      <td>Monday</td>\n",
              "      <td>Monday</td>\n",
              "      <td>Late night</td>\n",
              "      <td>Late night</td>\n",
              "    </tr>\n",
              "    <tr>\n",
              "      <th>1</th>\n",
              "      <td>2</td>\n",
              "      <td>2016-02-01 00:01:33</td>\n",
              "      <td>2016-02-01 00:20:13</td>\n",
              "      <td>N</td>\n",
              "      <td>1</td>\n",
              "      <td>-73.891495</td>\n",
              "      <td>40.746651</td>\n",
              "      <td>-73.890877</td>\n",
              "      <td>40.743896</td>\n",
              "      <td>1</td>\n",
              "      <td>3.35</td>\n",
              "      <td>13.0</td>\n",
              "      <td>0.5</td>\n",
              "      <td>0.5</td>\n",
              "      <td>0.00</td>\n",
              "      <td>0.0</td>\n",
              "      <td>None</td>\n",
              "      <td>0.3</td>\n",
              "      <td>14.30</td>\n",
              "      <td>2</td>\n",
              "      <td>1</td>\n",
              "      <td>2016-02-01</td>\n",
              "      <td>00:01:33</td>\n",
              "      <td>2016-02-01</td>\n",
              "      <td>00:20:13</td>\n",
              "      <td>2016-02-01 00:01:33</td>\n",
              "      <td>2016-02-01 00:20:13</td>\n",
              "      <td>0</td>\n",
              "      <td>0</td>\n",
              "      <td>0</td>\n",
              "      <td>0</td>\n",
              "      <td>Monday</td>\n",
              "      <td>Monday</td>\n",
              "      <td>Late night</td>\n",
              "      <td>Late night</td>\n",
              "    </tr>\n",
              "    <tr>\n",
              "      <th>2</th>\n",
              "      <td>2</td>\n",
              "      <td>2016-02-01 00:03:46</td>\n",
              "      <td>2016-02-01 00:21:04</td>\n",
              "      <td>N</td>\n",
              "      <td>1</td>\n",
              "      <td>-73.983780</td>\n",
              "      <td>40.676132</td>\n",
              "      <td>-73.956978</td>\n",
              "      <td>40.718327</td>\n",
              "      <td>1</td>\n",
              "      <td>4.70</td>\n",
              "      <td>17.5</td>\n",
              "      <td>0.5</td>\n",
              "      <td>0.5</td>\n",
              "      <td>3.76</td>\n",
              "      <td>0.0</td>\n",
              "      <td>None</td>\n",
              "      <td>0.3</td>\n",
              "      <td>22.56</td>\n",
              "      <td>1</td>\n",
              "      <td>1</td>\n",
              "      <td>2016-02-01</td>\n",
              "      <td>00:03:46</td>\n",
              "      <td>2016-02-01</td>\n",
              "      <td>00:21:04</td>\n",
              "      <td>2016-02-01 00:03:46</td>\n",
              "      <td>2016-02-01 00:21:04</td>\n",
              "      <td>0</td>\n",
              "      <td>0</td>\n",
              "      <td>0</td>\n",
              "      <td>0</td>\n",
              "      <td>Monday</td>\n",
              "      <td>Monday</td>\n",
              "      <td>Late night</td>\n",
              "      <td>Late night</td>\n",
              "    </tr>\n",
              "    <tr>\n",
              "      <th>3</th>\n",
              "      <td>2</td>\n",
              "      <td>2016-02-01 00:00:05</td>\n",
              "      <td>2016-02-01 00:06:48</td>\n",
              "      <td>N</td>\n",
              "      <td>1</td>\n",
              "      <td>-73.807518</td>\n",
              "      <td>40.700375</td>\n",
              "      <td>-73.831657</td>\n",
              "      <td>40.705978</td>\n",
              "      <td>1</td>\n",
              "      <td>2.11</td>\n",
              "      <td>8.0</td>\n",
              "      <td>0.5</td>\n",
              "      <td>0.5</td>\n",
              "      <td>0.00</td>\n",
              "      <td>0.0</td>\n",
              "      <td>None</td>\n",
              "      <td>0.3</td>\n",
              "      <td>9.30</td>\n",
              "      <td>2</td>\n",
              "      <td>1</td>\n",
              "      <td>2016-02-01</td>\n",
              "      <td>00:00:05</td>\n",
              "      <td>2016-02-01</td>\n",
              "      <td>00:06:48</td>\n",
              "      <td>2016-02-01 00:00:05</td>\n",
              "      <td>2016-02-01 00:06:48</td>\n",
              "      <td>0</td>\n",
              "      <td>0</td>\n",
              "      <td>0</td>\n",
              "      <td>0</td>\n",
              "      <td>Monday</td>\n",
              "      <td>Monday</td>\n",
              "      <td>Late night</td>\n",
              "      <td>Late night</td>\n",
              "    </tr>\n",
              "    <tr>\n",
              "      <th>4</th>\n",
              "      <td>2</td>\n",
              "      <td>2016-02-01 00:06:20</td>\n",
              "      <td>2016-02-01 00:08:47</td>\n",
              "      <td>N</td>\n",
              "      <td>1</td>\n",
              "      <td>-73.903961</td>\n",
              "      <td>40.744934</td>\n",
              "      <td>-73.900009</td>\n",
              "      <td>40.733601</td>\n",
              "      <td>5</td>\n",
              "      <td>0.98</td>\n",
              "      <td>5.0</td>\n",
              "      <td>0.5</td>\n",
              "      <td>0.5</td>\n",
              "      <td>0.00</td>\n",
              "      <td>0.0</td>\n",
              "      <td>None</td>\n",
              "      <td>0.3</td>\n",
              "      <td>6.30</td>\n",
              "      <td>2</td>\n",
              "      <td>1</td>\n",
              "      <td>2016-02-01</td>\n",
              "      <td>00:06:20</td>\n",
              "      <td>2016-02-01</td>\n",
              "      <td>00:08:47</td>\n",
              "      <td>2016-02-01 00:06:20</td>\n",
              "      <td>2016-02-01 00:08:47</td>\n",
              "      <td>0</td>\n",
              "      <td>0</td>\n",
              "      <td>0</td>\n",
              "      <td>0</td>\n",
              "      <td>Monday</td>\n",
              "      <td>Monday</td>\n",
              "      <td>Late night</td>\n",
              "      <td>Late night</td>\n",
              "    </tr>\n",
              "    <tr>\n",
              "      <th>...</th>\n",
              "      <td>...</td>\n",
              "      <td>...</td>\n",
              "      <td>...</td>\n",
              "      <td>...</td>\n",
              "      <td>...</td>\n",
              "      <td>...</td>\n",
              "      <td>...</td>\n",
              "      <td>...</td>\n",
              "      <td>...</td>\n",
              "      <td>...</td>\n",
              "      <td>...</td>\n",
              "      <td>...</td>\n",
              "      <td>...</td>\n",
              "      <td>...</td>\n",
              "      <td>...</td>\n",
              "      <td>...</td>\n",
              "      <td>...</td>\n",
              "      <td>...</td>\n",
              "      <td>...</td>\n",
              "      <td>...</td>\n",
              "      <td>...</td>\n",
              "      <td>...</td>\n",
              "      <td>...</td>\n",
              "      <td>...</td>\n",
              "      <td>...</td>\n",
              "      <td>...</td>\n",
              "      <td>...</td>\n",
              "      <td>...</td>\n",
              "      <td>...</td>\n",
              "      <td>...</td>\n",
              "      <td>...</td>\n",
              "      <td>...</td>\n",
              "      <td>...</td>\n",
              "      <td>...</td>\n",
              "      <td>...</td>\n",
              "    </tr>\n",
              "    <tr>\n",
              "      <th>1269859</th>\n",
              "      <td>1</td>\n",
              "      <td>2016-02-29 23:02:16</td>\n",
              "      <td>2016-02-29 23:14:25</td>\n",
              "      <td>N</td>\n",
              "      <td>1</td>\n",
              "      <td>-73.903435</td>\n",
              "      <td>40.745811</td>\n",
              "      <td>-73.865829</td>\n",
              "      <td>40.741482</td>\n",
              "      <td>1</td>\n",
              "      <td>2.40</td>\n",
              "      <td>10.5</td>\n",
              "      <td>0.5</td>\n",
              "      <td>0.5</td>\n",
              "      <td>0.00</td>\n",
              "      <td>0.0</td>\n",
              "      <td>None</td>\n",
              "      <td>0.3</td>\n",
              "      <td>11.80</td>\n",
              "      <td>2</td>\n",
              "      <td>1</td>\n",
              "      <td>2016-02-29</td>\n",
              "      <td>23:02:16</td>\n",
              "      <td>2016-02-29</td>\n",
              "      <td>23:14:25</td>\n",
              "      <td>2016-02-29 23:02:16</td>\n",
              "      <td>2016-02-29 23:14:25</td>\n",
              "      <td>0</td>\n",
              "      <td>0</td>\n",
              "      <td>23</td>\n",
              "      <td>23</td>\n",
              "      <td>Monday</td>\n",
              "      <td>Monday</td>\n",
              "      <td>Late night</td>\n",
              "      <td>Late night</td>\n",
              "    </tr>\n",
              "    <tr>\n",
              "      <th>1269860</th>\n",
              "      <td>1</td>\n",
              "      <td>2016-02-29 23:00:46</td>\n",
              "      <td>2016-02-29 23:10:08</td>\n",
              "      <td>N</td>\n",
              "      <td>1</td>\n",
              "      <td>-73.916656</td>\n",
              "      <td>40.757957</td>\n",
              "      <td>-73.881950</td>\n",
              "      <td>40.755867</td>\n",
              "      <td>1</td>\n",
              "      <td>1.90</td>\n",
              "      <td>9.0</td>\n",
              "      <td>0.5</td>\n",
              "      <td>0.5</td>\n",
              "      <td>0.00</td>\n",
              "      <td>0.0</td>\n",
              "      <td>None</td>\n",
              "      <td>0.3</td>\n",
              "      <td>10.30</td>\n",
              "      <td>2</td>\n",
              "      <td>1</td>\n",
              "      <td>2016-02-29</td>\n",
              "      <td>23:00:46</td>\n",
              "      <td>2016-02-29</td>\n",
              "      <td>23:10:08</td>\n",
              "      <td>2016-02-29 23:00:46</td>\n",
              "      <td>2016-02-29 23:10:08</td>\n",
              "      <td>0</td>\n",
              "      <td>0</td>\n",
              "      <td>23</td>\n",
              "      <td>23</td>\n",
              "      <td>Monday</td>\n",
              "      <td>Monday</td>\n",
              "      <td>Late night</td>\n",
              "      <td>Late night</td>\n",
              "    </tr>\n",
              "    <tr>\n",
              "      <th>1269861</th>\n",
              "      <td>1</td>\n",
              "      <td>2016-02-29 23:00:17</td>\n",
              "      <td>2016-02-29 23:15:02</td>\n",
              "      <td>N</td>\n",
              "      <td>1</td>\n",
              "      <td>-73.979424</td>\n",
              "      <td>40.688305</td>\n",
              "      <td>-73.923569</td>\n",
              "      <td>40.698891</td>\n",
              "      <td>1</td>\n",
              "      <td>3.30</td>\n",
              "      <td>13.0</td>\n",
              "      <td>0.5</td>\n",
              "      <td>0.5</td>\n",
              "      <td>3.55</td>\n",
              "      <td>0.0</td>\n",
              "      <td>None</td>\n",
              "      <td>0.3</td>\n",
              "      <td>17.85</td>\n",
              "      <td>1</td>\n",
              "      <td>1</td>\n",
              "      <td>2016-02-29</td>\n",
              "      <td>23:00:17</td>\n",
              "      <td>2016-02-29</td>\n",
              "      <td>23:15:02</td>\n",
              "      <td>2016-02-29 23:00:17</td>\n",
              "      <td>2016-02-29 23:15:02</td>\n",
              "      <td>0</td>\n",
              "      <td>0</td>\n",
              "      <td>23</td>\n",
              "      <td>23</td>\n",
              "      <td>Monday</td>\n",
              "      <td>Monday</td>\n",
              "      <td>Late night</td>\n",
              "      <td>Late night</td>\n",
              "    </tr>\n",
              "    <tr>\n",
              "      <th>1269862</th>\n",
              "      <td>1</td>\n",
              "      <td>2016-02-29 23:00:02</td>\n",
              "      <td>2016-02-29 23:06:22</td>\n",
              "      <td>N</td>\n",
              "      <td>1</td>\n",
              "      <td>-73.987488</td>\n",
              "      <td>40.702381</td>\n",
              "      <td>-73.995041</td>\n",
              "      <td>40.719868</td>\n",
              "      <td>1</td>\n",
              "      <td>2.20</td>\n",
              "      <td>8.5</td>\n",
              "      <td>0.5</td>\n",
              "      <td>0.5</td>\n",
              "      <td>2.90</td>\n",
              "      <td>0.0</td>\n",
              "      <td>None</td>\n",
              "      <td>0.3</td>\n",
              "      <td>12.70</td>\n",
              "      <td>1</td>\n",
              "      <td>1</td>\n",
              "      <td>2016-02-29</td>\n",
              "      <td>23:00:02</td>\n",
              "      <td>2016-02-29</td>\n",
              "      <td>23:06:22</td>\n",
              "      <td>2016-02-29 23:00:02</td>\n",
              "      <td>2016-02-29 23:06:22</td>\n",
              "      <td>0</td>\n",
              "      <td>0</td>\n",
              "      <td>23</td>\n",
              "      <td>23</td>\n",
              "      <td>Monday</td>\n",
              "      <td>Monday</td>\n",
              "      <td>Late night</td>\n",
              "      <td>Late night</td>\n",
              "    </tr>\n",
              "    <tr>\n",
              "      <th>1269863</th>\n",
              "      <td>1</td>\n",
              "      <td>2016-02-29 23:00:10</td>\n",
              "      <td>2016-02-29 23:05:43</td>\n",
              "      <td>N</td>\n",
              "      <td>1</td>\n",
              "      <td>-73.972076</td>\n",
              "      <td>40.693176</td>\n",
              "      <td>-73.978676</td>\n",
              "      <td>40.693520</td>\n",
              "      <td>1</td>\n",
              "      <td>1.10</td>\n",
              "      <td>6.5</td>\n",
              "      <td>0.5</td>\n",
              "      <td>0.5</td>\n",
              "      <td>1.55</td>\n",
              "      <td>0.0</td>\n",
              "      <td>None</td>\n",
              "      <td>0.3</td>\n",
              "      <td>9.35</td>\n",
              "      <td>1</td>\n",
              "      <td>1</td>\n",
              "      <td>2016-02-29</td>\n",
              "      <td>23:00:10</td>\n",
              "      <td>2016-02-29</td>\n",
              "      <td>23:05:43</td>\n",
              "      <td>2016-02-29 23:00:10</td>\n",
              "      <td>2016-02-29 23:05:43</td>\n",
              "      <td>0</td>\n",
              "      <td>0</td>\n",
              "      <td>23</td>\n",
              "      <td>23</td>\n",
              "      <td>Monday</td>\n",
              "      <td>Monday</td>\n",
              "      <td>Late night</td>\n",
              "      <td>Late night</td>\n",
              "    </tr>\n",
              "  </tbody>\n",
              "</table>\n",
              "<p>1269864 rows × 35 columns</p>\n",
              "</div>"
            ],
            "text/plain": [
              "         VendorID lpep_pickup_datetime  ... pickup_timeofday dropoff_timeofday\n",
              "0               2  2016-02-01 00:00:01  ...       Late night        Late night\n",
              "1               2  2016-02-01 00:01:33  ...       Late night        Late night\n",
              "2               2  2016-02-01 00:03:46  ...       Late night        Late night\n",
              "3               2  2016-02-01 00:00:05  ...       Late night        Late night\n",
              "4               2  2016-02-01 00:06:20  ...       Late night        Late night\n",
              "...           ...                  ...  ...              ...               ...\n",
              "1269859         1  2016-02-29 23:02:16  ...       Late night        Late night\n",
              "1269860         1  2016-02-29 23:00:46  ...       Late night        Late night\n",
              "1269861         1  2016-02-29 23:00:17  ...       Late night        Late night\n",
              "1269862         1  2016-02-29 23:00:02  ...       Late night        Late night\n",
              "1269863         1  2016-02-29 23:00:10  ...       Late night        Late night\n",
              "\n",
              "[1269864 rows x 35 columns]"
            ]
          },
          "metadata": {
            "tags": []
          },
          "execution_count": 21
        }
      ]
    },
    {
      "cell_type": "markdown",
      "metadata": {
        "id": "cSBGcaa4m56T"
      },
      "source": [
        "# Data Analysis"
      ]
    },
    {
      "cell_type": "code",
      "metadata": {
        "colab": {
          "base_uri": "https://localhost:8080/",
          "height": 351
        },
        "id": "YRJl-Jbaa_gX",
        "outputId": "15404765-bd98-4a6a-f087-b990830b717d"
      },
      "source": [
        "# Check pickup and drop of time of day trips\n",
        "\n",
        "figure,(ax9,ax10)=plt.subplots(ncols=2,figsize=(20,5))\n",
        "\n",
        "ax9.set_title('Pickup Days')\n",
        "ax=sns.countplot(x=\"pickup_hour\",data=taxi_data_no_outlier_pandas,ax=ax9)\n",
        "\n",
        "ax10.set_title('Dropoff Days')\n",
        "ax=sns.countplot(x=\"dropoff_hour\",data=taxi_data_no_outlier_pandas,ax=ax10)"
      ],
      "execution_count": 22,
      "outputs": [
        {
          "output_type": "display_data",
          "data": {
            "image/png": "[encoded data removed]",
            "text/plain": [
              "<Figure size 1440x360 with 2 Axes>"
            ]
          },
          "metadata": {
            "tags": [],
            "needs_background": "light"
          }
        }
      ]
    },
    {
      "cell_type": "markdown",
      "metadata": {
        "id": "SvXqDXWYdzeF"
      },
      "source": [
        "Insights: 1. Pickup and drop are highest furing evening time i.e. between 4PM and 8 PM"
      ]
    },
    {
      "cell_type": "code",
      "metadata": {
        "colab": {
          "base_uri": "https://localhost:8080/",
          "height": 297
        },
        "id": "zU5ewYm4cPk-",
        "outputId": "975e8695-5914-4f78-b4c9-fb9d22b0cb4b"
      },
      "source": [
        "sns.lineplot(data=taxi_data_no_outlier_pandas, x=\"pickup_hour\", y=\"Trip_distance\")"
      ],
      "execution_count": null,
      "outputs": [
        {
          "output_type": "execute_result",
          "data": {
            "text/plain": [
              "<matplotlib.axes._subplots.AxesSubplot at 0x7f30247c8790>"
            ]
          },
          "metadata": {
            "tags": []
          },
          "execution_count": 32
        },
        {
          "output_type": "display_data",
          "data": {
            "image/png": "[encoded data removed]",
            "text/plain": [
              "<Figure size 432x288 with 1 Axes>"
            ]
          },
          "metadata": {
            "tags": [],
            "needs_background": "light"
          }
        }
      ]
    },
    {
      "cell_type": "markdown",
      "metadata": {
        "id": "kZw5yLuseJYG"
      },
      "source": [
        "Insights: trip distance is highest in morning at 5AM fllowed by it sees increase after 4PM till midnight"
      ]
    },
    {
      "cell_type": "code",
      "metadata": {
        "colab": {
          "base_uri": "https://localhost:8080/",
          "height": 301
        },
        "id": "Dl4k82M2ctSG",
        "outputId": "3b66f2cc-a061-472c-ecc9-b0e6b8b162a6"
      },
      "source": [
        "# Pickup vs amount\n",
        "sns.lineplot(data=taxi_data_no_outlier_pandas, x=\"pickup_hour\", y=\"Total_amount\")"
      ],
      "execution_count": null,
      "outputs": [
        {
          "output_type": "execute_result",
          "data": {
            "text/plain": [
              "<matplotlib.axes._subplots.AxesSubplot at 0x7f3016e91250>"
            ]
          },
          "metadata": {
            "tags": []
          },
          "execution_count": 33
        },
        {
          "output_type": "display_data",
          "data": {
            "image/png": "[encoded data removed]",
            "text/plain": [
              "<Figure size 432x288 with 1 Axes>"
            ]
          },
          "metadata": {
            "tags": [],
            "needs_background": "light"
          }
        }
      ]
    },
    {
      "cell_type": "markdown",
      "metadata": {
        "id": "VqpWnz0ngVs8"
      },
      "source": [
        "Insights: trip amount shows similar behaviour as distance when compared to pikcup hour "
      ]
    },
    {
      "cell_type": "code",
      "metadata": {
        "colab": {
          "base_uri": "https://localhost:8080/",
          "height": 297
        },
        "id": "7c74pcrBefjR",
        "outputId": "eeeaf844-84e1-4976-e0d3-96f271726e5a"
      },
      "source": [
        "# amount vs Day\n",
        "sns.lineplot(data=taxi_data_no_outlier_pandas, x=\"pickup_day\", y=\"Total_amount\")"
      ],
      "execution_count": null,
      "outputs": [
        {
          "output_type": "execute_result",
          "data": {
            "text/plain": [
              "<matplotlib.axes._subplots.AxesSubplot at 0x7f3017ae3fd0>"
            ]
          },
          "metadata": {
            "tags": []
          },
          "execution_count": 36
        },
        {
          "output_type": "display_data",
          "data": {
            "image/png": "[encoded data removed]",
            "text/plain": [
              "<Figure size 432x288 with 1 Axes>"
            ]
          },
          "metadata": {
            "tags": [],
            "needs_background": "light"
          }
        }
      ]
    },
    {
      "cell_type": "markdown",
      "metadata": {
        "id": "AmClIi8BhUmr"
      },
      "source": [
        "inisghts: Trip amount is highest on weekend i.e. sat & Sun "
      ]
    },
    {
      "cell_type": "code",
      "metadata": {
        "colab": {
          "base_uri": "https://localhost:8080/",
          "height": 297
        },
        "id": "FNH4xp3zjE9C",
        "outputId": "603fd374-7820-4bea-f549-c77b66310e55"
      },
      "source": [
        "# amount vs distance\n",
        "sns.lineplot(data=taxi_data_no_outlier_pandas, x=\"Total_amount\", y=\"Trip_distance\")"
      ],
      "execution_count": null,
      "outputs": [
        {
          "output_type": "execute_result",
          "data": {
            "text/plain": [
              "<matplotlib.axes._subplots.AxesSubplot at 0x7f301961efd0>"
            ]
          },
          "metadata": {
            "tags": []
          },
          "execution_count": 52
        },
        {
          "output_type": "display_data",
          "data": {
            "image/png": "[encoded data removed]",
            "text/plain": [
              "<Figure size 432x288 with 1 Axes>"
            ]
          },
          "metadata": {
            "tags": [],
            "needs_background": "light"
          }
        }
      ]
    },
    {
      "cell_type": "markdown",
      "metadata": {
        "id": "xkkrS9lV3QkR"
      },
      "source": [
        "Since there seems to correlation amoung variables we will test correlation"
      ]
    },
    {
      "cell_type": "code",
      "metadata": {
        "id": "UblJ0lrelvnc"
      },
      "source": [
        "# Plot data based on Lat and Long \n",
        "import plotly.express as px\n",
        "\n",
        "fig = px.scatter_mapbox(taxi_data_no_outlier_pandas, lat=\"Pickup_latitude\", lon=\"Pickup_longitude\", color=\"pickup_day\", zoom=10)\n",
        "fig.show()"
      ],
      "execution_count": 23,
      "outputs": []
    },
    {
      "cell_type": "markdown",
      "metadata": {
        "id": "2OAjdsSrnGyx"
      },
      "source": [
        "# Check Correlation and Remove for Model"
      ]
    },
    {
      "cell_type": "code",
      "metadata": {
        "colab": {
          "base_uri": "https://localhost:8080/",
          "height": 720
        },
        "id": "BxPwNoCr22EO",
        "outputId": "314ab0b9-8b31-4a57-e7c5-d5930f0a2846"
      },
      "source": [
        "corr_data=taxi_data_no_outlier_pandas.corr(method ='kendall')\n",
        "\n",
        "corr_data"
      ],
      "execution_count": 24,
      "outputs": [
        {
          "output_type": "execute_result",
          "data": {
            "text/html": [
              "<div>\n",
              "<style scoped>\n",
              "    .dataframe tbody tr th:only-of-type {\n",
              "        vertical-align: middle;\n",
              "    }\n",
              "\n",
              "    .dataframe tbody tr th {\n",
              "        vertical-align: top;\n",
              "    }\n",
              "\n",
              "    .dataframe thead th {\n",
              "        text-align: right;\n",
              "    }\n",
              "</style>\n",
              "<table border=\"1\" class=\"dataframe\">\n",
              "  <thead>\n",
              "    <tr style=\"text-align: right;\">\n",
              "      <th></th>\n",
              "      <th>VendorID</th>\n",
              "      <th>RateCodeID</th>\n",
              "      <th>Pickup_longitude</th>\n",
              "      <th>Pickup_latitude</th>\n",
              "      <th>Dropoff_longitude</th>\n",
              "      <th>Dropoff_latitude</th>\n",
              "      <th>Passenger_count</th>\n",
              "      <th>Trip_distance</th>\n",
              "      <th>Fare_amount</th>\n",
              "      <th>Extra</th>\n",
              "      <th>MTA_tax</th>\n",
              "      <th>Tip_amount</th>\n",
              "      <th>Tolls_amount</th>\n",
              "      <th>improvement_surcharge</th>\n",
              "      <th>Total_amount</th>\n",
              "      <th>Payment_type</th>\n",
              "      <th>Trip_type</th>\n",
              "      <th>pickup_day_number</th>\n",
              "      <th>dropoff_day_number</th>\n",
              "      <th>pickup_hour</th>\n",
              "      <th>dropoff_hour</th>\n",
              "    </tr>\n",
              "  </thead>\n",
              "  <tbody>\n",
              "    <tr>\n",
              "      <th>VendorID</th>\n",
              "      <td>1.000000</td>\n",
              "      <td>-0.000158</td>\n",
              "      <td>0.039438</td>\n",
              "      <td>0.043199</td>\n",
              "      <td>0.034038</td>\n",
              "      <td>0.040829</td>\n",
              "      <td>0.037151</td>\n",
              "      <td>0.007241</td>\n",
              "      <td>0.004383</td>\n",
              "      <td>0.005094</td>\n",
              "      <td>NaN</td>\n",
              "      <td>-0.004946</td>\n",
              "      <td>-0.001003</td>\n",
              "      <td>NaN</td>\n",
              "      <td>0.004048</td>\n",
              "      <td>-0.019378</td>\n",
              "      <td>0.000654</td>\n",
              "      <td>0.003178</td>\n",
              "      <td>0.002881</td>\n",
              "      <td>0.013713</td>\n",
              "      <td>0.011573</td>\n",
              "    </tr>\n",
              "    <tr>\n",
              "      <th>RateCodeID</th>\n",
              "      <td>-0.000158</td>\n",
              "      <td>1.000000</td>\n",
              "      <td>0.013750</td>\n",
              "      <td>0.002253</td>\n",
              "      <td>0.013087</td>\n",
              "      <td>0.000900</td>\n",
              "      <td>0.000197</td>\n",
              "      <td>0.000632</td>\n",
              "      <td>0.003865</td>\n",
              "      <td>-0.009643</td>\n",
              "      <td>NaN</td>\n",
              "      <td>-0.006675</td>\n",
              "      <td>0.000509</td>\n",
              "      <td>NaN</td>\n",
              "      <td>0.002073</td>\n",
              "      <td>0.007838</td>\n",
              "      <td>-0.000019</td>\n",
              "      <td>-0.002729</td>\n",
              "      <td>-0.002782</td>\n",
              "      <td>-0.004682</td>\n",
              "      <td>-0.004569</td>\n",
              "    </tr>\n",
              "    <tr>\n",
              "      <th>Pickup_longitude</th>\n",
              "      <td>0.039438</td>\n",
              "      <td>0.013750</td>\n",
              "      <td>1.000000</td>\n",
              "      <td>0.229255</td>\n",
              "      <td>0.618882</td>\n",
              "      <td>0.221241</td>\n",
              "      <td>0.002443</td>\n",
              "      <td>-0.024327</td>\n",
              "      <td>-0.032980</td>\n",
              "      <td>0.006138</td>\n",
              "      <td>NaN</td>\n",
              "      <td>-0.176691</td>\n",
              "      <td>-0.009684</td>\n",
              "      <td>NaN</td>\n",
              "      <td>-0.064905</td>\n",
              "      <td>0.174821</td>\n",
              "      <td>0.000676</td>\n",
              "      <td>-0.006229</td>\n",
              "      <td>-0.006376</td>\n",
              "      <td>-0.021495</td>\n",
              "      <td>-0.021146</td>\n",
              "    </tr>\n",
              "    <tr>\n",
              "      <th>Pickup_latitude</th>\n",
              "      <td>0.043199</td>\n",
              "      <td>0.002253</td>\n",
              "      <td>0.229255</td>\n",
              "      <td>1.000000</td>\n",
              "      <td>0.157122</td>\n",
              "      <td>0.785670</td>\n",
              "      <td>-0.032470</td>\n",
              "      <td>-0.054258</td>\n",
              "      <td>-0.055961</td>\n",
              "      <td>-0.052663</td>\n",
              "      <td>NaN</td>\n",
              "      <td>-0.105432</td>\n",
              "      <td>0.007483</td>\n",
              "      <td>NaN</td>\n",
              "      <td>-0.078637</td>\n",
              "      <td>0.087407</td>\n",
              "      <td>0.001267</td>\n",
              "      <td>-0.040181</td>\n",
              "      <td>-0.040105</td>\n",
              "      <td>-0.031606</td>\n",
              "      <td>-0.027993</td>\n",
              "    </tr>\n",
              "    <tr>\n",
              "      <th>Dropoff_longitude</th>\n",
              "      <td>0.034038</td>\n",
              "      <td>0.013087</td>\n",
              "      <td>0.618882</td>\n",
              "      <td>0.157122</td>\n",
              "      <td>1.000000</td>\n",
              "      <td>0.172611</td>\n",
              "      <td>0.008937</td>\n",
              "      <td>-0.024043</td>\n",
              "      <td>-0.034521</td>\n",
              "      <td>0.049084</td>\n",
              "      <td>NaN</td>\n",
              "      <td>-0.191942</td>\n",
              "      <td>-0.019684</td>\n",
              "      <td>NaN</td>\n",
              "      <td>-0.065527</td>\n",
              "      <td>0.186825</td>\n",
              "      <td>0.000780</td>\n",
              "      <td>-0.003702</td>\n",
              "      <td>-0.003813</td>\n",
              "      <td>-0.000946</td>\n",
              "      <td>-0.002704</td>\n",
              "    </tr>\n",
              "    <tr>\n",
              "      <th>Dropoff_latitude</th>\n",
              "      <td>0.040829</td>\n",
              "      <td>0.000900</td>\n",
              "      <td>0.221241</td>\n",
              "      <td>0.785670</td>\n",
              "      <td>0.172611</td>\n",
              "      <td>1.000000</td>\n",
              "      <td>-0.032610</td>\n",
              "      <td>-0.071623</td>\n",
              "      <td>-0.073566</td>\n",
              "      <td>-0.058207</td>\n",
              "      <td>NaN</td>\n",
              "      <td>-0.112471</td>\n",
              "      <td>0.012042</td>\n",
              "      <td>NaN</td>\n",
              "      <td>-0.096112</td>\n",
              "      <td>0.092024</td>\n",
              "      <td>0.001629</td>\n",
              "      <td>-0.041559</td>\n",
              "      <td>-0.041409</td>\n",
              "      <td>-0.029531</td>\n",
              "      <td>-0.025776</td>\n",
              "    </tr>\n",
              "    <tr>\n",
              "      <th>Passenger_count</th>\n",
              "      <td>0.037151</td>\n",
              "      <td>0.000197</td>\n",
              "      <td>0.002443</td>\n",
              "      <td>-0.032470</td>\n",
              "      <td>0.008937</td>\n",
              "      <td>-0.032610</td>\n",
              "      <td>1.000000</td>\n",
              "      <td>0.007249</td>\n",
              "      <td>0.007024</td>\n",
              "      <td>0.028576</td>\n",
              "      <td>NaN</td>\n",
              "      <td>0.005780</td>\n",
              "      <td>0.000850</td>\n",
              "      <td>NaN</td>\n",
              "      <td>0.009747</td>\n",
              "      <td>-0.001352</td>\n",
              "      <td>-0.000511</td>\n",
              "      <td>0.019537</td>\n",
              "      <td>0.019207</td>\n",
              "      <td>0.014844</td>\n",
              "      <td>0.013301</td>\n",
              "    </tr>\n",
              "    <tr>\n",
              "      <th>Trip_distance</th>\n",
              "      <td>0.007241</td>\n",
              "      <td>0.000632</td>\n",
              "      <td>-0.024327</td>\n",
              "      <td>-0.054258</td>\n",
              "      <td>-0.024043</td>\n",
              "      <td>-0.071623</td>\n",
              "      <td>0.007249</td>\n",
              "      <td>1.000000</td>\n",
              "      <td>0.843241</td>\n",
              "      <td>-0.013532</td>\n",
              "      <td>NaN</td>\n",
              "      <td>0.151372</td>\n",
              "      <td>0.038578</td>\n",
              "      <td>NaN</td>\n",
              "      <td>0.770924</td>\n",
              "      <td>-0.076723</td>\n",
              "      <td>-0.001048</td>\n",
              "      <td>0.038354</td>\n",
              "      <td>0.038031</td>\n",
              "      <td>-0.015927</td>\n",
              "      <td>-0.016486</td>\n",
              "    </tr>\n",
              "    <tr>\n",
              "      <th>Fare_amount</th>\n",
              "      <td>0.004383</td>\n",
              "      <td>0.003865</td>\n",
              "      <td>-0.032980</td>\n",
              "      <td>-0.055961</td>\n",
              "      <td>-0.034521</td>\n",
              "      <td>-0.073566</td>\n",
              "      <td>0.007024</td>\n",
              "      <td>0.843241</td>\n",
              "      <td>1.000000</td>\n",
              "      <td>-0.024188</td>\n",
              "      <td>NaN</td>\n",
              "      <td>0.155533</td>\n",
              "      <td>0.032382</td>\n",
              "      <td>NaN</td>\n",
              "      <td>0.857698</td>\n",
              "      <td>-0.073759</td>\n",
              "      <td>-0.001266</td>\n",
              "      <td>0.026994</td>\n",
              "      <td>0.026943</td>\n",
              "      <td>-0.015938</td>\n",
              "      <td>-0.014490</td>\n",
              "    </tr>\n",
              "    <tr>\n",
              "      <th>Extra</th>\n",
              "      <td>0.005094</td>\n",
              "      <td>-0.009643</td>\n",
              "      <td>0.006138</td>\n",
              "      <td>-0.052663</td>\n",
              "      <td>0.049084</td>\n",
              "      <td>-0.058207</td>\n",
              "      <td>0.028576</td>\n",
              "      <td>-0.013532</td>\n",
              "      <td>-0.024188</td>\n",
              "      <td>1.000000</td>\n",
              "      <td>NaN</td>\n",
              "      <td>0.014445</td>\n",
              "      <td>-0.016445</td>\n",
              "      <td>NaN</td>\n",
              "      <td>0.054365</td>\n",
              "      <td>-0.010657</td>\n",
              "      <td>-0.000308</td>\n",
              "      <td>-0.107286</td>\n",
              "      <td>-0.105467</td>\n",
              "      <td>0.238980</td>\n",
              "      <td>0.228166</td>\n",
              "    </tr>\n",
              "    <tr>\n",
              "      <th>MTA_tax</th>\n",
              "      <td>NaN</td>\n",
              "      <td>NaN</td>\n",
              "      <td>NaN</td>\n",
              "      <td>NaN</td>\n",
              "      <td>NaN</td>\n",
              "      <td>NaN</td>\n",
              "      <td>NaN</td>\n",
              "      <td>NaN</td>\n",
              "      <td>NaN</td>\n",
              "      <td>NaN</td>\n",
              "      <td>1.0</td>\n",
              "      <td>NaN</td>\n",
              "      <td>NaN</td>\n",
              "      <td>NaN</td>\n",
              "      <td>NaN</td>\n",
              "      <td>NaN</td>\n",
              "      <td>NaN</td>\n",
              "      <td>NaN</td>\n",
              "      <td>NaN</td>\n",
              "      <td>NaN</td>\n",
              "      <td>NaN</td>\n",
              "    </tr>\n",
              "    <tr>\n",
              "      <th>Tip_amount</th>\n",
              "      <td>-0.004946</td>\n",
              "      <td>-0.006675</td>\n",
              "      <td>-0.176691</td>\n",
              "      <td>-0.105432</td>\n",
              "      <td>-0.191942</td>\n",
              "      <td>-0.112471</td>\n",
              "      <td>0.005780</td>\n",
              "      <td>0.151372</td>\n",
              "      <td>0.155533</td>\n",
              "      <td>0.014445</td>\n",
              "      <td>NaN</td>\n",
              "      <td>1.000000</td>\n",
              "      <td>0.015076</td>\n",
              "      <td>NaN</td>\n",
              "      <td>0.324504</td>\n",
              "      <td>-0.746738</td>\n",
              "      <td>-0.000883</td>\n",
              "      <td>0.016644</td>\n",
              "      <td>0.016881</td>\n",
              "      <td>0.015657</td>\n",
              "      <td>0.014939</td>\n",
              "    </tr>\n",
              "    <tr>\n",
              "      <th>Tolls_amount</th>\n",
              "      <td>-0.001003</td>\n",
              "      <td>0.000509</td>\n",
              "      <td>-0.009684</td>\n",
              "      <td>0.007483</td>\n",
              "      <td>-0.019684</td>\n",
              "      <td>0.012042</td>\n",
              "      <td>0.000850</td>\n",
              "      <td>0.038578</td>\n",
              "      <td>0.032382</td>\n",
              "      <td>-0.016445</td>\n",
              "      <td>NaN</td>\n",
              "      <td>0.015076</td>\n",
              "      <td>1.000000</td>\n",
              "      <td>NaN</td>\n",
              "      <td>0.053789</td>\n",
              "      <td>-0.008903</td>\n",
              "      <td>-0.000056</td>\n",
              "      <td>-0.000327</td>\n",
              "      <td>-0.000316</td>\n",
              "      <td>-0.011787</td>\n",
              "      <td>-0.011298</td>\n",
              "    </tr>\n",
              "    <tr>\n",
              "      <th>improvement_surcharge</th>\n",
              "      <td>NaN</td>\n",
              "      <td>NaN</td>\n",
              "      <td>NaN</td>\n",
              "      <td>NaN</td>\n",
              "      <td>NaN</td>\n",
              "      <td>NaN</td>\n",
              "      <td>NaN</td>\n",
              "      <td>NaN</td>\n",
              "      <td>NaN</td>\n",
              "      <td>NaN</td>\n",
              "      <td>NaN</td>\n",
              "      <td>NaN</td>\n",
              "      <td>NaN</td>\n",
              "      <td>1.0</td>\n",
              "      <td>NaN</td>\n",
              "      <td>NaN</td>\n",
              "      <td>NaN</td>\n",
              "      <td>NaN</td>\n",
              "      <td>NaN</td>\n",
              "      <td>NaN</td>\n",
              "      <td>NaN</td>\n",
              "    </tr>\n",
              "    <tr>\n",
              "      <th>Total_amount</th>\n",
              "      <td>0.004048</td>\n",
              "      <td>0.002073</td>\n",
              "      <td>-0.064905</td>\n",
              "      <td>-0.078637</td>\n",
              "      <td>-0.065527</td>\n",
              "      <td>-0.096112</td>\n",
              "      <td>0.009747</td>\n",
              "      <td>0.770924</td>\n",
              "      <td>0.857698</td>\n",
              "      <td>0.054365</td>\n",
              "      <td>NaN</td>\n",
              "      <td>0.324504</td>\n",
              "      <td>0.053789</td>\n",
              "      <td>NaN</td>\n",
              "      <td>1.000000</td>\n",
              "      <td>-0.222111</td>\n",
              "      <td>-0.001415</td>\n",
              "      <td>0.017905</td>\n",
              "      <td>0.018042</td>\n",
              "      <td>0.013285</td>\n",
              "      <td>0.013942</td>\n",
              "    </tr>\n",
              "    <tr>\n",
              "      <th>Payment_type</th>\n",
              "      <td>-0.019378</td>\n",
              "      <td>0.007838</td>\n",
              "      <td>0.174821</td>\n",
              "      <td>0.087407</td>\n",
              "      <td>0.186825</td>\n",
              "      <td>0.092024</td>\n",
              "      <td>-0.001352</td>\n",
              "      <td>-0.076723</td>\n",
              "      <td>-0.073759</td>\n",
              "      <td>-0.010657</td>\n",
              "      <td>NaN</td>\n",
              "      <td>-0.746738</td>\n",
              "      <td>-0.008903</td>\n",
              "      <td>NaN</td>\n",
              "      <td>-0.222111</td>\n",
              "      <td>1.000000</td>\n",
              "      <td>0.001155</td>\n",
              "      <td>-0.009468</td>\n",
              "      <td>-0.009622</td>\n",
              "      <td>-0.015229</td>\n",
              "      <td>-0.014355</td>\n",
              "    </tr>\n",
              "    <tr>\n",
              "      <th>Trip_type</th>\n",
              "      <td>0.000654</td>\n",
              "      <td>-0.000019</td>\n",
              "      <td>0.000676</td>\n",
              "      <td>0.001267</td>\n",
              "      <td>0.000780</td>\n",
              "      <td>0.001629</td>\n",
              "      <td>-0.000511</td>\n",
              "      <td>-0.001048</td>\n",
              "      <td>-0.001266</td>\n",
              "      <td>-0.000308</td>\n",
              "      <td>NaN</td>\n",
              "      <td>-0.000883</td>\n",
              "      <td>-0.000056</td>\n",
              "      <td>NaN</td>\n",
              "      <td>-0.001415</td>\n",
              "      <td>0.001155</td>\n",
              "      <td>1.000000</td>\n",
              "      <td>0.000727</td>\n",
              "      <td>0.000727</td>\n",
              "      <td>-0.001096</td>\n",
              "      <td>-0.000974</td>\n",
              "    </tr>\n",
              "    <tr>\n",
              "      <th>pickup_day_number</th>\n",
              "      <td>0.003178</td>\n",
              "      <td>-0.002729</td>\n",
              "      <td>-0.006229</td>\n",
              "      <td>-0.040181</td>\n",
              "      <td>-0.003702</td>\n",
              "      <td>-0.041559</td>\n",
              "      <td>0.019537</td>\n",
              "      <td>0.038354</td>\n",
              "      <td>0.026994</td>\n",
              "      <td>-0.107286</td>\n",
              "      <td>NaN</td>\n",
              "      <td>0.016644</td>\n",
              "      <td>-0.000327</td>\n",
              "      <td>NaN</td>\n",
              "      <td>0.017905</td>\n",
              "      <td>-0.009468</td>\n",
              "      <td>0.000727</td>\n",
              "      <td>1.000000</td>\n",
              "      <td>0.988007</td>\n",
              "      <td>-0.021226</td>\n",
              "      <td>-0.024217</td>\n",
              "    </tr>\n",
              "    <tr>\n",
              "      <th>dropoff_day_number</th>\n",
              "      <td>0.002881</td>\n",
              "      <td>-0.002782</td>\n",
              "      <td>-0.006376</td>\n",
              "      <td>-0.040105</td>\n",
              "      <td>-0.003813</td>\n",
              "      <td>-0.041409</td>\n",
              "      <td>0.019207</td>\n",
              "      <td>0.038031</td>\n",
              "      <td>0.026943</td>\n",
              "      <td>-0.105467</td>\n",
              "      <td>NaN</td>\n",
              "      <td>0.016881</td>\n",
              "      <td>-0.000316</td>\n",
              "      <td>NaN</td>\n",
              "      <td>0.018042</td>\n",
              "      <td>-0.009622</td>\n",
              "      <td>0.000727</td>\n",
              "      <td>0.988007</td>\n",
              "      <td>1.000000</td>\n",
              "      <td>-0.019365</td>\n",
              "      <td>-0.024059</td>\n",
              "    </tr>\n",
              "    <tr>\n",
              "      <th>pickup_hour</th>\n",
              "      <td>0.013713</td>\n",
              "      <td>-0.004682</td>\n",
              "      <td>-0.021495</td>\n",
              "      <td>-0.031606</td>\n",
              "      <td>-0.000946</td>\n",
              "      <td>-0.029531</td>\n",
              "      <td>0.014844</td>\n",
              "      <td>-0.015927</td>\n",
              "      <td>-0.015938</td>\n",
              "      <td>0.238980</td>\n",
              "      <td>NaN</td>\n",
              "      <td>0.015657</td>\n",
              "      <td>-0.011787</td>\n",
              "      <td>NaN</td>\n",
              "      <td>0.013285</td>\n",
              "      <td>-0.015229</td>\n",
              "      <td>-0.001096</td>\n",
              "      <td>-0.021226</td>\n",
              "      <td>-0.019365</td>\n",
              "      <td>1.000000</td>\n",
              "      <td>0.954402</td>\n",
              "    </tr>\n",
              "    <tr>\n",
              "      <th>dropoff_hour</th>\n",
              "      <td>0.011573</td>\n",
              "      <td>-0.004569</td>\n",
              "      <td>-0.021146</td>\n",
              "      <td>-0.027993</td>\n",
              "      <td>-0.002704</td>\n",
              "      <td>-0.025776</td>\n",
              "      <td>0.013301</td>\n",
              "      <td>-0.016486</td>\n",
              "      <td>-0.014490</td>\n",
              "      <td>0.228166</td>\n",
              "      <td>NaN</td>\n",
              "      <td>0.014939</td>\n",
              "      <td>-0.011298</td>\n",
              "      <td>NaN</td>\n",
              "      <td>0.013942</td>\n",
              "      <td>-0.014355</td>\n",
              "      <td>-0.000974</td>\n",
              "      <td>-0.024217</td>\n",
              "      <td>-0.024059</td>\n",
              "      <td>0.954402</td>\n",
              "      <td>1.000000</td>\n",
              "    </tr>\n",
              "  </tbody>\n",
              "</table>\n",
              "</div>"
            ],
            "text/plain": [
              "                       VendorID  RateCodeID  ...  pickup_hour  dropoff_hour\n",
              "VendorID               1.000000   -0.000158  ...     0.013713      0.011573\n",
              "RateCodeID            -0.000158    1.000000  ...    -0.004682     -0.004569\n",
              "Pickup_longitude       0.039438    0.013750  ...    -0.021495     -0.021146\n",
              "Pickup_latitude        0.043199    0.002253  ...    -0.031606     -0.027993\n",
              "Dropoff_longitude      0.034038    0.013087  ...    -0.000946     -0.002704\n",
              "Dropoff_latitude       0.040829    0.000900  ...    -0.029531     -0.025776\n",
              "Passenger_count        0.037151    0.000197  ...     0.014844      0.013301\n",
              "Trip_distance          0.007241    0.000632  ...    -0.015927     -0.016486\n",
              "Fare_amount            0.004383    0.003865  ...    -0.015938     -0.014490\n",
              "Extra                  0.005094   -0.009643  ...     0.238980      0.228166\n",
              "MTA_tax                     NaN         NaN  ...          NaN           NaN\n",
              "Tip_amount            -0.004946   -0.006675  ...     0.015657      0.014939\n",
              "Tolls_amount          -0.001003    0.000509  ...    -0.011787     -0.011298\n",
              "improvement_surcharge       NaN         NaN  ...          NaN           NaN\n",
              "Total_amount           0.004048    0.002073  ...     0.013285      0.013942\n",
              "Payment_type          -0.019378    0.007838  ...    -0.015229     -0.014355\n",
              "Trip_type              0.000654   -0.000019  ...    -0.001096     -0.000974\n",
              "pickup_day_number      0.003178   -0.002729  ...    -0.021226     -0.024217\n",
              "dropoff_day_number     0.002881   -0.002782  ...    -0.019365     -0.024059\n",
              "pickup_hour            0.013713   -0.004682  ...     1.000000      0.954402\n",
              "dropoff_hour           0.011573   -0.004569  ...     0.954402      1.000000\n",
              "\n",
              "[21 rows x 21 columns]"
            ]
          },
          "metadata": {
            "tags": []
          },
          "execution_count": 24
        }
      ]
    },
    {
      "cell_type": "markdown",
      "metadata": {
        "id": "IsoNG05M6MyG"
      },
      "source": [
        "There is strong correlation between trip distance with fare amount and total amount so we will remove those variables and other non used variables"
      ]
    },
    {
      "cell_type": "markdown",
      "metadata": {
        "id": "LddYT_ThnNeB"
      },
      "source": [
        "# Remove correlated variables "
      ]
    },
    {
      "cell_type": "code",
      "metadata": {
        "id": "ejhP5f7dCR8j"
      },
      "source": [
        "# Select Coloums required \n",
        "clean_data_pandas=taxi_data_no_outlier_pandas[[\t'pickup_datetime'\t,'pickup_day_number',\t'pickup_hour'\t,'pickup_timeofday',\t'VendorID',\t'Store_and_fwd_flag',\t'RateCodeID',\t\t'Passenger_count',\t'Trip_distance'\t,'Payment_type']]\n",
        "\n"
      ],
      "execution_count": 25,
      "outputs": []
    },
    {
      "cell_type": "code",
      "metadata": {
        "id": "fqKahRo1AE2B"
      },
      "source": [
        "import findspark\n",
        "findspark.init()\n",
        "from pyspark.sql import SparkSession\n",
        "spark = SparkSession.builder.master(\"local[*]\").getOrCreate()"
      ],
      "execution_count": 28,
      "outputs": []
    },
    {
      "cell_type": "code",
      "metadata": {
        "id": "XzIgi5aABfFQ"
      },
      "source": [
        "# change pandas to spark dataframe\n",
        "cleaned_data = spark.createDataFrame(clean_data_pandas)"
      ],
      "execution_count": 27,
      "outputs": []
    },
    {
      "cell_type": "markdown",
      "metadata": {
        "id": "lD47QgLwoDc8"
      },
      "source": [
        "# Check data is staionary or not"
      ]
    },
    {
      "cell_type": "code",
      "metadata": {
        "colab": {
          "base_uri": "https://localhost:8080/",
          "height": 280
        },
        "id": "fSRL3ivBEh2V",
        "outputId": "c332937f-a40b-412e-e0d8-d0463e01d5bd"
      },
      "source": [
        "\n",
        "from matplotlib import pyplot\n",
        "import matplotlib.pyplot as plt\n",
        "clean_data_pandas.plot(x='pickup_datetime')\n",
        "pyplot.show()"
      ],
      "execution_count": null,
      "outputs": [
        {
          "output_type": "display_data",
          "data": {
            "image/png": "[encoded data removed]",
            "text/plain": [
              "<Figure size 432x288 with 1 Axes>"
            ]
          },
          "metadata": {
            "tags": [],
            "needs_background": "light"
          }
        }
      ]
    },
    {
      "cell_type": "markdown",
      "metadata": {
        "id": "wSuiOP5PF9BM"
      },
      "source": [
        "Data is non staionary"
      ]
    },
    {
      "cell_type": "markdown",
      "metadata": {
        "id": "n9qigJ060cwY"
      },
      "source": [
        "# Create final table for Model"
      ]
    },
    {
      "cell_type": "code",
      "metadata": {
        "colab": {
          "base_uri": "https://localhost:8080/"
        },
        "id": "JM0LBSu1x8Ox",
        "outputId": "ee1eea80-d228-41b8-8630-5e2235419152"
      },
      "source": [
        "# Change all coloums types of int or float\n",
        "cleaned_data_strflg=cleaned_data.withColumn(\"Store_and_fwd_code\", F.when(cleaned_data.Store_and_fwd_flag == 'N', F.lit(0)).otherwise(F.lit(1))).drop(\"Store_and_fwd_flag\")\n",
        "\n",
        "cleaned_data2=cleaned_data_strflg.withColumn(\"Class\",F.when(cleaned_data_strflg.pickup_timeofday == 'Morning', F.lit(1)).when(cleaned_data_strflg.pickup_timeofday == 'Afternoon',F.lit(1)).when(cleaned_data_strflg.pickup_timeofday == 'Evening',F.lit(2)).otherwise(3)).drop(\"pickup_timeofday\").distinct()\n",
        "\n",
        "cleaned_data2.distinct().count()"
      ],
      "execution_count": 29,
      "outputs": [
        {
          "output_type": "execute_result",
          "data": {
            "text/plain": [
              "1269388"
            ]
          },
          "metadata": {
            "tags": []
          },
          "execution_count": 29
        }
      ]
    },
    {
      "cell_type": "code",
      "metadata": {
        "id": "Hgg04K7R00G-",
        "colab": {
          "base_uri": "https://localhost:8080/"
        },
        "outputId": "857d9713-c2cb-4e9c-c365-271760122ffa"
      },
      "source": [
        "# Add a coloum number of trips for forceasting\n",
        "\n",
        "trips=cleaned_data2.groupby(\"pickup_hour\",\"pickup_day_number\").agg(F.count(F.lit(1)).alias(\"trips\"))\n",
        "\n",
        "cleaned_data_final=cleaned_data2.join(trips,(cleaned_data2.pickup_hour==trips.pickup_hour) & (cleaned_data2.pickup_day_number==trips.pickup_day_number)).select(cleaned_data2[\"*\"],trips.trips)\n",
        "\n",
        "cleaned_data_final.distinct().count()"
      ],
      "execution_count": 30,
      "outputs": [
        {
          "output_type": "execute_result",
          "data": {
            "text/plain": [
              "1269388"
            ]
          },
          "metadata": {
            "tags": []
          },
          "execution_count": 30
        }
      ]
    },
    {
      "cell_type": "code",
      "metadata": {
        "colab": {
          "base_uri": "https://localhost:8080/"
        },
        "id": "llno2JPjByi2",
        "outputId": "9f020564-ebdc-4a33-ce7c-50e53130c429"
      },
      "source": [
        "# Check max and min pickup time for dividing between test and control \n",
        "cleaned_data.agg(F.min(\"pickup_datetime\").alias(\"min_date\"),F.max(\"pickup_datetime\").alias(\"max_date\")).show()"
      ],
      "execution_count": 31,
      "outputs": [
        {
          "output_type": "stream",
          "text": [
            "+-------------------+-------------------+\n",
            "|           min_date|           max_date|\n",
            "+-------------------+-------------------+\n",
            "|2016-02-01 00:00:01|2016-02-29 23:59:53|\n",
            "+-------------------+-------------------+\n",
            "\n"
          ],
          "name": "stdout"
        }
      ]
    },
    {
      "cell_type": "code",
      "metadata": {
        "id": "ycSqj8VSy5rE"
      },
      "source": [
        "# Divide test and train (base on date Feb 12th 10:00 am)\n",
        "\n",
        "train=cleaned_data_final.where(\"pickup_datetime < '2016-02-12 10:00:00'\").drop(\"pickup_datetime\")\n",
        "\n",
        "test=cleaned_data_final.where(\"pickup_datetime between '2016-02-12 10:00:00' and '2016-02-12 22:00:00'\").drop(\"pickup_datetime\")"
      ],
      "execution_count": 32,
      "outputs": []
    },
    {
      "cell_type": "code",
      "metadata": {
        "id": "8atJOqjA3W6k"
      },
      "source": [
        "# To pandas\n",
        "train_pandas = train.toPandas()\n",
        "test_pandas = test.toPandas()"
      ],
      "execution_count": 33,
      "outputs": []
    },
    {
      "cell_type": "code",
      "metadata": {
        "id": "OT9xwlZFvhxy"
      },
      "source": [
        "# Divide data for model fit\n",
        "y_train = train_pandas['trips']\n",
        "x_train = train_pandas.drop(['trips'],axis=1)\n",
        "\n",
        "y_test = test_pandas['trips']\n",
        "x_test = test_pandas.drop(['trips'],axis=1)"
      ],
      "execution_count": 37,
      "outputs": []
    },
    {
      "cell_type": "markdown",
      "metadata": {
        "id": "X5qL-5dl0htd"
      },
      "source": [
        "# Build Model, fit and test"
      ]
    },
    {
      "cell_type": "code",
      "metadata": {
        "colab": {
          "base_uri": "https://localhost:8080/"
        },
        "id": "tSaZNZVws6Eu",
        "outputId": "2acae34f-9c5a-4231-9498-a97dbac0a4ee"
      },
      "source": [
        "# get Model details and run it\n",
        "xgbr = xgb.XGBRegressor(verbosity=0) \n",
        "print(xgbr)"
      ],
      "execution_count": 38,
      "outputs": [
        {
          "output_type": "stream",
          "text": [
            "XGBRegressor(base_score=0.5, booster='gbtree', colsample_bylevel=1,\n",
            "             colsample_bynode=1, colsample_bytree=1, gamma=0,\n",
            "             importance_type='gain', learning_rate=0.1, max_delta_step=0,\n",
            "             max_depth=3, min_child_weight=1, missing=None, n_estimators=100,\n",
            "             n_jobs=1, nthread=None, objective='reg:linear', random_state=0,\n",
            "             reg_alpha=0, reg_lambda=1, scale_pos_weight=1, seed=None,\n",
            "             silent=None, subsample=1, verbosity=0)\n"
          ],
          "name": "stdout"
        }
      ]
    },
    {
      "cell_type": "code",
      "metadata": {
        "colab": {
          "base_uri": "https://localhost:8080/"
        },
        "id": "PLNDVY54tJFu",
        "outputId": "4f757fe6-a2be-44ba-8286-71d69be3eb33"
      },
      "source": [
        "# Model fit\n",
        "xgbr.fit(x_train, y_train)"
      ],
      "execution_count": 39,
      "outputs": [
        {
          "output_type": "execute_result",
          "data": {
            "text/plain": [
              "XGBRegressor(base_score=0.5, booster='gbtree', colsample_bylevel=1,\n",
              "             colsample_bynode=1, colsample_bytree=1, gamma=0,\n",
              "             importance_type='gain', learning_rate=0.1, max_delta_step=0,\n",
              "             max_depth=3, min_child_weight=1, missing=None, n_estimators=100,\n",
              "             n_jobs=1, nthread=None, objective='reg:linear', random_state=0,\n",
              "             reg_alpha=0, reg_lambda=1, scale_pos_weight=1, seed=None,\n",
              "             silent=None, subsample=1, verbosity=0)"
            ]
          },
          "metadata": {
            "tags": []
          },
          "execution_count": 39
        }
      ]
    },
    {
      "cell_type": "code",
      "metadata": {
        "colab": {
          "base_uri": "https://localhost:8080/"
        },
        "id": "NVv5KXuBtLE1",
        "outputId": "5d34a715-73c6-4c4e-ca63-ff319cbe61d2"
      },
      "source": [
        "# get Training score\n",
        "score = xgbr.score(x_train, y_train)  \n",
        "print(\"Training score: \", score)"
      ],
      "execution_count": 40,
      "outputs": [
        {
          "output_type": "stream",
          "text": [
            "Training score:  0.984571442452499\n"
          ],
          "name": "stdout"
        }
      ]
    },
    {
      "cell_type": "markdown",
      "metadata": {
        "id": "dH6lTgqgzme2"
      },
      "source": [
        "Insights: Training scores are very high shows more accuracy of data"
      ]
    },
    {
      "cell_type": "code",
      "metadata": {
        "colab": {
          "base_uri": "https://localhost:8080/"
        },
        "id": "oBv8YB_-5bUR",
        "outputId": "4790eb75-1fc9-44dd-e905-3ec22e08e447"
      },
      "source": [
        "# Check cross validation score for 2nd check of model\n",
        "\n",
        "scores = cross_val_score(xgbr, x_train, y_train,cv=10)\n",
        "print(\"Mean cross-validation score: %.2f\" % scores.mean())\n"
      ],
      "execution_count": 41,
      "outputs": [
        {
          "output_type": "stream",
          "text": [
            "Mean cross-validation score: 0.94\n"
          ],
          "name": "stdout"
        }
      ]
    },
    {
      "cell_type": "markdown",
      "metadata": {
        "id": "q1tyawm2zwV9"
      },
      "source": [
        "Insights: Cross validation score is 90 % which makes sure model is effecient"
      ]
    },
    {
      "cell_type": "code",
      "metadata": {
        "colab": {
          "base_uri": "https://localhost:8080/"
        },
        "id": "uXcctNWi538y",
        "outputId": "97e54d9e-7684-4937-9d30-04baa353ac98"
      },
      "source": [
        "#Get RMSE Score\n",
        "y_pred = xgbr.predict(x_test)\n",
        "mse = mean_squared_error(y_test, y_pred)\n",
        "\n",
        "print(\"RMSE: %.2f\" % (mse**(1/2.0)))\n"
      ],
      "execution_count": 42,
      "outputs": [
        {
          "output_type": "stream",
          "text": [
            "RMSE: 566.41\n"
          ],
          "name": "stdout"
        }
      ]
    },
    {
      "cell_type": "markdown",
      "metadata": {
        "id": "j0vTu3VHz_X9"
      },
      "source": [
        "Inisghts: RMSE score is "
      ]
    },
    {
      "cell_type": "code",
      "metadata": {
        "colab": {
          "base_uri": "https://localhost:8080/",
          "height": 281
        },
        "id": "AVX_jLrP6tgM",
        "outputId": "1c9b79fe-8e7b-4bdb-dbdf-e82ff2560ad4"
      },
      "source": [
        "# Plot graph to check accuracy and difference between original and predicted \n",
        "x_ax = range(len(y_test))\n",
        "plt.plot(x_ax, y_test, label=\"original\")\n",
        "plt.plot(x_ax, y_pred, label=\"predicted\")\n",
        "plt.title(\"NYC Taxi trips prediction\")\n",
        "plt.legend()\n",
        "plt.show()"
      ],
      "execution_count": 50,
      "outputs": [
        {
          "output_type": "display_data",
          "data": {
            "image/png": "[encoded data removed]",
            "text/plain": [
              "<Figure size 432x288 with 1 Axes>"
            ]
          },
          "metadata": {
            "tags": [],
            "needs_background": "light"
          }
        }
      ]
    },
    {
      "cell_type": "markdown",
      "metadata": {
        "id": "Psf94c370HZ3"
      },
      "source": [
        "Insights: graph clearly states that model is predicting values very close to original "
      ]
    },
    {
      "cell_type": "code",
      "metadata": {
        "id": "yDomd9P516r9"
      },
      "source": [
        ""
      ],
      "execution_count": null,
      "outputs": []
    }
  ]
}