{
  "nbformat": 4,
  "nbformat_minor": 0,
  "metadata": {
    "colab": {
      "name": "exploartion pyspark.ipynb",
      "provenance": [],
      "authorship_tag": "ABX9TyPl3mcq0kJ6gA1kocne+xxH",
      "include_colab_link": true
    },
    "kernelspec": {
      "name": "python3",
      "display_name": "Python 3"
    },
    "language_info": {
      "name": "python"
    }
  },
  "cells": [
    {
      "cell_type": "markdown",
      "metadata": {
        "id": "view-in-github",
        "colab_type": "text"
      },
      "source": [
        "<a href=\"https://colab.research.google.com/github/Rishabhjuneja/NYC-Taxi/blob/main/exploartion_pyspark.ipynb\" target=\"_parent\"><img src=\"https://colab.research.google.com/assets/colab-badge.svg\" alt=\"Open In Colab\"/></a>"
      ]
    },
    {
      "cell_type": "code",
      "metadata": {
        "id": "tiAAwOnU2Imt"
      },
      "source": [
        "# innstall java\n",
        "!apt-get install openjdk-8-jdk-headless -qq > /dev/null\n",
        "\n",
        "# install spark (change the version number if needed)\n",
        "!wget -q https://archive.apache.org/dist/spark/spark-3.0.0/spark-3.0.0-bin-hadoop3.2.tgz\n",
        "\n",
        "# unzip the spark file to the current folder\n",
        "!tar xf spark-3.0.0-bin-hadoop3.2.tgz\n",
        "\n",
        "!pip install -q findspark"
      ],
      "execution_count": 1,
      "outputs": []
    },
    {
      "cell_type": "code",
      "metadata": {
        "id": "Zi9THTN12Oha"
      },
      "source": [
        "import os\n",
        "os.environ[\"JAVA_HOME\"] = \"/usr/lib/jvm/java-8-openjdk-amd64\"\n",
        "os.environ[\"SPARK_HOME\"] = \"/content/spark-3.0.0-bin-hadoop3.2\""
      ],
      "execution_count": 2,
      "outputs": []
    },
    {
      "cell_type": "code",
      "metadata": {
        "id": "Mm2PG5_J3AwN"
      },
      "source": [
        "import findspark\n",
        "findspark.init()\n",
        "from pyspark.sql import SparkSession\n",
        "spark = SparkSession.builder.master(\"local[*]\").getOrCreate()"
      ],
      "execution_count": 3,
      "outputs": []
    },
    {
      "cell_type": "code",
      "metadata": {
        "colab": {
          "base_uri": "https://localhost:8080/"
        },
        "id": "lVxFxGtBh5jE",
        "outputId": "1954e915-91ec-4d0d-ea45-6d2e83789046"
      },
      "source": [
        "from pyspark.sql import functions as F\n",
        "import pandas as pd\n",
        "import matplotlib.pyplot as plt\n",
        "import pandas as pd\n",
        "import matplotlib.pyplot as plt\n",
        "import numpy as np\n",
        "import seaborn as sns\n",
        "\n",
        "from datetime import datetime\n",
        "from sklearn.cluster import MiniBatchKMeans, KMeans\n",
        "import warnings\n",
        "import itertools\n",
        "import statsmodels.api as sm\n",
        "from sklearn.metrics import mean_absolute_error\n",
        "from sklearn.metrics import mean_squared_error\n",
        "import time\n",
        "import folium\n",
        "from folium import Choropleth ,  Circle, Marker"
      ],
      "execution_count": 13,
      "outputs": [
        {
          "output_type": "stream",
          "text": [
            "/usr/local/lib/python3.7/dist-packages/statsmodels/tools/_testing.py:19: FutureWarning: pandas.util.testing is deprecated. Use the functions in the public API at pandas.testing instead.\n",
            "  import pandas.util.testing as tm\n"
          ],
          "name": "stderr"
        }
      ]
    },
    {
      "cell_type": "code",
      "metadata": {
        "id": "0ZqCGsQh3QgN"
      },
      "source": [
        "file_loc='./green_tripdata_2016-02.csv'\n",
        "taxi_data = spark.read.csv(file_loc, inferSchema=True, header =True)"
      ],
      "execution_count": 21,
      "outputs": []
    },
    {
      "cell_type": "code",
      "metadata": {
        "colab": {
          "base_uri": "https://localhost:8080/"
        },
        "id": "bK3JW-2C3gT4",
        "outputId": "ea1dc92b-72f1-44ec-9ed3-8a37762c26a1"
      },
      "source": [
        "dtaxi_data.show(5)"
      ],
      "execution_count": 6,
      "outputs": [
        {
          "output_type": "stream",
          "text": [
            "+--------+--------------------+---------------------+------------------+----------+------------------+------------------+------------------+------------------+---------------+-------------+-----------+-----+-------+----------+------------+---------+---------------------+------------+------------+----------+\n",
            "|VendorID|lpep_pickup_datetime|Lpep_dropoff_datetime|Store_and_fwd_flag|RateCodeID|  Pickup_longitude|   Pickup_latitude| Dropoff_longitude|  Dropoff_latitude|Passenger_count|Trip_distance|Fare_amount|Extra|MTA_tax|Tip_amount|Tolls_amount|Ehail_fee|improvement_surcharge|Total_amount|Payment_type|Trip_type |\n",
            "+--------+--------------------+---------------------+------------------+----------+------------------+------------------+------------------+------------------+---------------+-------------+-----------+-----+-------+----------+------------+---------+---------------------+------------+------------+----------+\n",
            "|       2| 2016-02-01 00:00:01|  2016-02-01 00:10:06|                 N|         1|-73.93901824951172|40.805213928222656| -73.9725341796875|40.785884857177734|              1|         2.86|       10.5|  0.5|    0.5|       0.0|         0.0|     null|                  0.3|        11.8|           2|         1|\n",
            "|       2| 2016-02-01 00:01:33|  2016-02-01 00:20:13|                 N|         1|-73.89149475097656| 40.74665069580078|-73.89087677001953|   40.743896484375|              1|         3.35|       13.0|  0.5|    0.5|       0.0|         0.0|     null|                  0.3|        14.3|           2|         1|\n",
            "|       2| 2016-02-01 00:03:46|  2016-02-01 00:21:04|                 N|         1|-73.98377990722656| 40.67613220214844|-73.95697784423828|40.718326568603516|              1|          4.7|       17.5|  0.5|    0.5|      3.76|         0.0|     null|                  0.3|       22.56|           1|         1|\n",
            "|       2| 2016-02-01 00:00:05|  2016-02-01 00:06:48|                 N|         1| -73.8075180053711|40.700374603271484|-73.83165740966797| 40.70597839355469|              1|         2.11|        8.0|  0.5|    0.5|       0.0|         0.0|     null|                  0.3|         9.3|           2|         1|\n",
            "|       2| 2016-02-01 00:06:20|  2016-02-01 00:08:47|                 N|         1|-73.90396118164062| 40.74493408203125|-73.90000915527344| 40.73360061645508|              5|         0.98|        5.0|  0.5|    0.5|       0.0|         0.0|     null|                  0.3|         6.3|           2|         1|\n",
            "+--------+--------------------+---------------------+------------------+----------+------------------+------------------+------------------+------------------+---------------+-------------+-----------+-----+-------+----------+------------+---------+---------------------+------------+------------+----------+\n",
            "only showing top 5 rows\n",
            "\n"
          ],
          "name": "stdout"
        }
      ]
    },
    {
      "cell_type": "code",
      "metadata": {
        "colab": {
          "base_uri": "https://localhost:8080/"
        },
        "id": "Js_zxTxmw8dY",
        "outputId": "6c31d282-6797-43b8-bf64-28623798cf53"
      },
      "source": [
        "dtaxi_data.printSchema()"
      ],
      "execution_count": 7,
      "outputs": [
        {
          "output_type": "stream",
          "text": [
            "root\n",
            " |-- VendorID: integer (nullable = true)\n",
            " |-- lpep_pickup_datetime: string (nullable = true)\n",
            " |-- Lpep_dropoff_datetime: string (nullable = true)\n",
            " |-- Store_and_fwd_flag: string (nullable = true)\n",
            " |-- RateCodeID: integer (nullable = true)\n",
            " |-- Pickup_longitude: double (nullable = true)\n",
            " |-- Pickup_latitude: double (nullable = true)\n",
            " |-- Dropoff_longitude: double (nullable = true)\n",
            " |-- Dropoff_latitude: double (nullable = true)\n",
            " |-- Passenger_count: integer (nullable = true)\n",
            " |-- Trip_distance: double (nullable = true)\n",
            " |-- Fare_amount: double (nullable = true)\n",
            " |-- Extra: double (nullable = true)\n",
            " |-- MTA_tax: double (nullable = true)\n",
            " |-- Tip_amount: double (nullable = true)\n",
            " |-- Tolls_amount: double (nullable = true)\n",
            " |-- Ehail_fee: string (nullable = true)\n",
            " |-- improvement_surcharge: double (nullable = true)\n",
            " |-- Total_amount: double (nullable = true)\n",
            " |-- Payment_type: integer (nullable = true)\n",
            " |-- Trip_type : integer (nullable = true)\n",
            "\n"
          ],
          "name": "stdout"
        }
      ]
    },
    {
      "cell_type": "code",
      "metadata": {
        "colab": {
          "base_uri": "https://localhost:8080/"
        },
        "id": "4hqJjKoy4OiT",
        "outputId": "e8e24e2e-1007-44b1-ff71-7fb3ca485fac"
      },
      "source": [
        "# check number of rows & Coloums \n",
        "\n",
        "print((taxi_data.count(), len(taxi_data.columns)))"
      ],
      "execution_count": 7,
      "outputs": [
        {
          "output_type": "stream",
          "text": [
            "(452861, 21)\n"
          ],
          "name": "stdout"
        }
      ]
    },
    {
      "cell_type": "code",
      "metadata": {
        "colab": {
          "base_uri": "https://localhost:8080/"
        },
        "id": "UWc_Jkm4hAhC",
        "outputId": "c927f2a7-e5ff-44af-8045-5b4539b41168"
      },
      "source": [
        "# Check any missing values \n",
        "\n",
        "from pyspark.sql.functions import lit\n",
        "\n",
        "rows = taxi_data.count()\n",
        "summary = taxi_data.describe().filter(F.col(\"summary\") == \"count\")\n",
        "summary.select(*((F.lit(rows)-F.col(c)).alias(c) for c in taxi_data.columns)).show()"
      ],
      "execution_count": 8,
      "outputs": [
        {
          "output_type": "stream",
          "text": [
            "+--------+--------------------+---------------------+------------------+----------+----------------+---------------+-----------------+----------------+---------------+-------------+-----------+-----+-------+----------+------------+---------+---------------------+------------+------------+----------+\n",
            "|VendorID|lpep_pickup_datetime|Lpep_dropoff_datetime|Store_and_fwd_flag|RateCodeID|Pickup_longitude|Pickup_latitude|Dropoff_longitude|Dropoff_latitude|Passenger_count|Trip_distance|Fare_amount|Extra|MTA_tax|Tip_amount|Tolls_amount|Ehail_fee|improvement_surcharge|Total_amount|Payment_type|Trip_type |\n",
            "+--------+--------------------+---------------------+------------------+----------+----------------+---------------+-----------------+----------------+---------------+-------------+-----------+-----+-------+----------+------------+---------+---------------------+------------+------------+----------+\n",
            "|     0.0|                 0.0|                  0.0|               0.0|       0.0|             0.0|            0.0|              0.0|             0.0|            0.0|          0.0|        0.0|  0.0|    0.0|       0.0|         0.0| 649913.0|                  0.0|         0.0|         0.0|       1.0|\n",
            "+--------+--------------------+---------------------+------------------+----------+----------------+---------------+-----------------+----------------+---------------+-------------+-----------+-----+-------+----------+------------+---------+---------------------+------------+------------+----------+\n",
            "\n"
          ],
          "name": "stdout"
        }
      ]
    },
    {
      "cell_type": "code",
      "metadata": {
        "colab": {
          "base_uri": "https://localhost:8080/"
        },
        "id": "bl7GPaj7hiyA",
        "outputId": "c55e91de-799f-4ee2-814b-d917fbfef0c3"
      },
      "source": [
        "# Descriptive Statistics\n",
        "\n",
        "taxi_data.describe().show()\n",
        " "
      ],
      "execution_count": 9,
      "outputs": [
        {
          "output_type": "stream",
          "text": [
            "+-------+-------------------+--------------------+---------------------+------------------+------------------+-------------------+------------------+-------------------+------------------+-----------------+------------------+------------------+-------------------+-------------------+------------------+-------------------+---------+---------------------+------------------+------------------+-------------------+\n",
            "|summary|           VendorID|lpep_pickup_datetime|Lpep_dropoff_datetime|Store_and_fwd_flag|        RateCodeID|   Pickup_longitude|   Pickup_latitude|  Dropoff_longitude|  Dropoff_latitude|  Passenger_count|     Trip_distance|       Fare_amount|              Extra|            MTA_tax|        Tip_amount|       Tolls_amount|Ehail_fee|improvement_surcharge|      Total_amount|      Payment_type|         Trip_type |\n",
            "+-------+-------------------+--------------------+---------------------+------------------+------------------+-------------------+------------------+-------------------+------------------+-----------------+------------------+------------------+-------------------+-------------------+------------------+-------------------+---------+---------------------+------------------+------------------+-------------------+\n",
            "|  count|             649913|              649913|               649913|            649913|            649913|             649913|            649913|             649913|            649913|           649913|            649913|            649913|             649913|             649913|            649913|             649913|        0|               649913|            649913|            649913|             649912|\n",
            "|   mean| 1.7838326052871691|                null|                 null|              null|1.0934617402636968| -73.81267313297307|40.673284641084045|  -73.8280358286245|40.680564075643964|1.346378669144947|2.6964662654847635|11.676127004691377| 0.3651216393578833|0.48676207430840746| 1.223923694402306|0.10266543368113425|     null|   0.2920514284236397| 14.14660516094118|1.5091250675090357| 1.0219029653245362|\n",
            "| stddev|0.41163006800603785|                null|                 null|              null|0.6409717398219771|  3.215893669929127|1.7378629226454811|  3.016864428370697|1.6265761146819597|1.011935489505922| 2.843376444743639| 9.473062749283859|0.39660734889628463| 0.0891373763255866|2.4765094702857415| 1.3845625488846054|     null|  0.05166932088258416|11.006312787232599|0.5243990454880706|0.14636686236252555|\n",
            "|    min|                  1| 2016-02-01 00:00:01|  2016-02-01 00:01:04|                 N|                 1|-115.22274017333984|               0.0|-115.33221435546875|               0.0|                0|               0.0|            -300.0|               -4.5|               -0.5|              -2.7|              -12.5|     null|                 -0.3|            -300.0|                 1|                  1|\n",
            "|    max|                  2| 2016-02-13 18:59:59|  2016-02-14 18:56:49|                 Y|                99|                0.0|  42.3243522644043|                0.0|42.324249267578125|                9|             235.5|             933.5|                4.5|                3.0|             400.0|             902.17|     null|                 1.77|           1121.16|                 5|                  2|\n",
            "+-------+-------------------+--------------------+---------------------+------------------+------------------+-------------------+------------------+-------------------+------------------+-----------------+------------------+------------------+-------------------+-------------------+------------------+-------------------+---------+---------------------+------------------+------------------+-------------------+\n",
            "\n"
          ],
          "name": "stdout"
        }
      ]
    },
    {
      "cell_type": "markdown",
      "metadata": {
        "id": "Mo_wxeJdjzVz"
      },
      "source": [
        "Study: There seems to be outliers in differenet coloums such as ratecodeid , trip distance , fare amount, extra , mat tax should be .5 , trip amount , "
      ]
    },
    {
      "cell_type": "code",
      "metadata": {
        "colab": {
          "base_uri": "https://localhost:8080/"
        },
        "id": "v3OHwx-iiS3n",
        "outputId": "9ffef894-06bc-4ff8-f129-954924d19086"
      },
      "source": [
        "# Check quantile to deepdive check for outliers\n",
        "pandastaxi_data = taxi_data.toPandas()\n",
        "pandastaxi_data.quantile(q=0.5, axis=0, numeric_only=True, interpolation='linear')"
      ],
      "execution_count": 25,
      "outputs": [
        {
          "output_type": "execute_result",
          "data": {
            "text/plain": [
              "VendorID                  2.000000\n",
              "RateCodeID                1.000000\n",
              "Pickup_longitude        -73.946976\n",
              "Pickup_latitude          40.746689\n",
              "Dropoff_longitude       -73.946152\n",
              "Dropoff_latitude         40.747276\n",
              "Passenger_count           1.000000\n",
              "Trip_distance             1.800000\n",
              "Fare_amount               9.000000\n",
              "Extra                     0.500000\n",
              "MTA_tax                   0.500000\n",
              "Tip_amount                0.000000\n",
              "Tolls_amount              0.000000\n",
              "improvement_surcharge     0.300000\n",
              "Total_amount             11.000000\n",
              "Payment_type              1.000000\n",
              "Trip_type                 1.000000\n",
              "Name: 0.5, dtype: float64"
            ]
          },
          "metadata": {
            "tags": []
          },
          "execution_count": 25
        }
      ]
    },
    {
      "cell_type": "code",
      "metadata": {
        "id": "YAtMcA3chmjW"
      },
      "source": [
        "pandas_taxi_data = taxi_data.toPandas()"
      ],
      "execution_count": 25,
      "outputs": []
    },
    {
      "cell_type": "code",
      "metadata": {
        "colab": {
          "base_uri": "https://localhost:8080/",
          "height": 426
        },
        "id": "oTfQfQSRzFc9",
        "outputId": "3b541d42-b6b4-4942-a590-2c4089e711bc"
      },
      "source": [
        "# Plot trip distance to check outliers\n",
        "plt.figure(figsize = (8,5))\n",
        "sns.boxplot(\"Trip_distance\", data = pandas_taxi_data, orient = \"v\")\n",
        "plt.tick_params(labelsize = 10)\n",
        "plt.ylabel(\"Trip_distance\", fontsize = 10)\n",
        "plt.show()"
      ],
      "execution_count": 37,
      "outputs": [
        {
          "output_type": "stream",
          "text": [
            "/usr/local/lib/python3.7/dist-packages/seaborn/_decorators.py:43: FutureWarning: Pass the following variable as a keyword arg: x. From version 0.12, the only valid positional argument will be `data`, and passing other arguments without an explicit keyword will result in an error or misinterpretation.\n",
            "  FutureWarning\n",
            "/usr/local/lib/python3.7/dist-packages/seaborn/_core.py:1319: UserWarning: Vertical orientation ignored with only `x` specified.\n",
            "  warnings.warn(single_var_warning.format(\"Vertical\", \"x\"))\n"
          ],
          "name": "stderr"
        },
        {
          "output_type": "display_data",
          "data": {
            "image/png": "[encoded data removed]",
            "text/plain": [
              "<Figure size 576x360 with 1 Axes>"
            ]
          },
          "metadata": {
            "tags": [],
            "needs_background": "light"
          }
        }
      ]
    },
    {
      "cell_type": "markdown",
      "metadata": {
        "id": "YrpLquKvjlJ6"
      },
      "source": [
        "Study: There are some outliers but we should be looked deep into it"
      ]
    },
    {
      "cell_type": "code",
      "metadata": {
        "colab": {
          "base_uri": "https://localhost:8080/"
        },
        "id": "q13UNvDGhsjM",
        "outputId": "d97cd631-afab-48f4-bbbe-a40cf65ebed6"
      },
      "source": [
        "# We investigate Quartiles (0-100)\n",
        "tripDistance_quatile = pandas_taxi_data.Trip_distance.quantile(np.round(np.arange(0.00, 1.01, 0.01), 2))\n",
        "values_q = np.round(np.arange(0.00, 1.01, 0.1), 2)\n",
        "for i in values_q:\n",
        "    print(\"{} miles are in {} percentile \".format( tripDistance_quatile[i],int(i*100)))"
      ],
      "execution_count": 39,
      "outputs": [
        {
          "output_type": "stream",
          "text": [
            "0.0 miles are in 0 percentile \n",
            "0.62 miles are in 10 percentile \n",
            "0.89 miles are in 20 percentile \n",
            "1.13 miles are in 30 percentile \n",
            "1.41 miles are in 40 percentile \n",
            "1.8 miles are in 50 percentile \n",
            "2.3 miles are in 60 percentile \n",
            "3.0 miles are in 70 percentile \n",
            "4.01 miles are in 80 percentile \n",
            "6.05 miles are in 90 percentile \n",
            "235.5 miles are in 100 percentile \n"
          ],
          "name": "stdout"
        }
      ]
    },
    {
      "cell_type": "markdown",
      "metadata": {
        "id": "c71X5eR6kAaV"
      },
      "source": [
        "90th percentile is 5.98 and 100th is 235.5 so there are outliers and further investigate between 90 to 100"
      ]
    },
    {
      "cell_type": "code",
      "metadata": {
        "colab": {
          "base_uri": "https://localhost:8080/"
        },
        "id": "_9rtO_paid5o",
        "outputId": "4eb2704e-f216-48b3-a54e-f29d820ad341"
      },
      "source": [
        "tripDistance_quatile = pandas_taxi_data.Trip_distance.quantile(np.round(np.arange(0.991, 1.001, 0.001), 4))\n",
        "values_q = np.round(np.arange(0.991, 1.001, 0.001), 3)\n",
        "for i in values_q:\n",
        "    print(\"{} miles are in {} percentile \".format( tripDistance_quatile[i],int(i*100)))"
      ],
      "execution_count": 41,
      "outputs": [
        {
          "output_type": "stream",
          "text": [
            "14.37 miles are in 99 percentile \n",
            "14.87 miles are in 99 percentile \n",
            "15.35 miles are in 99 percentile \n",
            "15.939999999999998 miles are in 99 percentile \n",
            "16.86 miles are in 99 percentile \n",
            "17.7 miles are in 99 percentile \n",
            "18.5 miles are in 99 percentile \n",
            "19.7 miles are in 99 percentile \n",
            "22.79 miles are in 99 percentile \n",
            "235.5 miles are in 100 percentile \n"
          ],
          "name": "stdout"
        }
      ]
    },
    {
      "cell_type": "markdown",
      "metadata": {
        "id": "PxDP-zWVkLhH"
      },
      "source": [
        "Study: since 99.9 percentile is 22.8 and 100 is 235.5, so we will remove anything above 22.8"
      ]
    },
    {
      "cell_type": "code",
      "metadata": {
        "colab": {
          "base_uri": "https://localhost:8080/"
        },
        "id": "qUlWwyKji4EA",
        "outputId": "f6379543-5f7a-4fb2-80ab-99bf903257a7"
      },
      "source": [
        "# Remove data with outliers of trip distance\n",
        "\n",
        "data_tripdistance=taxi_data.where(\"Trip_distance < 22.8\")\n",
        "\n",
        "print((data_tripdistance.count(), len(data_tripdistance.columns)))\n"
      ],
      "execution_count": 42,
      "outputs": [
        {
          "output_type": "stream",
          "text": [
            "(1509212, 21)\n"
          ],
          "name": "stdout"
        }
      ]
    },
    {
      "cell_type": "code",
      "metadata": {
        "id": "PCKsX43Ykich"
      },
      "source": [
        "# Check Fare_amount"
      ],
      "execution_count": 23,
      "outputs": []
    },
    {
      "cell_type": "code",
      "metadata": {
        "colab": {
          "base_uri": "https://localhost:8080/",
          "height": 489
        },
        "id": "xRAfx9SZlel7",
        "outputId": "de22f52e-0718-483d-cc6a-3fbb743c1026"
      },
      "source": [
        "# Plot Fare_amount to check outliers\n",
        "plt.figure(figsize = (10,6))\n",
        "sns.boxplot(\"Fare_amount\", data = pandas_taxi_data, orient = \"v\")\n",
        "plt.tick_params(labelsize = 20)\n",
        "plt.ylabel(\"Fare_amount\", fontsize = 20)\n",
        "plt.show()"
      ],
      "execution_count": 26,
      "outputs": [
        {
          "output_type": "stream",
          "text": [
            "/usr/local/lib/python3.7/dist-packages/seaborn/_decorators.py:43: FutureWarning: Pass the following variable as a keyword arg: x. From version 0.12, the only valid positional argument will be `data`, and passing other arguments without an explicit keyword will result in an error or misinterpretation.\n",
            "  FutureWarning\n",
            "/usr/local/lib/python3.7/dist-packages/seaborn/_core.py:1319: UserWarning: Vertical orientation ignored with only `x` specified.\n",
            "  warnings.warn(single_var_warning.format(\"Vertical\", \"x\"))\n"
          ],
          "name": "stderr"
        },
        {
          "output_type": "display_data",
          "data": {
            "image/png": "[encoded data removed]",
            "text/plain": [
              "<Figure size 720x432 with 1 Axes>"
            ]
          },
          "metadata": {
            "tags": [],
            "needs_background": "light"
          }
        }
      ]
    },
    {
      "cell_type": "markdown",
      "metadata": {
        "id": "3LBAi-YwmFO7"
      },
      "source": [
        "Assumption: fare cant be negative so remove them and some outliers also"
      ]
    },
    {
      "cell_type": "code",
      "metadata": {
        "colab": {
          "base_uri": "https://localhost:8080/"
        },
        "id": "sRmRCly6lnN-",
        "outputId": "52307ee8-3da3-4b77-f7da-ab7189355218"
      },
      "source": [
        "Fare_amount_quatile = pandas_taxi_data.Fare_amount.quantile(np.round(np.arange(0.00, 1.01, 0.01), 2))\n",
        "values_q = np.round(np.arange(0.00, 1.01, 0.1), 2)\n",
        "for i in values_q:\n",
        "    print(\"{} miles are in {} percentile \".format( Fare_amount_quatile[i],int(i*100)))"
      ],
      "execution_count": 45,
      "outputs": [
        {
          "output_type": "stream",
          "text": [
            "-400.0 miles are in 0 percentile \n",
            "4.5 miles are in 10 percentile \n",
            "5.5 miles are in 20 percentile \n",
            "6.5 miles are in 30 percentile \n",
            "7.5 miles are in 40 percentile \n",
            "9.0 miles are in 50 percentile \n",
            "10.5 miles are in 60 percentile \n",
            "13.0 miles are in 70 percentile \n",
            "16.5 miles are in 80 percentile \n",
            "22.5 miles are in 90 percentile \n",
            "933.5 miles are in 100 percentile \n"
          ],
          "name": "stdout"
        }
      ]
    },
    {
      "cell_type": "code",
      "metadata": {
        "colab": {
          "base_uri": "https://localhost:8080/"
        },
        "id": "Lc_EDvqEmTJG",
        "outputId": "676e42ed-3847-4b84-bc56-ce11d5b3a7b5"
      },
      "source": [
        "Fare_amount_quatile = pandas_taxi_data.Fare_amount.quantile(np.round(np.arange(0.991, 1.001, 0.001), 3))\n",
        "values_q = np.round(np.arange(0.991, 1.001, 0.001), 3)\n",
        "for i in qValues:\n",
        "    print(\"{} miles are in {} percentile \".format( Fare_amount_quatile[i],int(i*100)))"
      ],
      "execution_count": 46,
      "outputs": [
        {
          "output_type": "stream",
          "text": [
            "48.0 miles are in 99 percentile \n",
            "50.0 miles are in 99 percentile \n",
            "51.5 miles are in 99 percentile \n",
            "52.0 miles are in 99 percentile \n",
            "52.0 miles are in 99 percentile \n",
            "54.0 miles are in 99 percentile \n",
            "58.5 miles are in 99 percentile \n",
            "65.0 miles are in 99 percentile \n",
            "77.5 miles are in 99 percentile \n",
            "933.5 miles are in 100 percentile \n"
          ],
          "name": "stdout"
        }
      ]
    },
    {
      "cell_type": "markdown",
      "metadata": {
        "id": "_oErhBcrnuzz"
      },
      "source": [
        "Study: remove anything elow 0 and above 77.5"
      ]
    },
    {
      "cell_type": "code",
      "metadata": {
        "colab": {
          "base_uri": "https://localhost:8080/"
        },
        "id": "XSDKQrPFmlx0",
        "outputId": "1fc91e5e-8d65-4051-c18e-fc34b99fd3b4"
      },
      "source": [
        "# Remove data with outliers of fare amount\n",
        "\n",
        "data_fareamount=data_tripdistance.where(\"Fare_amount between 0 and 77.5\")\n",
        "\n",
        "print((data_fareamount.count(), len(data_fareamount.columns)))\n"
      ],
      "execution_count": 49,
      "outputs": [
        {
          "output_type": "stream",
          "text": [
            "(1505528, 21)\n"
          ],
          "name": "stdout"
        }
      ]
    },
    {
      "cell_type": "code",
      "metadata": {
        "id": "1wOUUIS4n_Kg"
      },
      "source": [
        "# Check Total Amount"
      ],
      "execution_count": 44,
      "outputs": []
    },
    {
      "cell_type": "code",
      "metadata": {
        "colab": {
          "base_uri": "https://localhost:8080/"
        },
        "id": "b8etpH6-oD2M",
        "outputId": "486a6a9a-2316-4044-ac9d-3ae85c37bade"
      },
      "source": [
        "total_amount_quatile = pandas_taxi_data.Total_amount.quantile(np.round(np.arange(0.00, 1.01, 0.01), 2))\n",
        "values_q = np.round(np.arange(0.00, 1.01, 0.1), 2)\n",
        "for i in values_q:\n",
        "    print(\"{} miles are in {} percentile \".format( total_amount_quatile[i],int(i*100)))"
      ],
      "execution_count": 47,
      "outputs": [
        {
          "output_type": "stream",
          "text": [
            "-400.0 miles are in 0 percentile \n",
            "6.3 miles are in 10 percentile \n",
            "7.299999999999999 miles are in 20 percentile \n",
            "8.3 miles are in 30 percentile \n",
            "9.38 miles are in 40 percentile \n",
            "11.0 miles are in 50 percentile \n",
            "12.8 miles are in 60 percentile \n",
            "15.349999999999998 miles are in 70 percentile \n",
            "19.3 miles are in 80 percentile \n",
            "26.3 miles are in 90 percentile \n",
            "1121.16 miles are in 100 percentile \n"
          ],
          "name": "stdout"
        }
      ]
    },
    {
      "cell_type": "code",
      "metadata": {
        "colab": {
          "base_uri": "https://localhost:8080/"
        },
        "id": "dMuPA4jsovbR",
        "outputId": "14a85a30-9d5b-454b-df55-b8c86a20e2ab"
      },
      "source": [
        "total_amount_quatile = pandas_taxi_data.Total_amount.quantile(np.round(np.arange(0.991, 1.001, 0.001), 3))\n",
        "values_q = np.round(np.arange(0.991, 1.001, 0.001), 3)\n",
        "for i in qValues:\n",
        "    print(\"{} miles are in {} percentile \".format( total_amount_quatile[i],int(i*100)))"
      ],
      "execution_count": 48,
      "outputs": [
        {
          "output_type": "stream",
          "text": [
            "54.36 miles are in 99 percentile \n",
            "56.3 miles are in 99 percentile \n",
            "58.3 miles are in 99 percentile \n",
            "60.0 miles are in 99 percentile \n",
            "62.88 miles are in 99 percentile \n",
            "66.34 miles are in 99 percentile \n",
            "70.01 miles are in 99 percentile \n",
            "76.0 miles are in 99 percentile \n",
            "92.20999999999998 miles are in 99 percentile \n",
            "1121.16 miles are in 100 percentile \n"
          ],
          "name": "stdout"
        }
      ]
    },
    {
      "cell_type": "markdown",
      "metadata": {
        "id": "u_IKV3Y7o6-x"
      },
      "source": [
        "Study: Remove anything below 0 and above 92.2"
      ]
    },
    {
      "cell_type": "code",
      "metadata": {
        "colab": {
          "base_uri": "https://localhost:8080/"
        },
        "id": "P8EBNfQPo6AC",
        "outputId": "78aa06a7-ede1-49d6-b482-67ecef39d7cb"
      },
      "source": [
        "# Remove data with outliers of trip distance\n",
        "\n",
        "data_distance=data_tripdistance.where(\"Total_amount between 0 and  22.8\")\n",
        "\n",
        "print((data_distance.count(), len(data_distance.columns)))\n"
      ],
      "execution_count": 50,
      "outputs": [
        {
          "output_type": "stream",
          "text": [
            "(1297720, 21)\n"
          ],
          "name": "stdout"
        }
      ]
    },
    {
      "cell_type": "code",
      "metadata": {
        "colab": {
          "base_uri": "https://localhost:8080/"
        },
        "id": "uAXeV-6Jo4kL",
        "outputId": "9d824233-860f-48e4-c5ed-3dbb964d7160"
      },
      "source": [
        "# Remove other outliers such as ratecodeid can't be >6 , MTA tax is 0.5, imrovement chargers is 0.3\n",
        "\n",
        "taxi_data_no_outlier=data_distance.where(\"RateCodeID < 7\").where(\"MTA_tax  = 0.5\").where(\"improvement_surcharge = 0.3\")\n",
        "\n",
        "\n",
        "print((taxi_data_no_outlier.count(), len(taxi_data_no_outlier.columns)))\n"
      ],
      "execution_count": 51,
      "outputs": [
        {
          "output_type": "stream",
          "text": [
            "(1269864, 21)\n"
          ],
          "name": "stdout"
        }
      ]
    },
    {
      "cell_type": "markdown",
      "metadata": {
        "id": "A8mLbOPhpzVy"
      },
      "source": [
        "Could have looked into other abnormalities like lat and long"
      ]
    },
    {
      "cell_type": "code",
      "metadata": {
        "colab": {
          "base_uri": "https://localhost:8080/"
        },
        "id": "XRk3KiJwpkSZ",
        "outputId": "b223bf85-ad4c-4bf7-d501-026b8db6d77e"
      },
      "source": [
        "# get date and time coloum seprately for pickup and drop\n",
        "from pyspark.sql import functions as F\n",
        "\n",
        "split_col = F.split(taxi_data_no_outlier['lpep_pickup_datetime'], ' ')\n",
        "split_col2 = F.split(taxi_data_no_outlier['Lpep_dropoff_datetime'], ' ')\n",
        "taxi_data_no_outlier = taxi_data_no_outlier.withColumn('pickup_date', split_col.getItem(0)).withColumn('pickup_time', split_col.getItem(1)).withColumn('drop_date', split_col2.getItem(0)).withColumn('drop_time', split_col2.getItem(1))\n",
        "\n",
        "\n",
        "taxi_data_no_outlier.show(5)"
      ],
      "execution_count": 52,
      "outputs": [
        {
          "output_type": "stream",
          "text": [
            "+--------+--------------------+---------------------+------------------+----------+------------------+------------------+------------------+------------------+---------------+-------------+-----------+-----+-------+----------+------------+---------+---------------------+------------+------------+----------+-----------+-----------+----------+---------+\n",
            "|VendorID|lpep_pickup_datetime|Lpep_dropoff_datetime|Store_and_fwd_flag|RateCodeID|  Pickup_longitude|   Pickup_latitude| Dropoff_longitude|  Dropoff_latitude|Passenger_count|Trip_distance|Fare_amount|Extra|MTA_tax|Tip_amount|Tolls_amount|Ehail_fee|improvement_surcharge|Total_amount|Payment_type|Trip_type |pickup_date|pickup_time| drop_date|drop_time|\n",
            "+--------+--------------------+---------------------+------------------+----------+------------------+------------------+------------------+------------------+---------------+-------------+-----------+-----+-------+----------+------------+---------+---------------------+------------+------------+----------+-----------+-----------+----------+---------+\n",
            "|       2| 2016-02-01 00:00:01|  2016-02-01 00:10:06|                 N|         1|-73.93901824951172|40.805213928222656| -73.9725341796875|40.785884857177734|              1|         2.86|       10.5|  0.5|    0.5|       0.0|         0.0|     null|                  0.3|        11.8|           2|         1| 2016-02-01|   00:00:01|2016-02-01| 00:10:06|\n",
            "|       2| 2016-02-01 00:01:33|  2016-02-01 00:20:13|                 N|         1|-73.89149475097656| 40.74665069580078|-73.89087677001953|   40.743896484375|              1|         3.35|       13.0|  0.5|    0.5|       0.0|         0.0|     null|                  0.3|        14.3|           2|         1| 2016-02-01|   00:01:33|2016-02-01| 00:20:13|\n",
            "|       2| 2016-02-01 00:03:46|  2016-02-01 00:21:04|                 N|         1|-73.98377990722656| 40.67613220214844|-73.95697784423828|40.718326568603516|              1|          4.7|       17.5|  0.5|    0.5|      3.76|         0.0|     null|                  0.3|       22.56|           1|         1| 2016-02-01|   00:03:46|2016-02-01| 00:21:04|\n",
            "|       2| 2016-02-01 00:00:05|  2016-02-01 00:06:48|                 N|         1| -73.8075180053711|40.700374603271484|-73.83165740966797| 40.70597839355469|              1|         2.11|        8.0|  0.5|    0.5|       0.0|         0.0|     null|                  0.3|         9.3|           2|         1| 2016-02-01|   00:00:05|2016-02-01| 00:06:48|\n",
            "|       2| 2016-02-01 00:06:20|  2016-02-01 00:08:47|                 N|         1|-73.90396118164062| 40.74493408203125|-73.90000915527344| 40.73360061645508|              5|         0.98|        5.0|  0.5|    0.5|       0.0|         0.0|     null|                  0.3|         6.3|           2|         1| 2016-02-01|   00:06:20|2016-02-01| 00:08:47|\n",
            "+--------+--------------------+---------------------+------------------+----------+------------------+------------------+------------------+------------------+---------------+-------------+-----------+-----+-------+----------+------------+---------+---------------------+------------+------------+----------+-----------+-----------+----------+---------+\n",
            "only showing top 5 rows\n",
            "\n"
          ],
          "name": "stdout"
        }
      ]
    },
    {
      "cell_type": "code",
      "metadata": {
        "id": "SL5xMybLrA8g"
      },
      "source": [
        "taxi_data_no_outlier_pandas = taxi_data_no_outlier.toPandas()"
      ],
      "execution_count": 53,
      "outputs": []
    },
    {
      "cell_type": "code",
      "metadata": {
        "colab": {
          "base_uri": "https://localhost:8080/",
          "height": 328
        },
        "id": "scIq2KAlpqgo",
        "outputId": "c28f9853-949e-4ba8-e17f-206773d8a3d5"
      },
      "source": [
        "#Cluster example\n",
        "cluster = taxi_data_no_outlier_pandas.loc[0]\n",
        "#Feature Engineering\n",
        "cluster['lpep_pickup_datetime'] = cluster.index\n",
        "cluster['lpep_pickup_datetime'] = pd.to_datetime(cluster['lpep_pickup_datetime'].dt.strftime('%Y-%m-%d %H'))\n",
        "#cluster['hour']=cluster['lpep_pickup_datetime'].dt.hour \n",
        "#cluster['day']=cluster['lpep_pickup_datetime'].dt.day\n",
        "#cluster['dayofweek']=cluster['lpep_pickup_datetime'].dt.dayofweek "
      ],
      "execution_count": 57,
      "outputs": [
        {
          "output_type": "stream",
          "text": [
            "/usr/local/lib/python3.7/dist-packages/ipykernel_launcher.py:4: SettingWithCopyWarning: \n",
            "A value is trying to be set on a copy of a slice from a DataFrame\n",
            "\n",
            "See the caveats in the documentation: https://pandas.pydata.org/pandas-docs/stable/user_guide/indexing.html#returning-a-view-versus-a-copy\n",
            "  after removing the cwd from sys.path.\n"
          ],
          "name": "stderr"
        },
        {
          "output_type": "error",
          "ename": "AttributeError",
          "evalue": "ignored",
          "traceback": [
            "\u001b[0;31m---------------------------------------------------------------------------\u001b[0m",
            "\u001b[0;31mAttributeError\u001b[0m                            Traceback (most recent call last)",
            "\u001b[0;32m<ipython-input-57-e81e77b4f245>\u001b[0m in \u001b[0;36m<module>\u001b[0;34m()\u001b[0m\n\u001b[1;32m      3\u001b[0m \u001b[0;31m#Feature Engineering\u001b[0m\u001b[0;34m\u001b[0m\u001b[0;34m\u001b[0m\u001b[0;34m\u001b[0m\u001b[0m\n\u001b[1;32m      4\u001b[0m \u001b[0mcluster\u001b[0m\u001b[0;34m[\u001b[0m\u001b[0;34m'lpep_pickup_datetime'\u001b[0m\u001b[0;34m]\u001b[0m \u001b[0;34m=\u001b[0m \u001b[0mcluster\u001b[0m\u001b[0;34m.\u001b[0m\u001b[0mindex\u001b[0m\u001b[0;34m\u001b[0m\u001b[0;34m\u001b[0m\u001b[0m\n\u001b[0;32m----> 5\u001b[0;31m \u001b[0mcluster\u001b[0m\u001b[0;34m[\u001b[0m\u001b[0;34m'lpep_pickup_datetime'\u001b[0m\u001b[0;34m]\u001b[0m \u001b[0;34m=\u001b[0m \u001b[0mpd\u001b[0m\u001b[0;34m.\u001b[0m\u001b[0mto_datetime\u001b[0m\u001b[0;34m(\u001b[0m\u001b[0mcluster\u001b[0m\u001b[0;34m[\u001b[0m\u001b[0;34m'lpep_pickup_datetime'\u001b[0m\u001b[0;34m]\u001b[0m\u001b[0;34m.\u001b[0m\u001b[0mdt\u001b[0m\u001b[0;34m.\u001b[0m\u001b[0mstrftime\u001b[0m\u001b[0;34m(\u001b[0m\u001b[0;34m'%Y-%m-%d %H'\u001b[0m\u001b[0;34m)\u001b[0m\u001b[0;34m)\u001b[0m\u001b[0;34m\u001b[0m\u001b[0;34m\u001b[0m\u001b[0m\n\u001b[0m\u001b[1;32m      6\u001b[0m \u001b[0;31m#cluster['hour']=cluster['lpep_pickup_datetime'].dt.hour\u001b[0m\u001b[0;34m\u001b[0m\u001b[0;34m\u001b[0m\u001b[0;34m\u001b[0m\u001b[0m\n\u001b[1;32m      7\u001b[0m \u001b[0;31m#cluster['day']=cluster['lpep_pickup_datetime'].dt.day\u001b[0m\u001b[0;34m\u001b[0m\u001b[0;34m\u001b[0m\u001b[0;34m\u001b[0m\u001b[0m\n",
            "\u001b[0;31mAttributeError\u001b[0m: 'Index' object has no attribute 'dt'"
          ]
        }
      ]
    },
    {
      "cell_type": "code",
      "metadata": {
        "id": "--Wjx3BJrbMW"
      },
      "source": [
        ""
      ],
      "execution_count": null,
      "outputs": []
    }
  ]
}