{
  "nbformat": 4,
  "nbformat_minor": 0,
  "metadata": {
    "colab": {
      "name": "exploartion pyspark.ipynb",
      "provenance": [],
      "authorship_tag": "ABX9TyO4ayzeH7PvuusZX2OB4Cwk",
      "include_colab_link": true
    },
    "kernelspec": {
      "name": "python3",
      "display_name": "Python 3"
    },
    "language_info": {
      "name": "python"
    }
  },
  "cells": [
    {
      "cell_type": "markdown",
      "metadata": {
        "id": "view-in-github",
        "colab_type": "text"
      },
      "source": [
        "<a href=\"https://colab.research.google.com/github/Rishabhjuneja/NYC-Taxi/blob/main/exploartion_pyspark.ipynb\" target=\"_parent\"><img src=\"https://colab.research.google.com/assets/colab-badge.svg\" alt=\"Open In Colab\"/></a>"
      ]
    },
    {
      "cell_type": "code",
      "metadata": {
        "id": "tiAAwOnU2Imt"
      },
      "source": [
        "# innstall java\n",
        "!apt-get install openjdk-8-jdk-headless -qq > /dev/null\n",
        "\n",
        "# install spark (change the version number if needed)\n",
        "!wget -q https://archive.apache.org/dist/spark/spark-3.0.0/spark-3.0.0-bin-hadoop3.2.tgz\n",
        "\n",
        "# unzip the spark file to the current folder\n",
        "!tar xf spark-3.0.0-bin-hadoop3.2.tgz\n",
        "\n",
        "!pip install -q findspark"
      ],
      "execution_count": 3,
      "outputs": []
    },
    {
      "cell_type": "code",
      "metadata": {
        "id": "Zi9THTN12Oha"
      },
      "source": [
        "import os\n",
        "os.environ[\"JAVA_HOME\"] = \"/usr/lib/jvm/java-8-openjdk-amd64\"\n",
        "os.environ[\"SPARK_HOME\"] = \"/content/spark-3.0.0-bin-hadoop3.2\""
      ],
      "execution_count": 4,
      "outputs": []
    },
    {
      "cell_type": "code",
      "metadata": {
        "id": "Mm2PG5_J3AwN"
      },
      "source": [
        "import findspark\n",
        "findspark.init()\n",
        "from pyspark.sql import SparkSession\n",
        "spark = SparkSession.builder.master(\"local[*]\").getOrCreate()"
      ],
      "execution_count": 5,
      "outputs": []
    },
    {
      "cell_type": "code",
      "metadata": {
        "id": "0ZqCGsQh3QgN"
      },
      "source": [
        "file_loc='./nyc_taxi_data.csv'\n",
        "df = spark.read.csv(file_loc, inferSchema=True, header =True)"
      ],
      "execution_count": 8,
      "outputs": []
    },
    {
      "cell_type": "code",
      "metadata": {
        "colab": {
          "base_uri": "https://localhost:8080/"
        },
        "id": "bK3JW-2C3gT4",
        "outputId": "03935949-552c-48ad-f92e-62643d3a88a5"
      },
      "source": [
        "df.show(5)"
      ],
      "execution_count": 9,
      "outputs": [
        {
          "output_type": "stream",
          "text": [
            "+--------+--------------------+---------------------+------------------+----------+------------------+------------------+------------------+------------------+---------------+-------------+-----------+-----+-------+----------+------------+---------+---------------------+------------+------------+----------+\n",
            "|VendorID|lpep_pickup_datetime|Lpep_dropoff_datetime|Store_and_fwd_flag|RateCodeID|  Pickup_longitude|   Pickup_latitude| Dropoff_longitude|  Dropoff_latitude|Passenger_count|Trip_distance|Fare_amount|Extra|MTA_tax|Tip_amount|Tolls_amount|Ehail_fee|improvement_surcharge|Total_amount|Payment_type|Trip_type |\n",
            "+--------+--------------------+---------------------+------------------+----------+------------------+------------------+------------------+------------------+---------------+-------------+-----------+-----+-------+----------+------------+---------+---------------------+------------+------------+----------+\n",
            "|       2| 2016-02-01 00:00:01|  2016-02-01 00:10:06|                 N|         1|-73.93901824951172|40.805213928222656| -73.9725341796875|40.785884857177734|              1|         2.86|       10.5|  0.5|    0.5|       0.0|         0.0|     null|                  0.3|        11.8|           2|         1|\n",
            "|       2| 2016-02-01 00:01:33|  2016-02-01 00:20:13|                 N|         1|-73.89149475097656| 40.74665069580078|-73.89087677001953|   40.743896484375|              1|         3.35|       13.0|  0.5|    0.5|       0.0|         0.0|     null|                  0.3|        14.3|           2|         1|\n",
            "|       2| 2016-02-01 00:03:46|  2016-02-01 00:21:04|                 N|         1|-73.98377990722656| 40.67613220214844|-73.95697784423828|40.718326568603516|              1|          4.7|       17.5|  0.5|    0.5|      3.76|         0.0|     null|                  0.3|       22.56|           1|         1|\n",
            "|       2| 2016-02-01 00:00:05|  2016-02-01 00:06:48|                 N|         1| -73.8075180053711|40.700374603271484|-73.83165740966797| 40.70597839355469|              1|         2.11|        8.0|  0.5|    0.5|       0.0|         0.0|     null|                  0.3|         9.3|           2|         1|\n",
            "|       2| 2016-02-01 00:06:20|  2016-02-01 00:08:47|                 N|         1|-73.90396118164062| 40.74493408203125|-73.90000915527344| 40.73360061645508|              5|         0.98|        5.0|  0.5|    0.5|       0.0|         0.0|     null|                  0.3|         6.3|           2|         1|\n",
            "+--------+--------------------+---------------------+------------------+----------+------------------+------------------+------------------+------------------+---------------+-------------+-----------+-----+-------+----------+------------+---------+---------------------+------------+------------+----------+\n",
            "only showing top 5 rows\n",
            "\n"
          ],
          "name": "stdout"
        }
      ]
    },
    {
      "cell_type": "code",
      "metadata": {
        "id": "vZ2UqXlV3qBc"
      },
      "source": [
        ""
      ],
      "execution_count": null,
      "outputs": []
    }
  ]
}