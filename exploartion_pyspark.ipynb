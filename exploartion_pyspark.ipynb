{
  "nbformat": 4,
  "nbformat_minor": 0,
  "metadata": {
    "colab": {
      "name": "exploartion pyspark.ipynb",
      "provenance": [],
      "authorship_tag": "ABX9TyNG5tNExdQqSePgUNckl4yg",
      "include_colab_link": true
    },
    "kernelspec": {
      "name": "python3",
      "display_name": "Python 3"
    },
    "language_info": {
      "name": "python"
    }
  },
  "cells": [
    {
      "cell_type": "markdown",
      "metadata": {
        "id": "view-in-github",
        "colab_type": "text"
      },
      "source": [
        "<a href=\"https://colab.research.google.com/github/Rishabhjuneja/NYC-Taxi/blob/main/exploartion_pyspark.ipynb\" target=\"_parent\"><img src=\"https://colab.research.google.com/assets/colab-badge.svg\" alt=\"Open In Colab\"/></a>"
      ]
    },
    {
      "cell_type": "code",
      "metadata": {
        "id": "tiAAwOnU2Imt"
      },
      "source": [
        "# innstall java\n",
        "!apt-get install openjdk-8-jdk-headless -qq > /dev/null\n",
        "\n",
        "# install spark (change the version number if needed)\n",
        "!wget -q https://archive.apache.org/dist/spark/spark-3.0.0/spark-3.0.0-bin-hadoop3.2.tgz\n",
        "\n",
        "# unzip the spark file to the current folder\n",
        "!tar xf spark-3.0.0-bin-hadoop3.2.tgz\n",
        "\n",
        "!pip install -q findspark"
      ],
      "execution_count": 1,
      "outputs": []
    },
    {
      "cell_type": "code",
      "metadata": {
        "id": "Zi9THTN12Oha"
      },
      "source": [
        "import os\n",
        "os.environ[\"JAVA_HOME\"] = \"/usr/lib/jvm/java-8-openjdk-amd64\"\n",
        "os.environ[\"SPARK_HOME\"] = \"/content/spark-3.0.0-bin-hadoop3.2\""
      ],
      "execution_count": 2,
      "outputs": []
    },
    {
      "cell_type": "code",
      "metadata": {
        "id": "Mm2PG5_J3AwN"
      },
      "source": [
        "import findspark\n",
        "findspark.init()\n",
        "from pyspark.sql import SparkSession\n",
        "spark = SparkSession.builder.master(\"local[*]\").getOrCreate()"
      ],
      "execution_count": 3,
      "outputs": []
    },
    {
      "cell_type": "code",
      "metadata": {
        "id": "lVxFxGtBh5jE"
      },
      "source": [
        "from pyspark.sql import functions as F"
      ],
      "execution_count": 10,
      "outputs": []
    },
    {
      "cell_type": "code",
      "metadata": {
        "id": "0ZqCGsQh3QgN"
      },
      "source": [
        "file_loc='./green_tripdata_2016-02.csv'\n",
        "df = spark.read.csv(file_loc, inferSchema=True, header =True)"
      ],
      "execution_count": 5,
      "outputs": []
    },
    {
      "cell_type": "code",
      "metadata": {
        "colab": {
          "base_uri": "https://localhost:8080/"
        },
        "id": "bK3JW-2C3gT4",
        "outputId": "b9f1b4c8-c831-4a32-f8f9-2baa4b61a424"
      },
      "source": [
        "df.show(5)"
      ],
      "execution_count": 6,
      "outputs": [
        {
          "output_type": "stream",
          "text": [
            "+--------+--------------------+---------------------+------------------+----------+------------------+------------------+------------------+------------------+---------------+-------------+-----------+-----+-------+----------+------------+---------+---------------------+------------+------------+----------+\n",
            "|VendorID|lpep_pickup_datetime|Lpep_dropoff_datetime|Store_and_fwd_flag|RateCodeID|  Pickup_longitude|   Pickup_latitude| Dropoff_longitude|  Dropoff_latitude|Passenger_count|Trip_distance|Fare_amount|Extra|MTA_tax|Tip_amount|Tolls_amount|Ehail_fee|improvement_surcharge|Total_amount|Payment_type|Trip_type |\n",
            "+--------+--------------------+---------------------+------------------+----------+------------------+------------------+------------------+------------------+---------------+-------------+-----------+-----+-------+----------+------------+---------+---------------------+------------+------------+----------+\n",
            "|       2| 2016-02-01 00:00:01|  2016-02-01 00:10:06|                 N|         1|-73.93901824951172|40.805213928222656| -73.9725341796875|40.785884857177734|              1|         2.86|       10.5|  0.5|    0.5|       0.0|         0.0|     null|                  0.3|        11.8|           2|         1|\n",
            "|       2| 2016-02-01 00:01:33|  2016-02-01 00:20:13|                 N|         1|-73.89149475097656| 40.74665069580078|-73.89087677001953|   40.743896484375|              1|         3.35|       13.0|  0.5|    0.5|       0.0|         0.0|     null|                  0.3|        14.3|           2|         1|\n",
            "|       2| 2016-02-01 00:03:46|  2016-02-01 00:21:04|                 N|         1|-73.98377990722656| 40.67613220214844|-73.95697784423828|40.718326568603516|              1|          4.7|       17.5|  0.5|    0.5|      3.76|         0.0|     null|                  0.3|       22.56|           1|         1|\n",
            "|       2| 2016-02-01 00:00:05|  2016-02-01 00:06:48|                 N|         1| -73.8075180053711|40.700374603271484|-73.83165740966797| 40.70597839355469|              1|         2.11|        8.0|  0.5|    0.5|       0.0|         0.0|     null|                  0.3|         9.3|           2|         1|\n",
            "|       2| 2016-02-01 00:06:20|  2016-02-01 00:08:47|                 N|         1|-73.90396118164062| 40.74493408203125|-73.90000915527344| 40.73360061645508|              5|         0.98|        5.0|  0.5|    0.5|       0.0|         0.0|     null|                  0.3|         6.3|           2|         1|\n",
            "+--------+--------------------+---------------------+------------------+----------+------------------+------------------+------------------+------------------+---------------+-------------+-----------+-----+-------+----------+------------+---------+---------------------+------------+------------+----------+\n",
            "only showing top 5 rows\n",
            "\n"
          ],
          "name": "stdout"
        }
      ]
    },
    {
      "cell_type": "code",
      "metadata": {
        "colab": {
          "base_uri": "https://localhost:8080/"
        },
        "id": "4hqJjKoy4OiT",
        "outputId": "e8e24e2e-1007-44b1-ff71-7fb3ca485fac"
      },
      "source": [
        "# check number of rows & Coloums \n",
        "\n",
        "print((df.count(), len(df.columns)))"
      ],
      "execution_count": 7,
      "outputs": [
        {
          "output_type": "stream",
          "text": [
            "(452861, 21)\n"
          ],
          "name": "stdout"
        }
      ]
    },
    {
      "cell_type": "code",
      "metadata": {
        "colab": {
          "base_uri": "https://localhost:8080/"
        },
        "id": "UWc_Jkm4hAhC",
        "outputId": "76a3da5b-3d50-4b57-b479-ea430d90bca3"
      },
      "source": [
        "# Check any missing values \n",
        "\n",
        "from pyspark.sql.functions import lit\n",
        "\n",
        "rows = df.count()\n",
        "summary = df.describe().filter(F.col(\"summary\") == \"count\")\n",
        "summary.select(*((F.lit(rows)-F.col(c)).alias(c) for c in df.columns)).show()"
      ],
      "execution_count": 12,
      "outputs": [
        {
          "output_type": "stream",
          "text": [
            "+--------+--------------------+---------------------+------------------+----------+----------------+---------------+-----------------+----------------+---------------+-------------+-----------+-----+-------+----------+------------+---------+---------------------+------------+------------+----------+\n",
            "|VendorID|lpep_pickup_datetime|Lpep_dropoff_datetime|Store_and_fwd_flag|RateCodeID|Pickup_longitude|Pickup_latitude|Dropoff_longitude|Dropoff_latitude|Passenger_count|Trip_distance|Fare_amount|Extra|MTA_tax|Tip_amount|Tolls_amount|Ehail_fee|improvement_surcharge|Total_amount|Payment_type|Trip_type |\n",
            "+--------+--------------------+---------------------+------------------+----------+----------------+---------------+-----------------+----------------+---------------+-------------+-----------+-----+-------+----------+------------+---------+---------------------+------------+------------+----------+\n",
            "|     0.0|                 0.0|                  0.0|               0.0|       0.0|             0.0|            0.0|              0.0|             0.0|            0.0|          0.0|        0.0|  0.0|    0.0|       0.0|         0.0| 452861.0|                  0.0|         0.0|         0.0|       1.0|\n",
            "+--------+--------------------+---------------------+------------------+----------+----------------+---------------+-----------------+----------------+---------------+-------------+-----------+-----+-------+----------+------------+---------+---------------------+------------+------------+----------+\n",
            "\n"
          ],
          "name": "stdout"
        }
      ]
    },
    {
      "cell_type": "code",
      "metadata": {
        "colab": {
          "base_uri": "https://localhost:8080/"
        },
        "id": "bl7GPaj7hiyA",
        "outputId": "dcd31a6c-af6b-452d-d10a-64ac1386c648"
      },
      "source": [
        "# Descriptive Statistics\n",
        "\n",
        "df.describe().show()\n",
        "\n",
        "# Look into ratecodeid , trip distance , fare amount, extra , mat tax should be .5 , trip amount , "
      ],
      "execution_count": 13,
      "outputs": [
        {
          "output_type": "stream",
          "text": [
            "+-------+-------------------+--------------------+---------------------+------------------+------------------+-------------------+------------------+-------------------+------------------+------------------+------------------+------------------+------------------+-------------------+------------------+-------------------+---------+---------------------+------------------+------------------+-------------------+\n",
            "|summary|           VendorID|lpep_pickup_datetime|Lpep_dropoff_datetime|Store_and_fwd_flag|        RateCodeID|   Pickup_longitude|   Pickup_latitude|  Dropoff_longitude|  Dropoff_latitude|   Passenger_count|     Trip_distance|       Fare_amount|             Extra|            MTA_tax|        Tip_amount|       Tolls_amount|Ehail_fee|improvement_surcharge|      Total_amount|      Payment_type|         Trip_type |\n",
            "+-------+-------------------+--------------------+---------------------+------------------+------------------+-------------------+------------------+-------------------+------------------+------------------+------------------+------------------+------------------+-------------------+------------------+-------------------+---------+---------------------+------------------+------------------+-------------------+\n",
            "|  count|             452861|              452861|               452861|            452861|            452861|             452861|            452861|             452861|            452861|            452861|            452861|            452861|            452861|             452861|            452861|             452861|        0|               452861|            452861|            452861|             452860|\n",
            "|   mean| 1.7827059517158688|                null|                 null|              null|1.0957048630816077| -73.81634052555457|40.674054979818145| -73.83151367373222| 40.68120668065093|1.3457440583313645|2.7202115881032087|11.714536115938447|0.3544664919257785|0.48664490870267035|1.2376845212990912|0.10409222697473222|     null|  0.29195918836140555|14.189355872964684|1.5056827591689281| 1.0223601112926732|\n",
            "| stddev|0.41240480165386867|                null|                 null|              null|0.6666467006245239| 3.2021926453875293|1.7255031802803857|  3.006501103714081|1.6149755689132748| 1.011687508399169|2.8379652898762604| 9.430304883385402|0.3895166583151801| 0.0894778733536195|2.5498377605303126|  1.566284346339578|     null|  0.05179639480135517|10.994964080446136|0.5239623626535967|0.14785190220977826|\n",
            "|    min|                  1| 2016-02-01 00:00:01|  2016-02-01 00:01:04|                 N|                 1|-115.22274017333984|               0.0|-115.33221435546875|               0.0|                 0|               0.0|            -220.0|              -4.5|               -0.5|              -2.7|              -12.5|     null|                 -0.3|            -220.0|                 1|                  1|\n",
            "|    max|                  2| 2016-02-10 11:59:59|  2016-02-11 11:49:58|                 Y|                99|                0.0| 41.14335632324219|                0.0| 41.55632781982422|                 9|             235.5|             933.5|               4.5|                3.0|             400.0|             902.17|     null|                 1.77|           1121.16|                 5|                  2|\n",
            "+-------+-------------------+--------------------+---------------------+------------------+------------------+-------------------+------------------+-------------------+------------------+------------------+------------------+------------------+------------------+-------------------+------------------+-------------------+---------+---------------------+------------------+------------------+-------------------+\n",
            "\n"
          ],
          "name": "stdout"
        }
      ]
    },
    {
      "cell_type": "code",
      "metadata": {
        "colab": {
          "base_uri": "https://localhost:8080/"
        },
        "id": "v3OHwx-iiS3n",
        "outputId": "0969d4c5-2c8f-4c58-cd8c-9499a638c676"
      },
      "source": [
        "pandasDF = df.toPandas()\n",
        "print(pandasDF)"
      ],
      "execution_count": 15,
      "outputs": [
        {
          "output_type": "stream",
          "text": [
            "        VendorID lpep_pickup_datetime  ... Payment_type Trip_type \n",
            "0              2  2016-02-01 00:00:01  ...            2        1.0\n",
            "1              2  2016-02-01 00:01:33  ...            2        1.0\n",
            "2              2  2016-02-01 00:03:46  ...            1        1.0\n",
            "3              2  2016-02-01 00:00:05  ...            2        1.0\n",
            "4              2  2016-02-01 00:06:20  ...            2        1.0\n",
            "...          ...                  ...  ...          ...        ...\n",
            "452856         2  2016-02-10 11:21:59  ...            2        2.0\n",
            "452857         2  2016-02-10 11:07:37  ...            1        1.0\n",
            "452858         2  2016-02-10 11:41:05  ...            2        1.0\n",
            "452859         2  2016-02-10 11:39:43  ...            2        1.0\n",
            "452860         2  2016-02-10 11:39:32  ...            2        1.0\n",
            "\n",
            "[452861 rows x 21 columns]\n"
          ],
          "name": "stdout"
        }
      ]
    },
    {
      "cell_type": "code",
      "metadata": {
        "id": "7pk89nqjkePm"
      },
      "source": [
        "df.quantile(q=0.5, axis=0, numeric_only=False, interpolation='linear')"
      ],
      "execution_count": null,
      "outputs": []
    },
    {
      "cell_type": "code",
      "metadata": {
        "id": "CkP18CswkpqY"
      },
      "source": [
        ""
      ],
      "execution_count": null,
      "outputs": []
    }
  ]
}