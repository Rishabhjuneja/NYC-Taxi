{
  "nbformat": 4,
  "nbformat_minor": 0,
  "metadata": {
    "colab": {
      "name": "exploartion pyspark.ipynb",
      "provenance": [],
      "authorship_tag": "ABX9TyPfKdcgPCH9K1l+rqBL4hlL",
      "include_colab_link": true
    },
    "kernelspec": {
      "name": "python3",
      "display_name": "Python 3"
    },
    "language_info": {
      "name": "python"
    }
  },
  "cells": [
    {
      "cell_type": "markdown",
      "metadata": {
        "id": "view-in-github",
        "colab_type": "text"
      },
      "source": [
        "<a href=\"https://colab.research.google.com/github/Rishabhjuneja/NYC-Taxi/blob/main/exploartion_pyspark.ipynb\" target=\"_parent\"><img src=\"https://colab.research.google.com/assets/colab-badge.svg\" alt=\"Open In Colab\"/></a>"
      ]
    },
    {
      "cell_type": "code",
      "metadata": {
        "id": "tiAAwOnU2Imt"
      },
      "source": [
        "# innstall java\n",
        "!apt-get install openjdk-8-jdk-headless -qq > /dev/null\n",
        "\n",
        "# install spark (change the version number if needed)\n",
        "!wget -q https://archive.apache.org/dist/spark/spark-3.0.0/spark-3.0.0-bin-hadoop3.2.tgz\n",
        "\n",
        "# unzip the spark file to the current folder\n",
        "!tar xf spark-3.0.0-bin-hadoop3.2.tgz\n",
        "\n",
        "!pip install -q findspark"
      ],
      "execution_count": 1,
      "outputs": []
    },
    {
      "cell_type": "code",
      "metadata": {
        "id": "Zi9THTN12Oha"
      },
      "source": [
        "import os\n",
        "os.environ[\"JAVA_HOME\"] = \"/usr/lib/jvm/java-8-openjdk-amd64\"\n",
        "os.environ[\"SPARK_HOME\"] = \"/content/spark-3.0.0-bin-hadoop3.2\""
      ],
      "execution_count": 2,
      "outputs": []
    },
    {
      "cell_type": "code",
      "metadata": {
        "id": "Mm2PG5_J3AwN"
      },
      "source": [
        "import findspark\n",
        "findspark.init()\n",
        "from pyspark.sql import SparkSession\n",
        "spark = SparkSession.builder.master(\"local[*]\").getOrCreate()"
      ],
      "execution_count": 3,
      "outputs": []
    },
    {
      "cell_type": "code",
      "metadata": {
        "colab": {
          "base_uri": "https://localhost:8080/"
        },
        "id": "lVxFxGtBh5jE",
        "outputId": "1954e915-91ec-4d0d-ea45-6d2e83789046"
      },
      "source": [
        "from pyspark.sql import functions as F\n",
        "import pandas as pd\n",
        "import matplotlib.pyplot as plt\n",
        "import pandas as pd\n",
        "import matplotlib.pyplot as plt\n",
        "import numpy as np\n",
        "import seaborn as sns\n",
        "\n",
        "from datetime import datetime\n",
        "from sklearn.cluster import MiniBatchKMeans, KMeans\n",
        "import warnings\n",
        "import itertools\n",
        "import statsmodels.api as sm\n",
        "from sklearn.metrics import mean_absolute_error\n",
        "from sklearn.metrics import mean_squared_error\n",
        "import time\n",
        "import folium\n",
        "from folium import Choropleth ,  Circle, Marker"
      ],
      "execution_count": 13,
      "outputs": [
        {
          "output_type": "stream",
          "text": [
            "/usr/local/lib/python3.7/dist-packages/statsmodels/tools/_testing.py:19: FutureWarning: pandas.util.testing is deprecated. Use the functions in the public API at pandas.testing instead.\n",
            "  import pandas.util.testing as tm\n"
          ],
          "name": "stderr"
        }
      ]
    },
    {
      "cell_type": "code",
      "metadata": {
        "id": "0ZqCGsQh3QgN"
      },
      "source": [
        "file_loc='./green_tripdata_2016-02.csv'\n",
        "taxi_data = spark.read.csv(file_loc, inferSchema=True, header =True)"
      ],
      "execution_count": 21,
      "outputs": []
    },
    {
      "cell_type": "code",
      "metadata": {
        "colab": {
          "base_uri": "https://localhost:8080/"
        },
        "id": "bK3JW-2C3gT4",
        "outputId": "ea1dc92b-72f1-44ec-9ed3-8a37762c26a1"
      },
      "source": [
        "dtaxi_data.show(5)"
      ],
      "execution_count": 6,
      "outputs": [
        {
          "output_type": "stream",
          "text": [
            "+--------+--------------------+---------------------+------------------+----------+------------------+------------------+------------------+------------------+---------------+-------------+-----------+-----+-------+----------+------------+---------+---------------------+------------+------------+----------+\n",
            "|VendorID|lpep_pickup_datetime|Lpep_dropoff_datetime|Store_and_fwd_flag|RateCodeID|  Pickup_longitude|   Pickup_latitude| Dropoff_longitude|  Dropoff_latitude|Passenger_count|Trip_distance|Fare_amount|Extra|MTA_tax|Tip_amount|Tolls_amount|Ehail_fee|improvement_surcharge|Total_amount|Payment_type|Trip_type |\n",
            "+--------+--------------------+---------------------+------------------+----------+------------------+------------------+------------------+------------------+---------------+-------------+-----------+-----+-------+----------+------------+---------+---------------------+------------+------------+----------+\n",
            "|       2| 2016-02-01 00:00:01|  2016-02-01 00:10:06|                 N|         1|-73.93901824951172|40.805213928222656| -73.9725341796875|40.785884857177734|              1|         2.86|       10.5|  0.5|    0.5|       0.0|         0.0|     null|                  0.3|        11.8|           2|         1|\n",
            "|       2| 2016-02-01 00:01:33|  2016-02-01 00:20:13|                 N|         1|-73.89149475097656| 40.74665069580078|-73.89087677001953|   40.743896484375|              1|         3.35|       13.0|  0.5|    0.5|       0.0|         0.0|     null|                  0.3|        14.3|           2|         1|\n",
            "|       2| 2016-02-01 00:03:46|  2016-02-01 00:21:04|                 N|         1|-73.98377990722656| 40.67613220214844|-73.95697784423828|40.718326568603516|              1|          4.7|       17.5|  0.5|    0.5|      3.76|         0.0|     null|                  0.3|       22.56|           1|         1|\n",
            "|       2| 2016-02-01 00:00:05|  2016-02-01 00:06:48|                 N|         1| -73.8075180053711|40.700374603271484|-73.83165740966797| 40.70597839355469|              1|         2.11|        8.0|  0.5|    0.5|       0.0|         0.0|     null|                  0.3|         9.3|           2|         1|\n",
            "|       2| 2016-02-01 00:06:20|  2016-02-01 00:08:47|                 N|         1|-73.90396118164062| 40.74493408203125|-73.90000915527344| 40.73360061645508|              5|         0.98|        5.0|  0.5|    0.5|       0.0|         0.0|     null|                  0.3|         6.3|           2|         1|\n",
            "+--------+--------------------+---------------------+------------------+----------+------------------+------------------+------------------+------------------+---------------+-------------+-----------+-----+-------+----------+------------+---------+---------------------+------------+------------+----------+\n",
            "only showing top 5 rows\n",
            "\n"
          ],
          "name": "stdout"
        }
      ]
    },
    {
      "cell_type": "code",
      "metadata": {
        "colab": {
          "base_uri": "https://localhost:8080/"
        },
        "id": "Js_zxTxmw8dY",
        "outputId": "6c31d282-6797-43b8-bf64-28623798cf53"
      },
      "source": [
        "dtaxi_data.printSchema()"
      ],
      "execution_count": 7,
      "outputs": [
        {
          "output_type": "stream",
          "text": [
            "root\n",
            " |-- VendorID: integer (nullable = true)\n",
            " |-- lpep_pickup_datetime: string (nullable = true)\n",
            " |-- Lpep_dropoff_datetime: string (nullable = true)\n",
            " |-- Store_and_fwd_flag: string (nullable = true)\n",
            " |-- RateCodeID: integer (nullable = true)\n",
            " |-- Pickup_longitude: double (nullable = true)\n",
            " |-- Pickup_latitude: double (nullable = true)\n",
            " |-- Dropoff_longitude: double (nullable = true)\n",
            " |-- Dropoff_latitude: double (nullable = true)\n",
            " |-- Passenger_count: integer (nullable = true)\n",
            " |-- Trip_distance: double (nullable = true)\n",
            " |-- Fare_amount: double (nullable = true)\n",
            " |-- Extra: double (nullable = true)\n",
            " |-- MTA_tax: double (nullable = true)\n",
            " |-- Tip_amount: double (nullable = true)\n",
            " |-- Tolls_amount: double (nullable = true)\n",
            " |-- Ehail_fee: string (nullable = true)\n",
            " |-- improvement_surcharge: double (nullable = true)\n",
            " |-- Total_amount: double (nullable = true)\n",
            " |-- Payment_type: integer (nullable = true)\n",
            " |-- Trip_type : integer (nullable = true)\n",
            "\n"
          ],
          "name": "stdout"
        }
      ]
    },
    {
      "cell_type": "code",
      "metadata": {
        "colab": {
          "base_uri": "https://localhost:8080/"
        },
        "id": "4hqJjKoy4OiT",
        "outputId": "e8e24e2e-1007-44b1-ff71-7fb3ca485fac"
      },
      "source": [
        "# check number of rows & Coloums \n",
        "\n",
        "print((taxi_data.count(), len(taxi_data.columns)))"
      ],
      "execution_count": 7,
      "outputs": [
        {
          "output_type": "stream",
          "text": [
            "(452861, 21)\n"
          ],
          "name": "stdout"
        }
      ]
    },
    {
      "cell_type": "code",
      "metadata": {
        "colab": {
          "base_uri": "https://localhost:8080/"
        },
        "id": "UWc_Jkm4hAhC",
        "outputId": "c927f2a7-e5ff-44af-8045-5b4539b41168"
      },
      "source": [
        "# Check any missing values \n",
        "\n",
        "from pyspark.sql.functions import lit\n",
        "\n",
        "rows = taxi_data.count()\n",
        "summary = taxi_data.describe().filter(F.col(\"summary\") == \"count\")\n",
        "summary.select(*((F.lit(rows)-F.col(c)).alias(c) for c in taxi_data.columns)).show()"
      ],
      "execution_count": 8,
      "outputs": [
        {
          "output_type": "stream",
          "text": [
            "+--------+--------------------+---------------------+------------------+----------+----------------+---------------+-----------------+----------------+---------------+-------------+-----------+-----+-------+----------+------------+---------+---------------------+------------+------------+----------+\n",
            "|VendorID|lpep_pickup_datetime|Lpep_dropoff_datetime|Store_and_fwd_flag|RateCodeID|Pickup_longitude|Pickup_latitude|Dropoff_longitude|Dropoff_latitude|Passenger_count|Trip_distance|Fare_amount|Extra|MTA_tax|Tip_amount|Tolls_amount|Ehail_fee|improvement_surcharge|Total_amount|Payment_type|Trip_type |\n",
            "+--------+--------------------+---------------------+------------------+----------+----------------+---------------+-----------------+----------------+---------------+-------------+-----------+-----+-------+----------+------------+---------+---------------------+------------+------------+----------+\n",
            "|     0.0|                 0.0|                  0.0|               0.0|       0.0|             0.0|            0.0|              0.0|             0.0|            0.0|          0.0|        0.0|  0.0|    0.0|       0.0|         0.0| 649913.0|                  0.0|         0.0|         0.0|       1.0|\n",
            "+--------+--------------------+---------------------+------------------+----------+----------------+---------------+-----------------+----------------+---------------+-------------+-----------+-----+-------+----------+------------+---------+---------------------+------------+------------+----------+\n",
            "\n"
          ],
          "name": "stdout"
        }
      ]
    },
    {
      "cell_type": "code",
      "metadata": {
        "colab": {
          "base_uri": "https://localhost:8080/"
        },
        "id": "bl7GPaj7hiyA",
        "outputId": "c55e91de-799f-4ee2-814b-d917fbfef0c3"
      },
      "source": [
        "# Descriptive Statistics\n",
        "\n",
        "taxi_data.describe().show()\n",
        " "
      ],
      "execution_count": 9,
      "outputs": [
        {
          "output_type": "stream",
          "text": [
            "+-------+-------------------+--------------------+---------------------+------------------+------------------+-------------------+------------------+-------------------+------------------+-----------------+------------------+------------------+-------------------+-------------------+------------------+-------------------+---------+---------------------+------------------+------------------+-------------------+\n",
            "|summary|           VendorID|lpep_pickup_datetime|Lpep_dropoff_datetime|Store_and_fwd_flag|        RateCodeID|   Pickup_longitude|   Pickup_latitude|  Dropoff_longitude|  Dropoff_latitude|  Passenger_count|     Trip_distance|       Fare_amount|              Extra|            MTA_tax|        Tip_amount|       Tolls_amount|Ehail_fee|improvement_surcharge|      Total_amount|      Payment_type|         Trip_type |\n",
            "+-------+-------------------+--------------------+---------------------+------------------+------------------+-------------------+------------------+-------------------+------------------+-----------------+------------------+------------------+-------------------+-------------------+------------------+-------------------+---------+---------------------+------------------+------------------+-------------------+\n",
            "|  count|             649913|              649913|               649913|            649913|            649913|             649913|            649913|             649913|            649913|           649913|            649913|            649913|             649913|             649913|            649913|             649913|        0|               649913|            649913|            649913|             649912|\n",
            "|   mean| 1.7838326052871691|                null|                 null|              null|1.0934617402636968| -73.81267313297307|40.673284641084045|  -73.8280358286245|40.680564075643964|1.346378669144947|2.6964662654847635|11.676127004691377| 0.3651216393578833|0.48676207430840746| 1.223923694402306|0.10266543368113425|     null|   0.2920514284236397| 14.14660516094118|1.5091250675090357| 1.0219029653245362|\n",
            "| stddev|0.41163006800603785|                null|                 null|              null|0.6409717398219771|  3.215893669929127|1.7378629226454811|  3.016864428370697|1.6265761146819597|1.011935489505922| 2.843376444743639| 9.473062749283859|0.39660734889628463| 0.0891373763255866|2.4765094702857415| 1.3845625488846054|     null|  0.05166932088258416|11.006312787232599|0.5243990454880706|0.14636686236252555|\n",
            "|    min|                  1| 2016-02-01 00:00:01|  2016-02-01 00:01:04|                 N|                 1|-115.22274017333984|               0.0|-115.33221435546875|               0.0|                0|               0.0|            -300.0|               -4.5|               -0.5|              -2.7|              -12.5|     null|                 -0.3|            -300.0|                 1|                  1|\n",
            "|    max|                  2| 2016-02-13 18:59:59|  2016-02-14 18:56:49|                 Y|                99|                0.0|  42.3243522644043|                0.0|42.324249267578125|                9|             235.5|             933.5|                4.5|                3.0|             400.0|             902.17|     null|                 1.77|           1121.16|                 5|                  2|\n",
            "+-------+-------------------+--------------------+---------------------+------------------+------------------+-------------------+------------------+-------------------+------------------+-----------------+------------------+------------------+-------------------+-------------------+------------------+-------------------+---------+---------------------+------------------+------------------+-------------------+\n",
            "\n"
          ],
          "name": "stdout"
        }
      ]
    },
    {
      "cell_type": "markdown",
      "metadata": {
        "id": "Mo_wxeJdjzVz"
      },
      "source": [
        "Study: There seems to be outliers in differenet coloums such as ratecodeid , trip distance , fare amount, extra , mat tax should be .5 , trip amount , "
      ]
    },
    {
      "cell_type": "code",
      "metadata": {
        "colab": {
          "base_uri": "https://localhost:8080/"
        },
        "id": "v3OHwx-iiS3n",
        "outputId": "9ffef894-06bc-4ff8-f129-954924d19086"
      },
      "source": [
        "# Check quantile to deepdive check for outliers\n",
        "pandastaxi_data = taxi_data.toPandas()\n",
        "pandastaxi_data.quantile(q=0.5, axis=0, numeric_only=True, interpolation='linear')"
      ],
      "execution_count": 25,
      "outputs": [
        {
          "output_type": "execute_result",
          "data": {
            "text/plain": [
              "VendorID                  2.000000\n",
              "RateCodeID                1.000000\n",
              "Pickup_longitude        -73.946976\n",
              "Pickup_latitude          40.746689\n",
              "Dropoff_longitude       -73.946152\n",
              "Dropoff_latitude         40.747276\n",
              "Passenger_count           1.000000\n",
              "Trip_distance             1.800000\n",
              "Fare_amount               9.000000\n",
              "Extra                     0.500000\n",
              "MTA_tax                   0.500000\n",
              "Tip_amount                0.000000\n",
              "Tolls_amount              0.000000\n",
              "improvement_surcharge     0.300000\n",
              "Total_amount             11.000000\n",
              "Payment_type              1.000000\n",
              "Trip_type                 1.000000\n",
              "Name: 0.5, dtype: float64"
            ]
          },
          "metadata": {
            "tags": []
          },
          "execution_count": 25
        }
      ]
    },
    {
      "cell_type": "code",
      "metadata": {
        "colab": {
          "base_uri": "https://localhost:8080/"
        },
        "id": "QDZCmp5Bn_BO",
        "outputId": "32f71c95-8f1c-4809-fa88-51ec42a400d0"
      },
      "source": [
        "# Remove data with outliers\n",
        "\n",
        "taxi_data_no_outlier=taxi_data.where(\"RateCodeID < 7\").where(\"Trip_distance < 1.8\").where(\"Fare_amount between 0.1 and 9\").where(\"MTA_tax  = 0.5\").where(\"Tip_amount between 0 and 5\").where(\"Extra between 0 and 1\").where(\"Tolls_amount = 0\").where(\"improvement_surcharge = 0.3\").where(\"Total_amount between 0 and 11\")\n",
        "\n",
        "\n",
        "print((taxi_data_no_outlier.count(), len(taxi_data_no_outlier.columns)))\n"
      ],
      "execution_count": 130,
      "outputs": [
        {
          "output_type": "stream",
          "text": [
            "(198794, 21)\n"
          ],
          "name": "stdout"
        }
      ]
    },
    {
      "cell_type": "markdown",
      "metadata": {
        "id": "ELp4h6BUwNlN"
      },
      "source": [
        "I would have looked at outlier for lat and long as well "
      ]
    },
    {
      "cell_type": "code",
      "metadata": {
        "colab": {
          "base_uri": "https://localhost:8080/"
        },
        "id": "sQtH_ORpnnTB",
        "outputId": "2c8fe8f7-aa39-4b7a-ea80-3ca3ccc1e725"
      },
      "source": [
        "# get date and time coloum seprately for pickup and drop\n",
        "from pyspark.sql import functions as F\n",
        "\n",
        "split_col = F.split(taxi_data_no_outlier['lpep_pickup_datetime'], ' ')\n",
        "split_col2 = F.split(taxi_data_no_outlier['Lpep_dropoff_datetime'], ' ')\n",
        "taxi_data_no_outlier = taxi_data_no_outlier.withColumn('pickup_date', split_col.getItem(0)).withColumn('pickup_time', split_col.getItem(1)).withColumn('drop_date', split_col2.getItem(0)).withColumn('drop_time', split_col2.getItem(1))\n",
        "\n",
        "\n",
        "taxi_data_no_outlier.show(5)"
      ],
      "execution_count": 131,
      "outputs": [
        {
          "output_type": "stream",
          "text": [
            "+--------+--------------------+---------------------+------------------+----------+------------------+------------------+------------------+------------------+---------------+-------------+-----------+-----+-------+----------+------------+---------+---------------------+------------+------------+----------+-----------+-----------+----------+---------+\n",
            "|VendorID|lpep_pickup_datetime|Lpep_dropoff_datetime|Store_and_fwd_flag|RateCodeID|  Pickup_longitude|   Pickup_latitude| Dropoff_longitude|  Dropoff_latitude|Passenger_count|Trip_distance|Fare_amount|Extra|MTA_tax|Tip_amount|Tolls_amount|Ehail_fee|improvement_surcharge|Total_amount|Payment_type|Trip_type |pickup_date|pickup_time| drop_date|drop_time|\n",
            "+--------+--------------------+---------------------+------------------+----------+------------------+------------------+------------------+------------------+---------------+-------------+-----------+-----+-------+----------+------------+---------+---------------------+------------+------------+----------+-----------+-----------+----------+---------+\n",
            "|       2| 2016-02-01 00:06:20|  2016-02-01 00:08:47|                 N|         1|-73.90396118164062| 40.74493408203125|-73.90000915527344| 40.73360061645508|              5|         0.98|        5.0|  0.5|    0.5|       0.0|         0.0|     null|                  0.3|         6.3|           2|         1| 2016-02-01|   00:06:20|2016-02-01| 00:08:47|\n",
            "|       2| 2016-02-01 00:00:59|  2016-02-01 00:07:25|                 N|         1|-73.82982635498047| 40.75965881347656|-73.80998229980469| 40.75115966796875|              5|         1.46|        7.0|  0.5|    0.5|       0.0|         0.0|     null|                  0.3|         8.3|           2|         1| 2016-02-01|   00:00:59|2016-02-01| 00:07:25|\n",
            "|       2| 2016-02-01 00:02:45|  2016-02-01 00:09:19|                 N|         1| -73.9594955444336|40.718135833740234|-73.94810485839844| 40.70912170410156|              1|         1.44|        6.5|  0.5|    0.5|      1.95|         0.0|     null|                  0.3|        9.75|           1|         1| 2016-02-01|   00:02:45|2016-02-01| 00:09:19|\n",
            "|       2| 2016-02-01 00:02:33|  2016-02-01 00:08:51|                 N|         1|-73.95307922363281| 40.72773361206055| -73.9517593383789|40.714622497558594|              1|          1.4|        7.0|  0.5|    0.5|      2.08|         0.0|     null|                  0.3|       10.38|           1|         1| 2016-02-01|   00:02:33|2016-02-01| 00:08:51|\n",
            "|       2| 2016-02-01 00:03:38|  2016-02-01 00:11:22|                 N|         1| -73.8917236328125| 40.74669647216797|-73.90404510498047|  40.7535514831543|              6|         1.67|        7.5|  0.5|    0.5|       0.0|         0.0|     null|                  0.3|         8.8|           2|         1| 2016-02-01|   00:03:38|2016-02-01| 00:11:22|\n",
            "+--------+--------------------+---------------------+------------------+----------+------------------+------------------+------------------+------------------+---------------+-------------+-----------+-----+-------+----------+------------+---------+---------------------+------------+------------+----------+-----------+-----------+----------+---------+\n",
            "only showing top 5 rows\n",
            "\n"
          ],
          "name": "stdout"
        }
      ]
    },
    {
      "cell_type": "code",
      "metadata": {
        "id": "YAtMcA3chmjW"
      },
      "source": [
        "pandastaxi_data = taxi_data.toPandas()"
      ],
      "execution_count": 10,
      "outputs": []
    },
    {
      "cell_type": "code",
      "metadata": {
        "colab": {
          "base_uri": "https://localhost:8080/",
          "height": 489
        },
        "id": "oTfQfQSRzFc9",
        "outputId": "031ee2f9-4878-480b-ece5-e943d09e1eb6"
      },
      "source": [
        "# Plot trip distance to check outliers\n",
        "plt.figure(figsize = (10,6))\n",
        "sns.boxplot(\"Trip_distance\", data = pandastaxi_data, orient = \"v\")\n",
        "plt.tick_params(labelsize = 20)\n",
        "plt.ylabel(\"Trip distance(minutes)\", fontsize = 20)\n",
        "plt.show()"
      ],
      "execution_count": 16,
      "outputs": [
        {
          "output_type": "stream",
          "text": [
            "/usr/local/lib/python3.7/dist-packages/seaborn/_decorators.py:43: FutureWarning: Pass the following variable as a keyword arg: x. From version 0.12, the only valid positional argument will be `data`, and passing other arguments without an explicit keyword will result in an error or misinterpretation.\n",
            "  FutureWarning\n",
            "/usr/local/lib/python3.7/dist-packages/seaborn/_core.py:1319: UserWarning: Vertical orientation ignored with only `x` specified.\n",
            "  warnings.warn(single_var_warning.format(\"Vertical\", \"x\"))\n"
          ],
          "name": "stderr"
        },
        {
          "output_type": "display_data",
          "data": {
            "image/png": "[encoded data removed]",
            "text/plain": [
              "<Figure size 720x432 with 1 Axes>"
            ]
          },
          "metadata": {
            "tags": [],
            "needs_background": "light"
          }
        }
      ]
    },
    {
      "cell_type": "markdown",
      "metadata": {
        "id": "YrpLquKvjlJ6"
      },
      "source": [
        "Study: There are some outliers but we should be looked deep into it"
      ]
    },
    {
      "cell_type": "code",
      "metadata": {
        "colab": {
          "base_uri": "https://localhost:8080/"
        },
        "id": "q13UNvDGhsjM",
        "outputId": "c215f636-3226-432a-f722-867e72239f80"
      },
      "source": [
        "# We investigate Quartiles (0-100)\n",
        "quantile_tripDistance = pandastaxi_data.Trip_distance.quantile(np.round(np.arange(0.00, 1.01, 0.01), 2))\n",
        "qValues = np.round(np.arange(0.00, 1.01, 0.1), 2)\n",
        "for i in qValues:\n",
        "    print(\"{}th percentile value of trip distance is {}miles\".format(int(i*100), quantile_tripDistance[i]))"
      ],
      "execution_count": 17,
      "outputs": [
        {
          "output_type": "stream",
          "text": [
            "0th percentile value of trip distance is 0.0miles\n",
            "10th percentile value of trip distance is 0.61miles\n",
            "20th percentile value of trip distance is 0.88miles\n",
            "30th percentile value of trip distance is 1.1miles\n",
            "40th percentile value of trip distance is 1.4miles\n",
            "50th percentile value of trip distance is 1.76miles\n",
            "60th percentile value of trip distance is 2.24miles\n",
            "70th percentile value of trip distance is 2.92miles\n",
            "80th percentile value of trip distance is 3.95miles\n",
            "90th percentile value of trip distance is 5.98miles\n",
            "100th percentile value of trip distance is 235.5miles\n"
          ],
          "name": "stdout"
        }
      ]
    },
    {
      "cell_type": "markdown",
      "metadata": {
        "id": "c71X5eR6kAaV"
      },
      "source": [
        "90th percentile is 5.98 and 100th is 235.5 so there are outliers and further investigate between 90 to 100"
      ]
    },
    {
      "cell_type": "code",
      "metadata": {
        "colab": {
          "base_uri": "https://localhost:8080/"
        },
        "id": "_9rtO_paid5o",
        "outputId": "7e54b455-1088-4113-a22b-edf86d5da0b5"
      },
      "source": [
        "quantile_tripDistance = pandastaxi_data.Trip_distance.quantile(np.round(np.arange(0.991, 1.001, 0.001), 4))\n",
        "qValues = np.round(np.arange(0.991, 1.001, 0.001), 3)\n",
        "for i in qValues:\n",
        "    print(\"{} percentile value of trip distance is {}miles\".format((i*100), quantile_tripDistance[i]))"
      ],
      "execution_count": 19,
      "outputs": [
        {
          "output_type": "stream",
          "text": [
            "99.1 percentile value of trip distance is 14.317920000000159miles\n",
            "99.2 percentile value of trip distance is 14.850000000000001miles\n",
            "99.3 percentile value of trip distance is 15.310000000000002miles\n",
            "99.4 percentile value of trip distance is 15.9miles\n",
            "99.5 percentile value of trip distance is 16.84miles\n",
            "99.6 percentile value of trip distance is 17.7miles\n",
            "99.7 percentile value of trip distance is 18.45miles\n",
            "99.8 percentile value of trip distance is 19.660000000000004miles\n",
            "99.9 percentile value of trip distance is 22.80264000000316miles\n",
            "100.0 percentile value of trip distance is 235.5miles\n"
          ],
          "name": "stdout"
        }
      ]
    },
    {
      "cell_type": "markdown",
      "metadata": {
        "id": "PxDP-zWVkLhH"
      },
      "source": [
        "Study: since 99.9 percentile is 22.8 and 100 is 235.5, so we will remove anything above 22.8"
      ]
    },
    {
      "cell_type": "code",
      "metadata": {
        "colab": {
          "base_uri": "https://localhost:8080/"
        },
        "id": "qUlWwyKji4EA",
        "outputId": "64f756f8-f9b7-4601-a459-293950cdf168"
      },
      "source": [
        "# Remove data with outliers of trip distance\n",
        "\n",
        "data_tripdistance=taxi_data.where(\"Trip_distance < 22.8\")\n",
        "\n",
        "print((data_tripdistance.count(), len(data_tripdistance.columns)))\n"
      ],
      "execution_count": 22,
      "outputs": [
        {
          "output_type": "stream",
          "text": [
            "(1509212, 21)\n"
          ],
          "name": "stdout"
        }
      ]
    },
    {
      "cell_type": "code",
      "metadata": {
        "id": "PCKsX43Ykich"
      },
      "source": [
        "# "
      ],
      "execution_count": null,
      "outputs": []
    }
  ]
}