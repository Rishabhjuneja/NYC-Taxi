{
  "nbformat": 4,
  "nbformat_minor": 0,
  "metadata": {
    "colab": {
      "name": "NYC Taxi - Prediction Model.ipynb",
      "provenance": [],
      "collapsed_sections": [],
      "authorship_tag": "ABX9TyNAiCrZb5DGrLEZg7SU6cA6",
      "include_colab_link": true
    },
    "kernelspec": {
      "name": "python3",
      "display_name": "Python 3"
    },
    "language_info": {
      "name": "python"
    }
  },
  "cells": [
    {
      "cell_type": "markdown",
      "metadata": {
        "id": "view-in-github",
        "colab_type": "text"
      },
      "source": [
        "<a href=\"https://colab.research.google.com/github/Rishabhjuneja/NYC-Taxi/blob/main/NYC_Taxi_Prediction_Model.ipynb\" target=\"_parent\"><img src=\"https://colab.research.google.com/assets/colab-badge.svg\" alt=\"Open In Colab\"/></a>"
      ]
    },
    {
      "cell_type": "markdown",
      "metadata": {
        "id": "ivzSDMXYj670"
      },
      "source": [
        "# Data: NYC Taxi (Green Trip data Feb 2016)\n",
        "# Questions asked:\n",
        "1. Download the data, load it into python. Report the number of rows and columns that you've loaded.\n",
        "\n",
        "2. Visualize trip distance by time of day in any way you see fit, any observations?\n",
        "\n",
        "3. What are the most popular pickup locations on weekends vs weekdays?\n",
        "\n",
        "4. Build a model to forecast the number of trips by hour for the next 12 hours after Feb 12th 10:00 am. How well did you do?\n",
        "\n",
        "\n",
        "Created By: Rishabh Juneja \n",
        "\n",
        "Date: 9th Aug 2021 \n",
        "\n",
        "Company: Gale Partners"
      ]
    },
    {
      "cell_type": "code",
      "metadata": {
        "id": "tiAAwOnU2Imt"
      },
      "source": [
        "# innstall java\n",
        "!apt-get install openjdk-8-jdk-headless -qq > /dev/null\n",
        "\n",
        "# install spark (change the version number if needed)\n",
        "!wget -q https://archive.apache.org/dist/spark/spark-3.0.0/spark-3.0.0-bin-hadoop3.2.tgz\n",
        "\n",
        "# unzip the spark file to the current folder\n",
        "!tar xf spark-3.0.0-bin-hadoop3.2.tgz\n",
        "\n",
        "!pip install -q findspark"
      ],
      "execution_count": null,
      "outputs": []
    },
    {
      "cell_type": "code",
      "metadata": {
        "id": "Zi9THTN12Oha"
      },
      "source": [
        "import os\n",
        "os.environ[\"JAVA_HOME\"] = \"/usr/lib/jvm/java-8-openjdk-amd64\"\n",
        "os.environ[\"SPARK_HOME\"] = \"/content/spark-3.0.0-bin-hadoop3.2\""
      ],
      "execution_count": null,
      "outputs": []
    },
    {
      "cell_type": "code",
      "metadata": {
        "id": "Mm2PG5_J3AwN"
      },
      "source": [
        "# Create spark session\n",
        "import findspark\n",
        "findspark.init()\n",
        "from pyspark.sql import SparkSession\n",
        "spark = SparkSession.builder.master(\"local[*]\").getOrCreate()"
      ],
      "execution_count": null,
      "outputs": []
    },
    {
      "cell_type": "code",
      "metadata": {
        "id": "lVxFxGtBh5jE"
      },
      "source": [
        "#Import Libraries\n",
        "from pyspark.sql import functions as F\n",
        "import pandas as pd\n",
        "import matplotlib.pyplot as plt\n",
        "import pandas as pd\n",
        "import matplotlib.pyplot as plt\n",
        "import numpy as np\n",
        "import seaborn as sns\n",
        "\n",
        "from datetime import datetime\n",
        "from sklearn.cluster import MiniBatchKMeans, KMeans\n",
        "import warnings\n",
        "import itertools\n",
        "import statsmodels.api as sm\n",
        "from sklearn.metrics import mean_absolute_error\n",
        "from sklearn.metrics import mean_squared_error\n",
        "import time\n",
        "import folium\n",
        "from folium import Choropleth ,  Circle, Marker\n",
        "import datetime as dt\n",
        "import xgboost as xgb\n",
        "from sklearn.datasets import load_boston\n",
        "from sklearn.model_selection import train_test_split\n",
        "from sklearn.model_selection import cross_val_score, KFold\n",
        "from sklearn.metrics import mean_squared_error\n",
        "import matplotlib.pyplot as plt "
      ],
      "execution_count": null,
      "outputs": []
    },
    {
      "cell_type": "code",
      "metadata": {
        "id": "T1eREp_Umgd9"
      },
      "source": [
        "# UDF to convert day to day type \n",
        "def time_of_day(x):\n",
        "    if x in range(6,12):\n",
        "        return 'Morning'\n",
        "    elif x in range(12,16):\n",
        "        return 'Afternoon'\n",
        "    elif x in range(16,22):\n",
        "        return 'Evening'\n",
        "    else:\n",
        "        return 'Late night'"
      ],
      "execution_count": null,
      "outputs": []
    },
    {
      "cell_type": "code",
      "metadata": {
        "id": "0ZqCGsQh3QgN"
      },
      "source": [
        "file_loc='./green_tripdata_2016-02.csv'\n",
        "taxi_data = spark.read.csv(file_loc, inferSchema=True, header =True)"
      ],
      "execution_count": null,
      "outputs": []
    },
    {
      "cell_type": "code",
      "metadata": {
        "id": "bK3JW-2C3gT4"
      },
      "source": [
        "taxi_data.show(5)"
      ],
      "execution_count": null,
      "outputs": []
    },
    {
      "cell_type": "code",
      "metadata": {
        "id": "4hqJjKoy4OiT"
      },
      "source": [
        "# check number of rows & Coloums \n",
        "\n",
        "print((taxi_data.count(), len(taxi_data.columns)))"
      ],
      "execution_count": null,
      "outputs": []
    },
    {
      "cell_type": "code",
      "metadata": {
        "id": "UWc_Jkm4hAhC"
      },
      "source": [
        "# Check any missing values \n",
        "\n",
        "from pyspark.sql.functions import lit\n",
        "\n",
        "rows = taxi_data.count()\n",
        "summary = taxi_data.describe().filter(F.col(\"summary\") == \"count\")\n",
        "summary.select(*((F.lit(rows)-F.col(c)).alias(c) for c in taxi_data.columns)).show()"
      ],
      "execution_count": null,
      "outputs": []
    },
    {
      "cell_type": "markdown",
      "metadata": {
        "id": "IxHKvRuLkzU6"
      },
      "source": [
        "Insights: There is no Missing values in dataset "
      ]
    },
    {
      "cell_type": "code",
      "metadata": {
        "id": "bl7GPaj7hiyA"
      },
      "source": [
        "# Descriptive Statistics\n",
        "\n",
        "desc=taxi_data.describe()\n",
        "\n",
        "desc.show()\n",
        " "
      ],
      "execution_count": null,
      "outputs": []
    },
    {
      "cell_type": "markdown",
      "metadata": {
        "id": "Mo_wxeJdjzVz"
      },
      "source": [
        "Insights: There seems to be outliers in differenet coloums such as  trip distance , fare amount, extra , mat tax should be .5 , trip amount "
      ]
    },
    {
      "cell_type": "code",
      "metadata": {
        "id": "v3OHwx-iiS3n"
      },
      "source": [
        "# Check quantile to deepdive check for outliers\n",
        "pandastaxi_data = taxi_data.toPandas()\n",
        "pandastaxi_data.quantile(q=0.5, axis=0, numeric_only=True, interpolation='linear')"
      ],
      "execution_count": null,
      "outputs": []
    },
    {
      "cell_type": "code",
      "metadata": {
        "id": "YAtMcA3chmjW"
      },
      "source": [
        "# Convert to pandas for plotting graphs and checking outliers\n",
        "pandas_taxi_data = taxi_data.toPandas()"
      ],
      "execution_count": null,
      "outputs": []
    },
    {
      "cell_type": "markdown",
      "metadata": {
        "id": "1hVf6Q3LmIlx"
      },
      "source": [
        "# Check Trip Distance for outliers"
      ]
    },
    {
      "cell_type": "code",
      "metadata": {
        "id": "oTfQfQSRzFc9"
      },
      "source": [
        "# Plot trip distance to check outliers\n",
        "plt.figure(figsize = (8,5))\n",
        "sns.boxplot(\"Trip_distance\", data = pandas_taxi_data, orient = \"v\")\n",
        "plt.tick_params(labelsize = 10)\n",
        "plt.ylabel(\"Trip_distance\", fontsize = 10)\n",
        "plt.show()"
      ],
      "execution_count": null,
      "outputs": []
    },
    {
      "cell_type": "markdown",
      "metadata": {
        "id": "YrpLquKvjlJ6"
      },
      "source": [
        "Study: There are some outliers but we should be looked deep into it"
      ]
    },
    {
      "cell_type": "code",
      "metadata": {
        "id": "q13UNvDGhsjM"
      },
      "source": [
        "# We investigate Quartiles (0-100)\n",
        "tripDistance_quatile = pandas_taxi_data.Trip_distance.quantile(np.round(np.arange(0.00, 1.01, 0.01), 2))\n",
        "values_q = np.round(np.arange(0.00, 1.01, 0.1), 2)\n",
        "for i in values_q:\n",
        "    print(\"{} miles are in {} percentile \".format( tripDistance_quatile[i],int(i*100)))"
      ],
      "execution_count": null,
      "outputs": []
    },
    {
      "cell_type": "markdown",
      "metadata": {
        "id": "c71X5eR6kAaV"
      },
      "source": [
        "90th percentile is 5.98 and 100th is 235.5 so there are outliers and further investigate between 90 to 100"
      ]
    },
    {
      "cell_type": "code",
      "metadata": {
        "id": "_9rtO_paid5o"
      },
      "source": [
        "tripDistance_quatile = pandas_taxi_data.Trip_distance.quantile(np.round(np.arange(0.991, 1.001, 0.001), 4))\n",
        "values_q = np.round(np.arange(0.991, 1.001, 0.001), 3)\n",
        "for i in values_q:\n",
        "    print(\"{} miles are in {} percentile \".format( tripDistance_quatile[i],int(i*100)))"
      ],
      "execution_count": null,
      "outputs": []
    },
    {
      "cell_type": "markdown",
      "metadata": {
        "id": "PxDP-zWVkLhH"
      },
      "source": [
        "Insights: since 99.9 percentile is 22.8 and 100 is 235.5, so we will remove anything above 22.8"
      ]
    },
    {
      "cell_type": "code",
      "metadata": {
        "id": "qUlWwyKji4EA"
      },
      "source": [
        "# Remove data with outliers of trip distance\n",
        "\n",
        "data_tripdistance=taxi_data.where(\"Trip_distance < 22.8\")\n",
        "\n",
        "print((data_tripdistance.count(), len(data_tripdistance.columns)))\n"
      ],
      "execution_count": null,
      "outputs": []
    },
    {
      "cell_type": "markdown",
      "metadata": {
        "id": "XkP24phmmDTB"
      },
      "source": [
        "# Check fare Amount for outliers"
      ]
    },
    {
      "cell_type": "code",
      "metadata": {
        "id": "xRAfx9SZlel7"
      },
      "source": [
        "# Plot Fare_amount to check outliers\n",
        "plt.figure(figsize = (10,6))\n",
        "sns.boxplot(\"Fare_amount\", data = pandas_taxi_data, orient = \"v\")\n",
        "plt.tick_params(labelsize = 20)\n",
        "plt.ylabel(\"Fare_amount\", fontsize = 20)\n",
        "plt.show()"
      ],
      "execution_count": null,
      "outputs": []
    },
    {
      "cell_type": "markdown",
      "metadata": {
        "id": "3LBAi-YwmFO7"
      },
      "source": [
        "Assumption: fare cant be negative so remove them and some outliers also"
      ]
    },
    {
      "cell_type": "code",
      "metadata": {
        "id": "sRmRCly6lnN-"
      },
      "source": [
        "Fare_amount_quatile = pandas_taxi_data.Fare_amount.quantile(np.round(np.arange(0.00, 1.01, 0.01), 2))\n",
        "values_q = np.round(np.arange(0.00, 1.01, 0.1), 2)\n",
        "for i in values_q:\n",
        "    print(\"{} miles are in {} percentile \".format( Fare_amount_quatile[i],int(i*100)))"
      ],
      "execution_count": null,
      "outputs": []
    },
    {
      "cell_type": "code",
      "metadata": {
        "id": "Lc_EDvqEmTJG"
      },
      "source": [
        "Fare_amount_quatile = pandas_taxi_data.Fare_amount.quantile(np.round(np.arange(0.991, 1.001, 0.001), 3))\n",
        "values_q = np.round(np.arange(0.991, 1.001, 0.001), 3)\n",
        "for i in qValues:\n",
        "    print(\"{} miles are in {} percentile \".format( Fare_amount_quatile[i],int(i*100)))"
      ],
      "execution_count": null,
      "outputs": []
    },
    {
      "cell_type": "markdown",
      "metadata": {
        "id": "_oErhBcrnuzz"
      },
      "source": [
        "Insights: remove anything elow 0 and above 77.5"
      ]
    },
    {
      "cell_type": "code",
      "metadata": {
        "id": "XSDKQrPFmlx0"
      },
      "source": [
        "# Remove data with outliers of fare amount\n",
        "\n",
        "data_fareamount=data_tripdistance.where(\"Fare_amount between 0 and 77.5\")\n",
        "\n",
        "print((data_fareamount.count(), len(data_fareamount.columns)))\n"
      ],
      "execution_count": null,
      "outputs": []
    },
    {
      "cell_type": "markdown",
      "metadata": {
        "id": "p_8nVDLfmUeK"
      },
      "source": [
        "# Total Amount Outliers"
      ]
    },
    {
      "cell_type": "code",
      "metadata": {
        "id": "b8etpH6-oD2M"
      },
      "source": [
        "total_amount_quatile = pandas_taxi_data.Total_amount.quantile(np.round(np.arange(0.00, 1.01, 0.01), 2))\n",
        "values_q = np.round(np.arange(0.00, 1.01, 0.1), 2)\n",
        "for i in values_q:\n",
        "    print(\"{} miles are in {} percentile \".format( total_amount_quatile[i],int(i*100)))"
      ],
      "execution_count": null,
      "outputs": []
    },
    {
      "cell_type": "code",
      "metadata": {
        "id": "dMuPA4jsovbR"
      },
      "source": [
        "total_amount_quatile = pandas_taxi_data.Total_amount.quantile(np.round(np.arange(0.991, 1.001, 0.001), 3))\n",
        "values_q = np.round(np.arange(0.991, 1.001, 0.001), 3)\n",
        "for i in qValues:\n",
        "    print(\"{} miles are in {} percentile \".format( total_amount_quatile[i],int(i*100)))"
      ],
      "execution_count": null,
      "outputs": []
    },
    {
      "cell_type": "markdown",
      "metadata": {
        "id": "u_IKV3Y7o6-x"
      },
      "source": [
        "Study: Remove anything below 0 and above 92.2"
      ]
    },
    {
      "cell_type": "code",
      "metadata": {
        "id": "P8EBNfQPo6AC"
      },
      "source": [
        "# Remove data with outliers of trip distance\n",
        "\n",
        "data_distance=data_tripdistance.where(\"Total_amount between 0 and  22.8\")\n",
        "\n",
        "print((data_distance.count(), len(data_distance.columns)))\n"
      ],
      "execution_count": null,
      "outputs": []
    },
    {
      "cell_type": "markdown",
      "metadata": {
        "id": "96S_AY4AmX-j"
      },
      "source": [
        "# Other Outliers "
      ]
    },
    {
      "cell_type": "code",
      "metadata": {
        "id": "uAXeV-6Jo4kL"
      },
      "source": [
        "# Remove other outliers such as ratecodeid can't be >6 , MTA tax is 0.5, imrovement chargers is 0.3\n",
        "\n",
        "taxi_data_no_outlier=data_distance.where(\"RateCodeID < 7\").where(\"MTA_tax  = 0.5\").where(\"improvement_surcharge = 0.3\")\n",
        "\n",
        "\n",
        "print((taxi_data_no_outlier.count(), len(taxi_data_no_outlier.columns)))\n"
      ],
      "execution_count": null,
      "outputs": []
    },
    {
      "cell_type": "markdown",
      "metadata": {
        "id": "A8mLbOPhpzVy"
      },
      "source": [
        "Next Steps: Could have looked into other abnormalities like lat and long"
      ]
    },
    {
      "cell_type": "markdown",
      "metadata": {
        "id": "mTEwNvHImeUU"
      },
      "source": [
        "# Add new coloums for model & Data Analysis"
      ]
    },
    {
      "cell_type": "code",
      "metadata": {
        "id": "XRk3KiJwpkSZ"
      },
      "source": [
        "# get date and time coloum seprately for pickup and drop\n",
        "from pyspark.sql import functions as F\n",
        "\n",
        "split_col = F.split(taxi_data_no_outlier['lpep_pickup_datetime'], ' ')\n",
        "split_col2 = F.split(taxi_data_no_outlier['Lpep_dropoff_datetime'], ' ')\n",
        "taxi_data_no_outlier = taxi_data_no_outlier.withColumn('pickup_date', split_col.getItem(0)).withColumn('pickup_time', split_col.getItem(1)).withColumn('drop_date', split_col2.getItem(0)).withColumn('drop_time', split_col2.getItem(1))\n",
        "\n",
        "\n",
        "taxi_data_no_outlier.show(5)"
      ],
      "execution_count": null,
      "outputs": []
    },
    {
      "cell_type": "code",
      "metadata": {
        "id": "SL5xMybLrA8g"
      },
      "source": [
        "# Convert to pandas\n",
        "taxi_data_no_outlier_pandas = taxi_data_no_outlier.toPandas()"
      ],
      "execution_count": null,
      "outputs": []
    },
    {
      "cell_type": "code",
      "metadata": {
        "id": "--Wjx3BJrbMW"
      },
      "source": [
        "# Change date time to datetime format\n",
        "taxi_data_no_outlier_pandas['pickup_datetime']=pd.to_datetime(taxi_data_no_outlier_pandas['lpep_pickup_datetime'])\n",
        "taxi_data_no_outlier_pandas['dropoff_datetime']=pd.to_datetime(taxi_data_no_outlier_pandas['Lpep_dropoff_datetime'])\n",
        "\n",
        "# Get day\n",
        "taxi_data_no_outlier_pandas['pickup_day_number']=taxi_data_no_outlier_pandas['pickup_datetime'].dt.weekday\n",
        "taxi_data_no_outlier_pandas['dropoff_day_number']=taxi_data_no_outlier_pandas['dropoff_datetime'].dt.weekday\n",
        "\n",
        "# Get hour \n",
        "taxi_data_no_outlier_pandas['pickup_hour']=taxi_data_no_outlier_pandas['pickup_datetime'].dt.hour\n",
        "taxi_data_no_outlier_pandas['dropoff_hour']=taxi_data_no_outlier_pandas['dropoff_datetime'].dt.hour\n",
        "\n",
        "# Get day name\n",
        "taxi_data_no_outlier_pandas['pickup_day']=taxi_data_no_outlier_pandas['pickup_datetime'].dt.day_name()\n",
        "taxi_data_no_outlier_pandas['dropoff_day']=taxi_data_no_outlier_pandas['dropoff_datetime'].dt.day_name()\n",
        "\n",
        "# Get time of day\n",
        "taxi_data_no_outlier_pandas['pickup_timeofday']=taxi_data_no_outlier_pandas['pickup_hour'].apply(time_of_day)\n",
        "taxi_data_no_outlier_pandas['dropoff_timeofday']=taxi_data_no_outlier_pandas['dropoff_hour'].apply(time_of_day)"
      ],
      "execution_count": null,
      "outputs": []
    },
    {
      "cell_type": "code",
      "metadata": {
        "cellView": "code",
        "id": "sqTgVthIamCz"
      },
      "source": [
        "# Display Data \n",
        "taxi_data_no_outlier_pandas"
      ],
      "execution_count": null,
      "outputs": []
    },
    {
      "cell_type": "markdown",
      "metadata": {
        "id": "cSBGcaa4m56T"
      },
      "source": [
        "# Data Analysis"
      ]
    },
    {
      "cell_type": "code",
      "metadata": {
        "id": "YRJl-Jbaa_gX"
      },
      "source": [
        "# Check pickup and drop of time of day trips\n",
        "\n",
        "figure,(ax9,ax10)=plt.subplots(ncols=2,figsize=(20,5))\n",
        "\n",
        "ax9.set_title('Pickup Days')\n",
        "ax=sns.countplot(x=\"pickup_hour\",data=taxi_data_no_outlier_pandas,ax=ax9)\n",
        "\n",
        "ax10.set_title('Dropoff Days')\n",
        "ax=sns.countplot(x=\"dropoff_hour\",data=taxi_data_no_outlier_pandas,ax=ax10)"
      ],
      "execution_count": null,
      "outputs": []
    },
    {
      "cell_type": "markdown",
      "metadata": {
        "id": "SvXqDXWYdzeF"
      },
      "source": [
        "Insights: 1. Pickup and drop are highest furing evening time i.e. between 4PM and 8 PM"
      ]
    },
    {
      "cell_type": "code",
      "metadata": {
        "id": "zU5ewYm4cPk-"
      },
      "source": [
        "sns.lineplot(data=taxi_data_no_outlier_pandas, x=\"pickup_hour\", y=\"Trip_distance\")"
      ],
      "execution_count": null,
      "outputs": []
    },
    {
      "cell_type": "markdown",
      "metadata": {
        "id": "kZw5yLuseJYG"
      },
      "source": [
        "Insights: trip distance is highest in morning at 5AM fllowed by it sees increase after 4PM till midnight"
      ]
    },
    {
      "cell_type": "code",
      "metadata": {
        "id": "Dl4k82M2ctSG"
      },
      "source": [
        "# Pickup vs amount\n",
        "sns.lineplot(data=taxi_data_no_outlier_pandas, x=\"pickup_hour\", y=\"Total_amount\")"
      ],
      "execution_count": null,
      "outputs": []
    },
    {
      "cell_type": "markdown",
      "metadata": {
        "id": "VqpWnz0ngVs8"
      },
      "source": [
        "Insights: trip amount shows similar behaviour as distance when compared to pikcup hour "
      ]
    },
    {
      "cell_type": "code",
      "metadata": {
        "id": "7c74pcrBefjR"
      },
      "source": [
        "# amount vs Day\n",
        "sns.lineplot(data=taxi_data_no_outlier_pandas, x=\"pickup_day\", y=\"Total_amount\")"
      ],
      "execution_count": null,
      "outputs": []
    },
    {
      "cell_type": "markdown",
      "metadata": {
        "id": "AmClIi8BhUmr"
      },
      "source": [
        "inisghts: Trip amount is highest on weekend i.e. sat & Sun "
      ]
    },
    {
      "cell_type": "code",
      "metadata": {
        "id": "FNH4xp3zjE9C"
      },
      "source": [
        "# amount vs distance\n",
        "sns.lineplot(data=taxi_data_no_outlier_pandas, x=\"Total_amount\", y=\"Trip_distance\")"
      ],
      "execution_count": null,
      "outputs": []
    },
    {
      "cell_type": "markdown",
      "metadata": {
        "id": "xkkrS9lV3QkR"
      },
      "source": [
        "Since there seems to correlation amoung variables we will test correlation"
      ]
    },
    {
      "cell_type": "code",
      "metadata": {
        "id": "UblJ0lrelvnc"
      },
      "source": [
        "# Plot data based on Lat and Long \n",
        "import plotly.express as px\n",
        "\n",
        "fig = px.scatter_mapbox(taxi_data_no_outlier_pandas, lat=\"Pickup_latitude\", lon=\"Pickup_longitude\", color=\"pickup_day\", zoom=10)\n",
        "fig.show()"
      ],
      "execution_count": null,
      "outputs": []
    },
    {
      "cell_type": "markdown",
      "metadata": {
        "id": "2OAjdsSrnGyx"
      },
      "source": [
        "# Check Correlation and Remove for Model"
      ]
    },
    {
      "cell_type": "code",
      "metadata": {
        "id": "BxPwNoCr22EO"
      },
      "source": [
        "corr_data=taxi_data_no_outlier_pandas.corr(method ='kendall')\n",
        "\n",
        "corr_data"
      ],
      "execution_count": null,
      "outputs": []
    },
    {
      "cell_type": "markdown",
      "metadata": {
        "id": "IsoNG05M6MyG"
      },
      "source": [
        "There is strong correlation between trip distance with fare amount and total amount so we will remove those variables and other non used variables"
      ]
    },
    {
      "cell_type": "markdown",
      "metadata": {
        "id": "LddYT_ThnNeB"
      },
      "source": [
        "# Remove correlated variables "
      ]
    },
    {
      "cell_type": "code",
      "metadata": {
        "id": "ejhP5f7dCR8j"
      },
      "source": [
        "# Select Coloums required \n",
        "clean_data_pandas=taxi_data_no_outlier_pandas[[\t'pickup_datetime'\t,'pickup_day_number',\t'pickup_hour'\t,'pickup_timeofday',\t'VendorID',\t'Store_and_fwd_flag',\t'RateCodeID',\t\t'Passenger_count',\t'Trip_distance'\t,'Payment_type']]\n",
        "\n"
      ],
      "execution_count": null,
      "outputs": []
    },
    {
      "cell_type": "code",
      "metadata": {
        "id": "fqKahRo1AE2B"
      },
      "source": [
        "import findspark\n",
        "findspark.init()\n",
        "from pyspark.sql import SparkSession\n",
        "spark = SparkSession.builder.master(\"local[*]\").getOrCreate()"
      ],
      "execution_count": null,
      "outputs": []
    },
    {
      "cell_type": "code",
      "metadata": {
        "id": "XzIgi5aABfFQ"
      },
      "source": [
        "# change pandas to spark dataframe\n",
        "cleaned_data = spark.createDataFrame(clean_data_pandas)"
      ],
      "execution_count": null,
      "outputs": []
    },
    {
      "cell_type": "markdown",
      "metadata": {
        "id": "lD47QgLwoDc8"
      },
      "source": [
        "# Check data is staionary or not"
      ]
    },
    {
      "cell_type": "code",
      "metadata": {
        "id": "fSRL3ivBEh2V"
      },
      "source": [
        "\n",
        "from matplotlib import pyplot\n",
        "import matplotlib.pyplot as plt\n",
        "clean_data_pandas.plot(x='pickup_datetime')\n",
        "pyplot.show()"
      ],
      "execution_count": null,
      "outputs": []
    },
    {
      "cell_type": "markdown",
      "metadata": {
        "id": "wSuiOP5PF9BM"
      },
      "source": [
        "Data is non staionary"
      ]
    },
    {
      "cell_type": "markdown",
      "metadata": {
        "id": "n9qigJ060cwY"
      },
      "source": [
        "# Create final table for Model"
      ]
    },
    {
      "cell_type": "code",
      "metadata": {
        "id": "JM0LBSu1x8Ox"
      },
      "source": [
        "# Change all coloums types of int or float\n",
        "cleaned_data_strflg=cleaned_data.withColumn(\"Store_and_fwd_code\", F.when(cleaned_data.Store_and_fwd_flag == 'N', F.lit(0)).otherwise(F.lit(1))).drop(\"Store_and_fwd_flag\")\n",
        "\n",
        "cleaned_data2=cleaned_data_strflg.withColumn(\"Class\",F.when(cleaned_data_strflg.pickup_timeofday == 'Morning', F.lit(1)).when(cleaned_data_strflg.pickup_timeofday == 'Afternoon',F.lit(1)).when(cleaned_data_strflg.pickup_timeofday == 'Evening',F.lit(2)).otherwise(3)).drop(\"pickup_timeofday\").distinct()\n",
        "\n",
        "cleaned_data2.distinct().count()"
      ],
      "execution_count": null,
      "outputs": []
    },
    {
      "cell_type": "code",
      "metadata": {
        "id": "Hgg04K7R00G-"
      },
      "source": [
        "# Add a coloum number of trips for forceasting\n",
        "\n",
        "trips=cleaned_data2.groupby(\"pickup_hour\",\"pickup_day_number\").agg(F.count(F.lit(1)).alias(\"trips\"))\n",
        "\n",
        "cleaned_data_final=cleaned_data2.join(trips,(cleaned_data2.pickup_hour==trips.pickup_hour) & (cleaned_data2.pickup_day_number==trips.pickup_day_number)).select(cleaned_data2[\"*\"],trips.trips)\n",
        "\n",
        "cleaned_data_final.distinct().count()"
      ],
      "execution_count": null,
      "outputs": []
    },
    {
      "cell_type": "code",
      "metadata": {
        "id": "llno2JPjByi2"
      },
      "source": [
        "# Check max and min pickup time for dividing between test and control \n",
        "cleaned_data.agg(F.min(\"pickup_datetime\").alias(\"min_date\"),F.max(\"pickup_datetime\").alias(\"max_date\")).show()"
      ],
      "execution_count": null,
      "outputs": []
    },
    {
      "cell_type": "code",
      "metadata": {
        "id": "ycSqj8VSy5rE"
      },
      "source": [
        "# Divide test and train (base on date Feb 12th 10:00 am)\n",
        "\n",
        "train=cleaned_data_final.where(\"pickup_datetime < '2016-02-12 10:00:00'\").drop(\"pickup_datetime\")\n",
        "\n",
        "test=cleaned_data_final.where(\"pickup_datetime between '2016-02-12 10:00:00' and '2016-02-12 22:00:00'\").drop(\"pickup_datetime\")"
      ],
      "execution_count": null,
      "outputs": []
    },
    {
      "cell_type": "code",
      "metadata": {
        "id": "8atJOqjA3W6k"
      },
      "source": [
        "# To pandas\n",
        "train_pandas = train.toPandas()\n",
        "test_pandas = test.toPandas()"
      ],
      "execution_count": null,
      "outputs": []
    },
    {
      "cell_type": "code",
      "metadata": {
        "id": "OT9xwlZFvhxy"
      },
      "source": [
        "# Divide data for model fit\n",
        "y_train = train_pandas['trips']\n",
        "x_train = train_pandas.drop(['trips'],axis=1)\n",
        "\n",
        "y_test = test_pandas['trips']\n",
        "x_test = test_pandas.drop(['trips'],axis=1)"
      ],
      "execution_count": null,
      "outputs": []
    },
    {
      "cell_type": "markdown",
      "metadata": {
        "id": "X5qL-5dl0htd"
      },
      "source": [
        "# Build Model, fit and test"
      ]
    },
    {
      "cell_type": "code",
      "metadata": {
        "id": "tSaZNZVws6Eu"
      },
      "source": [
        "# get Model details and run it\n",
        "xgbr = xgb.XGBRegressor(verbosity=0) \n",
        "print(xgbr)"
      ],
      "execution_count": null,
      "outputs": []
    },
    {
      "cell_type": "code",
      "metadata": {
        "id": "PLNDVY54tJFu"
      },
      "source": [
        "# Model fit\n",
        "xgbr.fit(x_train, y_train)"
      ],
      "execution_count": null,
      "outputs": []
    },
    {
      "cell_type": "code",
      "metadata": {
        "id": "NVv5KXuBtLE1"
      },
      "source": [
        "# get Training score\n",
        "score = xgbr.score(x_train, y_train)  \n",
        "print(\"Training score: \", score)"
      ],
      "execution_count": null,
      "outputs": []
    },
    {
      "cell_type": "markdown",
      "metadata": {
        "id": "dH6lTgqgzme2"
      },
      "source": [
        "Insights: Training scores are very high shows more accuracy of data"
      ]
    },
    {
      "cell_type": "code",
      "metadata": {
        "id": "oBv8YB_-5bUR"
      },
      "source": [
        "# Check cross validation score for 2nd check of model\n",
        "\n",
        "scores = cross_val_score(xgbr, x_train, y_train,cv=10)\n",
        "print(\"Mean cross-validation score: %.2f\" % scores.mean())\n"
      ],
      "execution_count": null,
      "outputs": []
    },
    {
      "cell_type": "markdown",
      "metadata": {
        "id": "q1tyawm2zwV9"
      },
      "source": [
        "Insights: Cross validation score is 90 % which makes sure model is effecient"
      ]
    },
    {
      "cell_type": "code",
      "metadata": {
        "id": "uXcctNWi538y"
      },
      "source": [
        "#Get RMSE Score\n",
        "y_pred = xgbr.predict(x_test)\n",
        "mse = mean_squared_error(y_test, y_pred)\n",
        "\n",
        "print(\"RMSE: %.2f\" % (mse**(1/2.0)))\n"
      ],
      "execution_count": null,
      "outputs": []
    },
    {
      "cell_type": "markdown",
      "metadata": {
        "id": "j0vTu3VHz_X9"
      },
      "source": [
        "Inisghts: RMSE score is "
      ]
    },
    {
      "cell_type": "code",
      "metadata": {
        "id": "AVX_jLrP6tgM"
      },
      "source": [
        "# Plot graph to check accuracy and difference between original and predicted \n",
        "x_ax = range(len(y_test))\n",
        "plt.plot(x_ax, y_test, label=\"original\")\n",
        "plt.plot(x_ax, y_pred, label=\"predicted\")\n",
        "plt.title(\"NYC Taxi trips prediction\")\n",
        "plt.legend()\n",
        "plt.show()"
      ],
      "execution_count": null,
      "outputs": []
    },
    {
      "cell_type": "markdown",
      "metadata": {
        "id": "Psf94c370HZ3"
      },
      "source": [
        "Insights: graph clearly states that model is predicting values very close to original "
      ]
    },
    {
      "cell_type": "code",
      "metadata": {
        "id": "yDomd9P516r9"
      },
      "source": [
        ""
      ],
      "execution_count": null,
      "outputs": []
    }
  ]
}